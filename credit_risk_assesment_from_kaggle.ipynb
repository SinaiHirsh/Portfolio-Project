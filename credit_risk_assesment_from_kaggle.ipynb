{
 "cells": [
  {
   "cell_type": "markdown",
   "id": "7c1d5f6f-9858-49d7-9898-ab1648a81f3b",
   "metadata": {},
   "source": [
    "***Credit risk assessment***\n",
    "\n",
    "As a portfolio project summarises the course, I chose to concentrate on a problem of credit risk prediction. The data was taken from Kaggle, as well as some of the codebase.  \n",
    "\n",
    "Our goal is to predict the probability of default based on a set of input variables. We will use logistic regression, so each observation gets a value between 0 and 1 - which is the probability of default. \n",
    "\n",
    "We will use Grid Search for hyperparameter tuning, to ensure that we get the best combination of hyperparameters that make the accuracy the highest. \n",
    "\n",
    "\n"
   ]
  },
  {
   "cell_type": "code",
   "execution_count": null,
   "id": "1e21f692-6c03-48e0-9170-c6e171ae9f4c",
   "metadata": {},
   "outputs": [],
   "source": []
  },
  {
   "cell_type": "code",
   "execution_count": null,
   "id": "a417028a-a270-4841-a78a-68342fc97b43",
   "metadata": {},
   "outputs": [],
   "source": []
  },
  {
   "cell_type": "code",
   "execution_count": null,
   "id": "e67be6f6-7d31-412d-bb40-c833e88ff8aa",
   "metadata": {},
   "outputs": [],
   "source": []
  },
  {
   "cell_type": "code",
   "execution_count": 138,
   "id": "03e7d682-63ad-4185-b940-b08496762ab6",
   "metadata": {},
   "outputs": [],
   "source": [
    "import pandas as pd\n",
    "from pandas import *\n",
    "import numpy as np\n",
    "from sklearn import *\n",
    "from sklearn.preprocessing import StandardScaler\n",
    "from sklearn.linear_model import LogisticRegression\n",
    "from sklearn.metrics import *\n",
    "import matplotlib.pyplot as plt\n"
   ]
  },
  {
   "cell_type": "code",
   "execution_count": null,
   "id": "81bd3cf2-1011-4923-b4df-0c8240c3652d",
   "metadata": {},
   "outputs": [],
   "source": []
  },
  {
   "cell_type": "markdown",
   "id": "01cf892d-afdf-4f32-910c-682491080bb9",
   "metadata": {},
   "source": [
    "We will use data from https://www.kaggle.com/datasets/urvishvekariya/credit-risk-assessment?datasetId=2995523  \n",
    "The data consists of 32,581 records of loans.  \n",
    "According to the information on Kaggle, the data was last updated 3 months ago.  "
   ]
  },
  {
   "cell_type": "code",
   "execution_count": 139,
   "id": "d2cab8bd-4eaf-46e7-8887-feb044acbe22",
   "metadata": {},
   "outputs": [],
   "source": [
    "df=pd.read_csv('credit_risk_dataset.csv')"
   ]
  },
  {
   "cell_type": "code",
   "execution_count": 140,
   "id": "9c5ca29c-5eb5-4117-979f-58279b53949f",
   "metadata": {},
   "outputs": [
    {
     "data": {
      "text/html": [
       "<div>\n",
       "<style scoped>\n",
       "    .dataframe tbody tr th:only-of-type {\n",
       "        vertical-align: middle;\n",
       "    }\n",
       "\n",
       "    .dataframe tbody tr th {\n",
       "        vertical-align: top;\n",
       "    }\n",
       "\n",
       "    .dataframe thead th {\n",
       "        text-align: right;\n",
       "    }\n",
       "</style>\n",
       "<table border=\"1\" class=\"dataframe\">\n",
       "  <thead>\n",
       "    <tr style=\"text-align: right;\">\n",
       "      <th></th>\n",
       "      <th>person_age</th>\n",
       "      <th>person_income</th>\n",
       "      <th>person_home_ownership</th>\n",
       "      <th>person_emp_length</th>\n",
       "      <th>loan_intent</th>\n",
       "      <th>loan_amnt</th>\n",
       "      <th>loan_int_rate</th>\n",
       "      <th>loan_status</th>\n",
       "      <th>loan_percent_income</th>\n",
       "      <th>cb_person_default_on_file</th>\n",
       "      <th>cb_person_cred_hist_length</th>\n",
       "    </tr>\n",
       "  </thead>\n",
       "  <tbody>\n",
       "    <tr>\n",
       "      <th>0</th>\n",
       "      <td>22</td>\n",
       "      <td>59000</td>\n",
       "      <td>RENT</td>\n",
       "      <td>123.0</td>\n",
       "      <td>PERSONAL</td>\n",
       "      <td>35000</td>\n",
       "      <td>16.02</td>\n",
       "      <td>1</td>\n",
       "      <td>0.59</td>\n",
       "      <td>Y</td>\n",
       "      <td>3</td>\n",
       "    </tr>\n",
       "    <tr>\n",
       "      <th>1</th>\n",
       "      <td>21</td>\n",
       "      <td>9600</td>\n",
       "      <td>OWN</td>\n",
       "      <td>5.0</td>\n",
       "      <td>EDUCATION</td>\n",
       "      <td>1000</td>\n",
       "      <td>11.14</td>\n",
       "      <td>0</td>\n",
       "      <td>0.10</td>\n",
       "      <td>N</td>\n",
       "      <td>2</td>\n",
       "    </tr>\n",
       "    <tr>\n",
       "      <th>2</th>\n",
       "      <td>25</td>\n",
       "      <td>9600</td>\n",
       "      <td>MORTGAGE</td>\n",
       "      <td>1.0</td>\n",
       "      <td>MEDICAL</td>\n",
       "      <td>5500</td>\n",
       "      <td>12.87</td>\n",
       "      <td>1</td>\n",
       "      <td>0.57</td>\n",
       "      <td>N</td>\n",
       "      <td>3</td>\n",
       "    </tr>\n",
       "    <tr>\n",
       "      <th>3</th>\n",
       "      <td>23</td>\n",
       "      <td>65500</td>\n",
       "      <td>RENT</td>\n",
       "      <td>4.0</td>\n",
       "      <td>MEDICAL</td>\n",
       "      <td>35000</td>\n",
       "      <td>15.23</td>\n",
       "      <td>1</td>\n",
       "      <td>0.53</td>\n",
       "      <td>N</td>\n",
       "      <td>2</td>\n",
       "    </tr>\n",
       "    <tr>\n",
       "      <th>4</th>\n",
       "      <td>24</td>\n",
       "      <td>54400</td>\n",
       "      <td>RENT</td>\n",
       "      <td>8.0</td>\n",
       "      <td>MEDICAL</td>\n",
       "      <td>35000</td>\n",
       "      <td>14.27</td>\n",
       "      <td>1</td>\n",
       "      <td>0.55</td>\n",
       "      <td>Y</td>\n",
       "      <td>4</td>\n",
       "    </tr>\n",
       "    <tr>\n",
       "      <th>5</th>\n",
       "      <td>21</td>\n",
       "      <td>9900</td>\n",
       "      <td>OWN</td>\n",
       "      <td>2.0</td>\n",
       "      <td>VENTURE</td>\n",
       "      <td>2500</td>\n",
       "      <td>7.14</td>\n",
       "      <td>1</td>\n",
       "      <td>0.25</td>\n",
       "      <td>N</td>\n",
       "      <td>2</td>\n",
       "    </tr>\n",
       "    <tr>\n",
       "      <th>6</th>\n",
       "      <td>26</td>\n",
       "      <td>77100</td>\n",
       "      <td>RENT</td>\n",
       "      <td>8.0</td>\n",
       "      <td>EDUCATION</td>\n",
       "      <td>35000</td>\n",
       "      <td>12.42</td>\n",
       "      <td>1</td>\n",
       "      <td>0.45</td>\n",
       "      <td>N</td>\n",
       "      <td>3</td>\n",
       "    </tr>\n",
       "    <tr>\n",
       "      <th>7</th>\n",
       "      <td>24</td>\n",
       "      <td>78956</td>\n",
       "      <td>RENT</td>\n",
       "      <td>5.0</td>\n",
       "      <td>MEDICAL</td>\n",
       "      <td>35000</td>\n",
       "      <td>11.11</td>\n",
       "      <td>1</td>\n",
       "      <td>0.44</td>\n",
       "      <td>N</td>\n",
       "      <td>4</td>\n",
       "    </tr>\n",
       "    <tr>\n",
       "      <th>8</th>\n",
       "      <td>24</td>\n",
       "      <td>83000</td>\n",
       "      <td>RENT</td>\n",
       "      <td>8.0</td>\n",
       "      <td>PERSONAL</td>\n",
       "      <td>35000</td>\n",
       "      <td>8.90</td>\n",
       "      <td>1</td>\n",
       "      <td>0.42</td>\n",
       "      <td>N</td>\n",
       "      <td>2</td>\n",
       "    </tr>\n",
       "    <tr>\n",
       "      <th>9</th>\n",
       "      <td>21</td>\n",
       "      <td>10000</td>\n",
       "      <td>OWN</td>\n",
       "      <td>6.0</td>\n",
       "      <td>VENTURE</td>\n",
       "      <td>1600</td>\n",
       "      <td>14.74</td>\n",
       "      <td>1</td>\n",
       "      <td>0.16</td>\n",
       "      <td>N</td>\n",
       "      <td>3</td>\n",
       "    </tr>\n",
       "  </tbody>\n",
       "</table>\n",
       "</div>"
      ],
      "text/plain": [
       "   person_age  person_income person_home_ownership  person_emp_length  \\\n",
       "0          22          59000                  RENT              123.0   \n",
       "1          21           9600                   OWN                5.0   \n",
       "2          25           9600              MORTGAGE                1.0   \n",
       "3          23          65500                  RENT                4.0   \n",
       "4          24          54400                  RENT                8.0   \n",
       "5          21           9900                   OWN                2.0   \n",
       "6          26          77100                  RENT                8.0   \n",
       "7          24          78956                  RENT                5.0   \n",
       "8          24          83000                  RENT                8.0   \n",
       "9          21          10000                   OWN                6.0   \n",
       "\n",
       "  loan_intent  loan_amnt  loan_int_rate  loan_status  loan_percent_income  \\\n",
       "0    PERSONAL      35000          16.02            1                 0.59   \n",
       "1   EDUCATION       1000          11.14            0                 0.10   \n",
       "2     MEDICAL       5500          12.87            1                 0.57   \n",
       "3     MEDICAL      35000          15.23            1                 0.53   \n",
       "4     MEDICAL      35000          14.27            1                 0.55   \n",
       "5     VENTURE       2500           7.14            1                 0.25   \n",
       "6   EDUCATION      35000          12.42            1                 0.45   \n",
       "7     MEDICAL      35000          11.11            1                 0.44   \n",
       "8    PERSONAL      35000           8.90            1                 0.42   \n",
       "9     VENTURE       1600          14.74            1                 0.16   \n",
       "\n",
       "  cb_person_default_on_file  cb_person_cred_hist_length  \n",
       "0                         Y                           3  \n",
       "1                         N                           2  \n",
       "2                         N                           3  \n",
       "3                         N                           2  \n",
       "4                         Y                           4  \n",
       "5                         N                           2  \n",
       "6                         N                           3  \n",
       "7                         N                           4  \n",
       "8                         N                           2  \n",
       "9                         N                           3  "
      ]
     },
     "execution_count": 140,
     "metadata": {},
     "output_type": "execute_result"
    }
   ],
   "source": [
    "df.head(10)"
   ]
  },
  {
   "cell_type": "code",
   "execution_count": 141,
   "id": "4a84bb29-5979-4e45-81a1-8ea2b2207934",
   "metadata": {},
   "outputs": [
    {
     "data": {
      "text/html": [
       "<div>\n",
       "<style scoped>\n",
       "    .dataframe tbody tr th:only-of-type {\n",
       "        vertical-align: middle;\n",
       "    }\n",
       "\n",
       "    .dataframe tbody tr th {\n",
       "        vertical-align: top;\n",
       "    }\n",
       "\n",
       "    .dataframe thead th {\n",
       "        text-align: right;\n",
       "    }\n",
       "</style>\n",
       "<table border=\"1\" class=\"dataframe\">\n",
       "  <thead>\n",
       "    <tr style=\"text-align: right;\">\n",
       "      <th></th>\n",
       "      <th>person_age</th>\n",
       "      <th>person_income</th>\n",
       "      <th>person_emp_length</th>\n",
       "      <th>loan_amnt</th>\n",
       "      <th>loan_int_rate</th>\n",
       "      <th>loan_status</th>\n",
       "      <th>loan_percent_income</th>\n",
       "      <th>cb_person_cred_hist_length</th>\n",
       "    </tr>\n",
       "  </thead>\n",
       "  <tbody>\n",
       "    <tr>\n",
       "      <th>count</th>\n",
       "      <td>32581.000000</td>\n",
       "      <td>3.258100e+04</td>\n",
       "      <td>31686.000000</td>\n",
       "      <td>32581.000000</td>\n",
       "      <td>29465.000000</td>\n",
       "      <td>32581.000000</td>\n",
       "      <td>32581.000000</td>\n",
       "      <td>32581.000000</td>\n",
       "    </tr>\n",
       "    <tr>\n",
       "      <th>mean</th>\n",
       "      <td>27.734600</td>\n",
       "      <td>6.607485e+04</td>\n",
       "      <td>4.789686</td>\n",
       "      <td>9589.371106</td>\n",
       "      <td>11.011695</td>\n",
       "      <td>0.218164</td>\n",
       "      <td>0.170203</td>\n",
       "      <td>5.804211</td>\n",
       "    </tr>\n",
       "    <tr>\n",
       "      <th>std</th>\n",
       "      <td>6.348078</td>\n",
       "      <td>6.198312e+04</td>\n",
       "      <td>4.142630</td>\n",
       "      <td>6322.086646</td>\n",
       "      <td>3.240459</td>\n",
       "      <td>0.413006</td>\n",
       "      <td>0.106782</td>\n",
       "      <td>4.055001</td>\n",
       "    </tr>\n",
       "    <tr>\n",
       "      <th>min</th>\n",
       "      <td>20.000000</td>\n",
       "      <td>4.000000e+03</td>\n",
       "      <td>0.000000</td>\n",
       "      <td>500.000000</td>\n",
       "      <td>5.420000</td>\n",
       "      <td>0.000000</td>\n",
       "      <td>0.000000</td>\n",
       "      <td>2.000000</td>\n",
       "    </tr>\n",
       "    <tr>\n",
       "      <th>25%</th>\n",
       "      <td>23.000000</td>\n",
       "      <td>3.850000e+04</td>\n",
       "      <td>2.000000</td>\n",
       "      <td>5000.000000</td>\n",
       "      <td>7.900000</td>\n",
       "      <td>0.000000</td>\n",
       "      <td>0.090000</td>\n",
       "      <td>3.000000</td>\n",
       "    </tr>\n",
       "    <tr>\n",
       "      <th>50%</th>\n",
       "      <td>26.000000</td>\n",
       "      <td>5.500000e+04</td>\n",
       "      <td>4.000000</td>\n",
       "      <td>8000.000000</td>\n",
       "      <td>10.990000</td>\n",
       "      <td>0.000000</td>\n",
       "      <td>0.150000</td>\n",
       "      <td>4.000000</td>\n",
       "    </tr>\n",
       "    <tr>\n",
       "      <th>75%</th>\n",
       "      <td>30.000000</td>\n",
       "      <td>7.920000e+04</td>\n",
       "      <td>7.000000</td>\n",
       "      <td>12200.000000</td>\n",
       "      <td>13.470000</td>\n",
       "      <td>0.000000</td>\n",
       "      <td>0.230000</td>\n",
       "      <td>8.000000</td>\n",
       "    </tr>\n",
       "    <tr>\n",
       "      <th>max</th>\n",
       "      <td>144.000000</td>\n",
       "      <td>6.000000e+06</td>\n",
       "      <td>123.000000</td>\n",
       "      <td>35000.000000</td>\n",
       "      <td>23.220000</td>\n",
       "      <td>1.000000</td>\n",
       "      <td>0.830000</td>\n",
       "      <td>30.000000</td>\n",
       "    </tr>\n",
       "  </tbody>\n",
       "</table>\n",
       "</div>"
      ],
      "text/plain": [
       "         person_age  person_income  person_emp_length     loan_amnt  \\\n",
       "count  32581.000000   3.258100e+04       31686.000000  32581.000000   \n",
       "mean      27.734600   6.607485e+04           4.789686   9589.371106   \n",
       "std        6.348078   6.198312e+04           4.142630   6322.086646   \n",
       "min       20.000000   4.000000e+03           0.000000    500.000000   \n",
       "25%       23.000000   3.850000e+04           2.000000   5000.000000   \n",
       "50%       26.000000   5.500000e+04           4.000000   8000.000000   \n",
       "75%       30.000000   7.920000e+04           7.000000  12200.000000   \n",
       "max      144.000000   6.000000e+06         123.000000  35000.000000   \n",
       "\n",
       "       loan_int_rate   loan_status  loan_percent_income  \\\n",
       "count   29465.000000  32581.000000         32581.000000   \n",
       "mean       11.011695      0.218164             0.170203   \n",
       "std         3.240459      0.413006             0.106782   \n",
       "min         5.420000      0.000000             0.000000   \n",
       "25%         7.900000      0.000000             0.090000   \n",
       "50%        10.990000      0.000000             0.150000   \n",
       "75%        13.470000      0.000000             0.230000   \n",
       "max        23.220000      1.000000             0.830000   \n",
       "\n",
       "       cb_person_cred_hist_length  \n",
       "count                32581.000000  \n",
       "mean                     5.804211  \n",
       "std                      4.055001  \n",
       "min                      2.000000  \n",
       "25%                      3.000000  \n",
       "50%                      4.000000  \n",
       "75%                      8.000000  \n",
       "max                     30.000000  "
      ]
     },
     "execution_count": 141,
     "metadata": {},
     "output_type": "execute_result"
    }
   ],
   "source": [
    "df.describe()"
   ]
  },
  {
   "cell_type": "code",
   "execution_count": null,
   "id": "43c7d472-4354-4639-b6cf-cd7f33d43f65",
   "metadata": {},
   "outputs": [],
   "source": []
  },
  {
   "cell_type": "code",
   "execution_count": 142,
   "id": "5932dc1b-7915-4765-9795-6f4d9aa31e56",
   "metadata": {},
   "outputs": [
    {
     "name": "stdout",
     "output_type": "stream",
     "text": [
      "<class 'pandas.core.frame.DataFrame'>\n",
      "RangeIndex: 32581 entries, 0 to 32580\n",
      "Data columns (total 11 columns):\n",
      " #   Column                      Non-Null Count  Dtype  \n",
      "---  ------                      --------------  -----  \n",
      " 0   person_age                  32581 non-null  int64  \n",
      " 1   person_income               32581 non-null  int64  \n",
      " 2   person_home_ownership       32581 non-null  object \n",
      " 3   person_emp_length           31686 non-null  float64\n",
      " 4   loan_intent                 32581 non-null  object \n",
      " 5   loan_amnt                   32581 non-null  int64  \n",
      " 6   loan_int_rate               29465 non-null  float64\n",
      " 7   loan_status                 32581 non-null  int64  \n",
      " 8   loan_percent_income         32581 non-null  float64\n",
      " 9   cb_person_default_on_file   32581 non-null  object \n",
      " 10  cb_person_cred_hist_length  32581 non-null  int64  \n",
      "dtypes: float64(3), int64(5), object(3)\n",
      "memory usage: 2.7+ MB\n"
     ]
    }
   ],
   "source": [
    "df.info()"
   ]
  },
  {
   "cell_type": "code",
   "execution_count": 143,
   "id": "b36bf1aa-eb47-4e6f-a6f8-93fff17b4b2d",
   "metadata": {},
   "outputs": [
    {
     "data": {
      "text/html": [
       "<style type=\"text/css\">\n",
       "</style>\n",
       "<table id=\"T_5bad5\">\n",
       "  <thead>\n",
       "    <tr>\n",
       "      <th class=\"blank level0\" >&nbsp;</th>\n",
       "      <th id=\"T_5bad5_level0_col0\" class=\"col_heading level0 col0\" >person_age</th>\n",
       "      <th id=\"T_5bad5_level0_col1\" class=\"col_heading level0 col1\" >person_income</th>\n",
       "      <th id=\"T_5bad5_level0_col2\" class=\"col_heading level0 col2\" >person_emp_length</th>\n",
       "      <th id=\"T_5bad5_level0_col3\" class=\"col_heading level0 col3\" >loan_amnt</th>\n",
       "      <th id=\"T_5bad5_level0_col4\" class=\"col_heading level0 col4\" >loan_int_rate</th>\n",
       "      <th id=\"T_5bad5_level0_col5\" class=\"col_heading level0 col5\" >loan_status</th>\n",
       "      <th id=\"T_5bad5_level0_col6\" class=\"col_heading level0 col6\" >loan_percent_income</th>\n",
       "      <th id=\"T_5bad5_level0_col7\" class=\"col_heading level0 col7\" >cb_person_cred_hist_length</th>\n",
       "    </tr>\n",
       "  </thead>\n",
       "  <tbody>\n",
       "    <tr>\n",
       "      <th id=\"T_5bad5_level0_row0\" class=\"row_heading level0 row0\" >count</th>\n",
       "      <td id=\"T_5bad5_row0_col0\" class=\"data row0 col0\" >32581.0</td>\n",
       "      <td id=\"T_5bad5_row0_col1\" class=\"data row0 col1\" >32581.0</td>\n",
       "      <td id=\"T_5bad5_row0_col2\" class=\"data row0 col2\" >31686.0</td>\n",
       "      <td id=\"T_5bad5_row0_col3\" class=\"data row0 col3\" >32581.0</td>\n",
       "      <td id=\"T_5bad5_row0_col4\" class=\"data row0 col4\" >29465.0</td>\n",
       "      <td id=\"T_5bad5_row0_col5\" class=\"data row0 col5\" >32581.0</td>\n",
       "      <td id=\"T_5bad5_row0_col6\" class=\"data row0 col6\" >32581.0</td>\n",
       "      <td id=\"T_5bad5_row0_col7\" class=\"data row0 col7\" >32581.0</td>\n",
       "    </tr>\n",
       "    <tr>\n",
       "      <th id=\"T_5bad5_level0_row1\" class=\"row_heading level0 row1\" >mean</th>\n",
       "      <td id=\"T_5bad5_row1_col0\" class=\"data row1 col0\" >27.7</td>\n",
       "      <td id=\"T_5bad5_row1_col1\" class=\"data row1 col1\" >66074.8</td>\n",
       "      <td id=\"T_5bad5_row1_col2\" class=\"data row1 col2\" >4.8</td>\n",
       "      <td id=\"T_5bad5_row1_col3\" class=\"data row1 col3\" >9589.4</td>\n",
       "      <td id=\"T_5bad5_row1_col4\" class=\"data row1 col4\" >11.0</td>\n",
       "      <td id=\"T_5bad5_row1_col5\" class=\"data row1 col5\" >0.2</td>\n",
       "      <td id=\"T_5bad5_row1_col6\" class=\"data row1 col6\" >0.2</td>\n",
       "      <td id=\"T_5bad5_row1_col7\" class=\"data row1 col7\" >5.8</td>\n",
       "    </tr>\n",
       "    <tr>\n",
       "      <th id=\"T_5bad5_level0_row2\" class=\"row_heading level0 row2\" >std</th>\n",
       "      <td id=\"T_5bad5_row2_col0\" class=\"data row2 col0\" >6.3</td>\n",
       "      <td id=\"T_5bad5_row2_col1\" class=\"data row2 col1\" >61983.1</td>\n",
       "      <td id=\"T_5bad5_row2_col2\" class=\"data row2 col2\" >4.1</td>\n",
       "      <td id=\"T_5bad5_row2_col3\" class=\"data row2 col3\" >6322.1</td>\n",
       "      <td id=\"T_5bad5_row2_col4\" class=\"data row2 col4\" >3.2</td>\n",
       "      <td id=\"T_5bad5_row2_col5\" class=\"data row2 col5\" >0.4</td>\n",
       "      <td id=\"T_5bad5_row2_col6\" class=\"data row2 col6\" >0.1</td>\n",
       "      <td id=\"T_5bad5_row2_col7\" class=\"data row2 col7\" >4.1</td>\n",
       "    </tr>\n",
       "    <tr>\n",
       "      <th id=\"T_5bad5_level0_row3\" class=\"row_heading level0 row3\" >min</th>\n",
       "      <td id=\"T_5bad5_row3_col0\" class=\"data row3 col0\" >20.0</td>\n",
       "      <td id=\"T_5bad5_row3_col1\" class=\"data row3 col1\" >4000.0</td>\n",
       "      <td id=\"T_5bad5_row3_col2\" class=\"data row3 col2\" >0.0</td>\n",
       "      <td id=\"T_5bad5_row3_col3\" class=\"data row3 col3\" >500.0</td>\n",
       "      <td id=\"T_5bad5_row3_col4\" class=\"data row3 col4\" >5.4</td>\n",
       "      <td id=\"T_5bad5_row3_col5\" class=\"data row3 col5\" >0.0</td>\n",
       "      <td id=\"T_5bad5_row3_col6\" class=\"data row3 col6\" >0.0</td>\n",
       "      <td id=\"T_5bad5_row3_col7\" class=\"data row3 col7\" >2.0</td>\n",
       "    </tr>\n",
       "    <tr>\n",
       "      <th id=\"T_5bad5_level0_row4\" class=\"row_heading level0 row4\" >25%</th>\n",
       "      <td id=\"T_5bad5_row4_col0\" class=\"data row4 col0\" >23.0</td>\n",
       "      <td id=\"T_5bad5_row4_col1\" class=\"data row4 col1\" >38500.0</td>\n",
       "      <td id=\"T_5bad5_row4_col2\" class=\"data row4 col2\" >2.0</td>\n",
       "      <td id=\"T_5bad5_row4_col3\" class=\"data row4 col3\" >5000.0</td>\n",
       "      <td id=\"T_5bad5_row4_col4\" class=\"data row4 col4\" >7.9</td>\n",
       "      <td id=\"T_5bad5_row4_col5\" class=\"data row4 col5\" >0.0</td>\n",
       "      <td id=\"T_5bad5_row4_col6\" class=\"data row4 col6\" >0.1</td>\n",
       "      <td id=\"T_5bad5_row4_col7\" class=\"data row4 col7\" >3.0</td>\n",
       "    </tr>\n",
       "    <tr>\n",
       "      <th id=\"T_5bad5_level0_row5\" class=\"row_heading level0 row5\" >50%</th>\n",
       "      <td id=\"T_5bad5_row5_col0\" class=\"data row5 col0\" >26.0</td>\n",
       "      <td id=\"T_5bad5_row5_col1\" class=\"data row5 col1\" >55000.0</td>\n",
       "      <td id=\"T_5bad5_row5_col2\" class=\"data row5 col2\" >4.0</td>\n",
       "      <td id=\"T_5bad5_row5_col3\" class=\"data row5 col3\" >8000.0</td>\n",
       "      <td id=\"T_5bad5_row5_col4\" class=\"data row5 col4\" >11.0</td>\n",
       "      <td id=\"T_5bad5_row5_col5\" class=\"data row5 col5\" >0.0</td>\n",
       "      <td id=\"T_5bad5_row5_col6\" class=\"data row5 col6\" >0.1</td>\n",
       "      <td id=\"T_5bad5_row5_col7\" class=\"data row5 col7\" >4.0</td>\n",
       "    </tr>\n",
       "    <tr>\n",
       "      <th id=\"T_5bad5_level0_row6\" class=\"row_heading level0 row6\" >75%</th>\n",
       "      <td id=\"T_5bad5_row6_col0\" class=\"data row6 col0\" >30.0</td>\n",
       "      <td id=\"T_5bad5_row6_col1\" class=\"data row6 col1\" >79200.0</td>\n",
       "      <td id=\"T_5bad5_row6_col2\" class=\"data row6 col2\" >7.0</td>\n",
       "      <td id=\"T_5bad5_row6_col3\" class=\"data row6 col3\" >12200.0</td>\n",
       "      <td id=\"T_5bad5_row6_col4\" class=\"data row6 col4\" >13.5</td>\n",
       "      <td id=\"T_5bad5_row6_col5\" class=\"data row6 col5\" >0.0</td>\n",
       "      <td id=\"T_5bad5_row6_col6\" class=\"data row6 col6\" >0.2</td>\n",
       "      <td id=\"T_5bad5_row6_col7\" class=\"data row6 col7\" >8.0</td>\n",
       "    </tr>\n",
       "    <tr>\n",
       "      <th id=\"T_5bad5_level0_row7\" class=\"row_heading level0 row7\" >max</th>\n",
       "      <td id=\"T_5bad5_row7_col0\" class=\"data row7 col0\" >144.0</td>\n",
       "      <td id=\"T_5bad5_row7_col1\" class=\"data row7 col1\" >6000000.0</td>\n",
       "      <td id=\"T_5bad5_row7_col2\" class=\"data row7 col2\" >123.0</td>\n",
       "      <td id=\"T_5bad5_row7_col3\" class=\"data row7 col3\" >35000.0</td>\n",
       "      <td id=\"T_5bad5_row7_col4\" class=\"data row7 col4\" >23.2</td>\n",
       "      <td id=\"T_5bad5_row7_col5\" class=\"data row7 col5\" >1.0</td>\n",
       "      <td id=\"T_5bad5_row7_col6\" class=\"data row7 col6\" >0.8</td>\n",
       "      <td id=\"T_5bad5_row7_col7\" class=\"data row7 col7\" >30.0</td>\n",
       "    </tr>\n",
       "  </tbody>\n",
       "</table>\n"
      ],
      "text/plain": [
       "<pandas.io.formats.style.Styler at 0x1d79f272fd0>"
      ]
     },
     "execution_count": 143,
     "metadata": {},
     "output_type": "execute_result"
    }
   ],
   "source": [
    "df.describe().style.format(\"{:.1f}\")"
   ]
  },
  {
   "cell_type": "code",
   "execution_count": 144,
   "id": "678b8272-463f-4fb4-b77b-7b16f3ba8dbe",
   "metadata": {},
   "outputs": [
    {
     "data": {
      "text/plain": [
       "0    25473\n",
       "1     7108\n",
       "Name: loan_status, dtype: int64"
      ]
     },
     "execution_count": 144,
     "metadata": {},
     "output_type": "execute_result"
    }
   ],
   "source": [
    "df['loan_status'].value_counts()"
   ]
  },
  {
   "cell_type": "code",
   "execution_count": 145,
   "id": "94247aee-71d3-42b9-b514-adb7d3fb3b78",
   "metadata": {
    "tags": []
   },
   "outputs": [],
   "source": [
    "df['y']=df['loan_status']\n",
    "df.drop(columns=['loan_status'],inplace=True)"
   ]
  },
  {
   "cell_type": "code",
   "execution_count": 146,
   "id": "dd0a40b6-a518-42ca-9f70-bfd55ddff929",
   "metadata": {
    "tags": []
   },
   "outputs": [
    {
     "data": {
      "text/html": [
       "<div>\n",
       "<style scoped>\n",
       "    .dataframe tbody tr th:only-of-type {\n",
       "        vertical-align: middle;\n",
       "    }\n",
       "\n",
       "    .dataframe tbody tr th {\n",
       "        vertical-align: top;\n",
       "    }\n",
       "\n",
       "    .dataframe thead th {\n",
       "        text-align: right;\n",
       "    }\n",
       "</style>\n",
       "<table border=\"1\" class=\"dataframe\">\n",
       "  <thead>\n",
       "    <tr style=\"text-align: right;\">\n",
       "      <th></th>\n",
       "      <th>person_age</th>\n",
       "      <th>person_income</th>\n",
       "      <th>person_home_ownership</th>\n",
       "      <th>person_emp_length</th>\n",
       "      <th>loan_intent</th>\n",
       "      <th>loan_amnt</th>\n",
       "      <th>loan_int_rate</th>\n",
       "      <th>loan_percent_income</th>\n",
       "      <th>cb_person_default_on_file</th>\n",
       "      <th>cb_person_cred_hist_length</th>\n",
       "      <th>y</th>\n",
       "    </tr>\n",
       "  </thead>\n",
       "  <tbody>\n",
       "    <tr>\n",
       "      <th>0</th>\n",
       "      <td>22</td>\n",
       "      <td>59000</td>\n",
       "      <td>RENT</td>\n",
       "      <td>123.0</td>\n",
       "      <td>PERSONAL</td>\n",
       "      <td>35000</td>\n",
       "      <td>16.02</td>\n",
       "      <td>0.59</td>\n",
       "      <td>Y</td>\n",
       "      <td>3</td>\n",
       "      <td>1</td>\n",
       "    </tr>\n",
       "    <tr>\n",
       "      <th>1</th>\n",
       "      <td>21</td>\n",
       "      <td>9600</td>\n",
       "      <td>OWN</td>\n",
       "      <td>5.0</td>\n",
       "      <td>EDUCATION</td>\n",
       "      <td>1000</td>\n",
       "      <td>11.14</td>\n",
       "      <td>0.10</td>\n",
       "      <td>N</td>\n",
       "      <td>2</td>\n",
       "      <td>0</td>\n",
       "    </tr>\n",
       "    <tr>\n",
       "      <th>2</th>\n",
       "      <td>25</td>\n",
       "      <td>9600</td>\n",
       "      <td>MORTGAGE</td>\n",
       "      <td>1.0</td>\n",
       "      <td>MEDICAL</td>\n",
       "      <td>5500</td>\n",
       "      <td>12.87</td>\n",
       "      <td>0.57</td>\n",
       "      <td>N</td>\n",
       "      <td>3</td>\n",
       "      <td>1</td>\n",
       "    </tr>\n",
       "    <tr>\n",
       "      <th>3</th>\n",
       "      <td>23</td>\n",
       "      <td>65500</td>\n",
       "      <td>RENT</td>\n",
       "      <td>4.0</td>\n",
       "      <td>MEDICAL</td>\n",
       "      <td>35000</td>\n",
       "      <td>15.23</td>\n",
       "      <td>0.53</td>\n",
       "      <td>N</td>\n",
       "      <td>2</td>\n",
       "      <td>1</td>\n",
       "    </tr>\n",
       "    <tr>\n",
       "      <th>4</th>\n",
       "      <td>24</td>\n",
       "      <td>54400</td>\n",
       "      <td>RENT</td>\n",
       "      <td>8.0</td>\n",
       "      <td>MEDICAL</td>\n",
       "      <td>35000</td>\n",
       "      <td>14.27</td>\n",
       "      <td>0.55</td>\n",
       "      <td>Y</td>\n",
       "      <td>4</td>\n",
       "      <td>1</td>\n",
       "    </tr>\n",
       "    <tr>\n",
       "      <th>...</th>\n",
       "      <td>...</td>\n",
       "      <td>...</td>\n",
       "      <td>...</td>\n",
       "      <td>...</td>\n",
       "      <td>...</td>\n",
       "      <td>...</td>\n",
       "      <td>...</td>\n",
       "      <td>...</td>\n",
       "      <td>...</td>\n",
       "      <td>...</td>\n",
       "      <td>...</td>\n",
       "    </tr>\n",
       "    <tr>\n",
       "      <th>32576</th>\n",
       "      <td>57</td>\n",
       "      <td>53000</td>\n",
       "      <td>MORTGAGE</td>\n",
       "      <td>1.0</td>\n",
       "      <td>PERSONAL</td>\n",
       "      <td>5800</td>\n",
       "      <td>13.16</td>\n",
       "      <td>0.11</td>\n",
       "      <td>N</td>\n",
       "      <td>30</td>\n",
       "      <td>0</td>\n",
       "    </tr>\n",
       "    <tr>\n",
       "      <th>32577</th>\n",
       "      <td>54</td>\n",
       "      <td>120000</td>\n",
       "      <td>MORTGAGE</td>\n",
       "      <td>4.0</td>\n",
       "      <td>PERSONAL</td>\n",
       "      <td>17625</td>\n",
       "      <td>7.49</td>\n",
       "      <td>0.15</td>\n",
       "      <td>N</td>\n",
       "      <td>19</td>\n",
       "      <td>0</td>\n",
       "    </tr>\n",
       "    <tr>\n",
       "      <th>32578</th>\n",
       "      <td>65</td>\n",
       "      <td>76000</td>\n",
       "      <td>RENT</td>\n",
       "      <td>3.0</td>\n",
       "      <td>HOMEIMPROVEMENT</td>\n",
       "      <td>35000</td>\n",
       "      <td>10.99</td>\n",
       "      <td>0.46</td>\n",
       "      <td>N</td>\n",
       "      <td>28</td>\n",
       "      <td>1</td>\n",
       "    </tr>\n",
       "    <tr>\n",
       "      <th>32579</th>\n",
       "      <td>56</td>\n",
       "      <td>150000</td>\n",
       "      <td>MORTGAGE</td>\n",
       "      <td>5.0</td>\n",
       "      <td>PERSONAL</td>\n",
       "      <td>15000</td>\n",
       "      <td>11.48</td>\n",
       "      <td>0.10</td>\n",
       "      <td>N</td>\n",
       "      <td>26</td>\n",
       "      <td>0</td>\n",
       "    </tr>\n",
       "    <tr>\n",
       "      <th>32580</th>\n",
       "      <td>66</td>\n",
       "      <td>42000</td>\n",
       "      <td>RENT</td>\n",
       "      <td>2.0</td>\n",
       "      <td>MEDICAL</td>\n",
       "      <td>6475</td>\n",
       "      <td>9.99</td>\n",
       "      <td>0.15</td>\n",
       "      <td>N</td>\n",
       "      <td>30</td>\n",
       "      <td>0</td>\n",
       "    </tr>\n",
       "  </tbody>\n",
       "</table>\n",
       "<p>32581 rows × 11 columns</p>\n",
       "</div>"
      ],
      "text/plain": [
       "       person_age  person_income person_home_ownership  person_emp_length  \\\n",
       "0              22          59000                  RENT              123.0   \n",
       "1              21           9600                   OWN                5.0   \n",
       "2              25           9600              MORTGAGE                1.0   \n",
       "3              23          65500                  RENT                4.0   \n",
       "4              24          54400                  RENT                8.0   \n",
       "...           ...            ...                   ...                ...   \n",
       "32576          57          53000              MORTGAGE                1.0   \n",
       "32577          54         120000              MORTGAGE                4.0   \n",
       "32578          65          76000                  RENT                3.0   \n",
       "32579          56         150000              MORTGAGE                5.0   \n",
       "32580          66          42000                  RENT                2.0   \n",
       "\n",
       "           loan_intent  loan_amnt  loan_int_rate  loan_percent_income  \\\n",
       "0             PERSONAL      35000          16.02                 0.59   \n",
       "1            EDUCATION       1000          11.14                 0.10   \n",
       "2              MEDICAL       5500          12.87                 0.57   \n",
       "3              MEDICAL      35000          15.23                 0.53   \n",
       "4              MEDICAL      35000          14.27                 0.55   \n",
       "...                ...        ...            ...                  ...   \n",
       "32576         PERSONAL       5800          13.16                 0.11   \n",
       "32577         PERSONAL      17625           7.49                 0.15   \n",
       "32578  HOMEIMPROVEMENT      35000          10.99                 0.46   \n",
       "32579         PERSONAL      15000          11.48                 0.10   \n",
       "32580          MEDICAL       6475           9.99                 0.15   \n",
       "\n",
       "      cb_person_default_on_file  cb_person_cred_hist_length  y  \n",
       "0                             Y                           3  1  \n",
       "1                             N                           2  0  \n",
       "2                             N                           3  1  \n",
       "3                             N                           2  1  \n",
       "4                             Y                           4  1  \n",
       "...                         ...                         ... ..  \n",
       "32576                         N                          30  0  \n",
       "32577                         N                          19  0  \n",
       "32578                         N                          28  1  \n",
       "32579                         N                          26  0  \n",
       "32580                         N                          30  0  \n",
       "\n",
       "[32581 rows x 11 columns]"
      ]
     },
     "execution_count": 146,
     "metadata": {},
     "output_type": "execute_result"
    }
   ],
   "source": [
    "df"
   ]
  },
  {
   "cell_type": "markdown",
   "id": "8c8d2308-55c8-4052-b34b-0bef03e1e4b6",
   "metadata": {},
   "source": [
    "Our goal is to predict the prabability of default. In other words, our predicted variable is y."
   ]
  },
  {
   "cell_type": "code",
   "execution_count": 147,
   "id": "acb63797-0add-4b8f-818a-c5d51edd1298",
   "metadata": {},
   "outputs": [],
   "source": [
    "# df_wo_nun=df.dropna(axis=0) "
   ]
  },
  {
   "cell_type": "code",
   "execution_count": 148,
   "id": "578ca775-75ac-4153-aaf2-86622027dc0f",
   "metadata": {
    "tags": []
   },
   "outputs": [],
   "source": [
    "# df_wo_nun"
   ]
  },
  {
   "cell_type": "code",
   "execution_count": 149,
   "id": "14163330-ab37-474a-95cb-3e3828096550",
   "metadata": {
    "tags": []
   },
   "outputs": [],
   "source": [
    "# df"
   ]
  },
  {
   "cell_type": "code",
   "execution_count": 150,
   "id": "18ca4012-21f9-4c2a-b1ef-b86f7753fc2e",
   "metadata": {
    "tags": []
   },
   "outputs": [],
   "source": [
    "# df_wo_nun.info()"
   ]
  },
  {
   "cell_type": "code",
   "execution_count": 151,
   "id": "47c93214-22c0-4db9-b4f9-1ecb3bc63408",
   "metadata": {
    "tags": []
   },
   "outputs": [],
   "source": [
    "# df_wo_nun.tail()"
   ]
  },
  {
   "cell_type": "code",
   "execution_count": 152,
   "id": "35f54819-410c-4c94-899f-0c65a88f7e95",
   "metadata": {
    "tags": []
   },
   "outputs": [],
   "source": [
    "# df.describe().style.format(\"{:.1f}\")"
   ]
  },
  {
   "cell_type": "markdown",
   "id": "da24ce12-88e8-42cd-bfa3-b95338935cca",
   "metadata": {},
   "source": [
    "Let's fix some problems with the data.\n",
    "Age older than 120 - doesn't makes sense. So I set it to 120."
   ]
  },
  {
   "cell_type": "code",
   "execution_count": 153,
   "id": "106dd318-efba-4db5-a0c3-f0b1fa46e8ae",
   "metadata": {
    "tags": []
   },
   "outputs": [],
   "source": [
    "df.loc[df['person_age']>120,'person_age']=120"
   ]
  },
  {
   "cell_type": "markdown",
   "id": "a02d5773-5dcb-47b8-a8e6-6b30fc2dcdc8",
   "metadata": {},
   "source": [
    "There are 895 missing values in person_emp_length. Let's assume the missing values have to be 0."
   ]
  },
  {
   "cell_type": "code",
   "execution_count": 154,
   "id": "cfd9d69c-01fd-4662-9ade-6f2bd2fad88d",
   "metadata": {
    "tags": []
   },
   "outputs": [
    {
     "data": {
      "text/plain": [
       "895"
      ]
     },
     "execution_count": 154,
     "metadata": {},
     "output_type": "execute_result"
    }
   ],
   "source": [
    "isnull(df['person_emp_length']).sum()"
   ]
  },
  {
   "cell_type": "code",
   "execution_count": 155,
   "id": "e0a39339-39e4-4f0e-acb6-de6223695e5c",
   "metadata": {
    "tags": []
   },
   "outputs": [],
   "source": [
    "df.loc[pd.isnull(df['person_emp_length']),'person_emp_length']=0"
   ]
  },
  {
   "cell_type": "markdown",
   "id": "bc2f79fe-4097-45b8-a939-4a4f9ecf14c1",
   "metadata": {},
   "source": [
    "There are 3116 missing values in loan interest rate. Let's set it to the average value."
   ]
  },
  {
   "cell_type": "code",
   "execution_count": 156,
   "id": "70c6c422-826c-4aad-ac14-e51572830b9e",
   "metadata": {
    "tags": []
   },
   "outputs": [
    {
     "data": {
      "text/plain": [
       "3116"
      ]
     },
     "execution_count": 156,
     "metadata": {},
     "output_type": "execute_result"
    }
   ],
   "source": [
    "isnull(df['loan_int_rate']).sum()"
   ]
  },
  {
   "cell_type": "code",
   "execution_count": 157,
   "id": "22ec07f3-0bf5-4497-9c78-263517c3adbf",
   "metadata": {
    "tags": []
   },
   "outputs": [],
   "source": [
    "df.loc[pd.isnull(df['loan_int_rate']),'loan_int_rate']=df['loan_int_rate'].mean()"
   ]
  },
  {
   "cell_type": "code",
   "execution_count": 158,
   "id": "d6d0c685-0faa-43f9-bcaf-2f7c3ee15b75",
   "metadata": {
    "tags": []
   },
   "outputs": [
    {
     "data": {
      "text/html": [
       "<style type=\"text/css\">\n",
       "</style>\n",
       "<table id=\"T_185cf\">\n",
       "  <thead>\n",
       "    <tr>\n",
       "      <th class=\"blank level0\" >&nbsp;</th>\n",
       "      <th id=\"T_185cf_level0_col0\" class=\"col_heading level0 col0\" >person_age</th>\n",
       "      <th id=\"T_185cf_level0_col1\" class=\"col_heading level0 col1\" >person_income</th>\n",
       "      <th id=\"T_185cf_level0_col2\" class=\"col_heading level0 col2\" >person_emp_length</th>\n",
       "      <th id=\"T_185cf_level0_col3\" class=\"col_heading level0 col3\" >loan_amnt</th>\n",
       "      <th id=\"T_185cf_level0_col4\" class=\"col_heading level0 col4\" >loan_int_rate</th>\n",
       "      <th id=\"T_185cf_level0_col5\" class=\"col_heading level0 col5\" >loan_percent_income</th>\n",
       "      <th id=\"T_185cf_level0_col6\" class=\"col_heading level0 col6\" >cb_person_cred_hist_length</th>\n",
       "      <th id=\"T_185cf_level0_col7\" class=\"col_heading level0 col7\" >y</th>\n",
       "    </tr>\n",
       "  </thead>\n",
       "  <tbody>\n",
       "    <tr>\n",
       "      <th id=\"T_185cf_level0_row0\" class=\"row_heading level0 row0\" >count</th>\n",
       "      <td id=\"T_185cf_row0_col0\" class=\"data row0 col0\" >32581.0</td>\n",
       "      <td id=\"T_185cf_row0_col1\" class=\"data row0 col1\" >32581.0</td>\n",
       "      <td id=\"T_185cf_row0_col2\" class=\"data row0 col2\" >32581.0</td>\n",
       "      <td id=\"T_185cf_row0_col3\" class=\"data row0 col3\" >32581.0</td>\n",
       "      <td id=\"T_185cf_row0_col4\" class=\"data row0 col4\" >32581.0</td>\n",
       "      <td id=\"T_185cf_row0_col5\" class=\"data row0 col5\" >32581.0</td>\n",
       "      <td id=\"T_185cf_row0_col6\" class=\"data row0 col6\" >32581.0</td>\n",
       "      <td id=\"T_185cf_row0_col7\" class=\"data row0 col7\" >32581.0</td>\n",
       "    </tr>\n",
       "    <tr>\n",
       "      <th id=\"T_185cf_level0_row1\" class=\"row_heading level0 row1\" >mean</th>\n",
       "      <td id=\"T_185cf_row1_col0\" class=\"data row1 col0\" >27.7</td>\n",
       "      <td id=\"T_185cf_row1_col1\" class=\"data row1 col1\" >66074.8</td>\n",
       "      <td id=\"T_185cf_row1_col2\" class=\"data row1 col2\" >4.7</td>\n",
       "      <td id=\"T_185cf_row1_col3\" class=\"data row1 col3\" >9589.4</td>\n",
       "      <td id=\"T_185cf_row1_col4\" class=\"data row1 col4\" >11.0</td>\n",
       "      <td id=\"T_185cf_row1_col5\" class=\"data row1 col5\" >0.2</td>\n",
       "      <td id=\"T_185cf_row1_col6\" class=\"data row1 col6\" >5.8</td>\n",
       "      <td id=\"T_185cf_row1_col7\" class=\"data row1 col7\" >0.2</td>\n",
       "    </tr>\n",
       "    <tr>\n",
       "      <th id=\"T_185cf_level0_row2\" class=\"row_heading level0 row2\" >std</th>\n",
       "      <td id=\"T_185cf_row2_col0\" class=\"data row2 col0\" >6.3</td>\n",
       "      <td id=\"T_185cf_row2_col1\" class=\"data row2 col1\" >61983.1</td>\n",
       "      <td id=\"T_185cf_row2_col2\" class=\"data row2 col2\" >4.2</td>\n",
       "      <td id=\"T_185cf_row2_col3\" class=\"data row2 col3\" >6322.1</td>\n",
       "      <td id=\"T_185cf_row2_col4\" class=\"data row2 col4\" >3.1</td>\n",
       "      <td id=\"T_185cf_row2_col5\" class=\"data row2 col5\" >0.1</td>\n",
       "      <td id=\"T_185cf_row2_col6\" class=\"data row2 col6\" >4.1</td>\n",
       "      <td id=\"T_185cf_row2_col7\" class=\"data row2 col7\" >0.4</td>\n",
       "    </tr>\n",
       "    <tr>\n",
       "      <th id=\"T_185cf_level0_row3\" class=\"row_heading level0 row3\" >min</th>\n",
       "      <td id=\"T_185cf_row3_col0\" class=\"data row3 col0\" >20.0</td>\n",
       "      <td id=\"T_185cf_row3_col1\" class=\"data row3 col1\" >4000.0</td>\n",
       "      <td id=\"T_185cf_row3_col2\" class=\"data row3 col2\" >0.0</td>\n",
       "      <td id=\"T_185cf_row3_col3\" class=\"data row3 col3\" >500.0</td>\n",
       "      <td id=\"T_185cf_row3_col4\" class=\"data row3 col4\" >5.4</td>\n",
       "      <td id=\"T_185cf_row3_col5\" class=\"data row3 col5\" >0.0</td>\n",
       "      <td id=\"T_185cf_row3_col6\" class=\"data row3 col6\" >2.0</td>\n",
       "      <td id=\"T_185cf_row3_col7\" class=\"data row3 col7\" >0.0</td>\n",
       "    </tr>\n",
       "    <tr>\n",
       "      <th id=\"T_185cf_level0_row4\" class=\"row_heading level0 row4\" >25%</th>\n",
       "      <td id=\"T_185cf_row4_col0\" class=\"data row4 col0\" >23.0</td>\n",
       "      <td id=\"T_185cf_row4_col1\" class=\"data row4 col1\" >38500.0</td>\n",
       "      <td id=\"T_185cf_row4_col2\" class=\"data row4 col2\" >2.0</td>\n",
       "      <td id=\"T_185cf_row4_col3\" class=\"data row4 col3\" >5000.0</td>\n",
       "      <td id=\"T_185cf_row4_col4\" class=\"data row4 col4\" >8.5</td>\n",
       "      <td id=\"T_185cf_row4_col5\" class=\"data row4 col5\" >0.1</td>\n",
       "      <td id=\"T_185cf_row4_col6\" class=\"data row4 col6\" >3.0</td>\n",
       "      <td id=\"T_185cf_row4_col7\" class=\"data row4 col7\" >0.0</td>\n",
       "    </tr>\n",
       "    <tr>\n",
       "      <th id=\"T_185cf_level0_row5\" class=\"row_heading level0 row5\" >50%</th>\n",
       "      <td id=\"T_185cf_row5_col0\" class=\"data row5 col0\" >26.0</td>\n",
       "      <td id=\"T_185cf_row5_col1\" class=\"data row5 col1\" >55000.0</td>\n",
       "      <td id=\"T_185cf_row5_col2\" class=\"data row5 col2\" >4.0</td>\n",
       "      <td id=\"T_185cf_row5_col3\" class=\"data row5 col3\" >8000.0</td>\n",
       "      <td id=\"T_185cf_row5_col4\" class=\"data row5 col4\" >11.0</td>\n",
       "      <td id=\"T_185cf_row5_col5\" class=\"data row5 col5\" >0.1</td>\n",
       "      <td id=\"T_185cf_row5_col6\" class=\"data row5 col6\" >4.0</td>\n",
       "      <td id=\"T_185cf_row5_col7\" class=\"data row5 col7\" >0.0</td>\n",
       "    </tr>\n",
       "    <tr>\n",
       "      <th id=\"T_185cf_level0_row6\" class=\"row_heading level0 row6\" >75%</th>\n",
       "      <td id=\"T_185cf_row6_col0\" class=\"data row6 col0\" >30.0</td>\n",
       "      <td id=\"T_185cf_row6_col1\" class=\"data row6 col1\" >79200.0</td>\n",
       "      <td id=\"T_185cf_row6_col2\" class=\"data row6 col2\" >7.0</td>\n",
       "      <td id=\"T_185cf_row6_col3\" class=\"data row6 col3\" >12200.0</td>\n",
       "      <td id=\"T_185cf_row6_col4\" class=\"data row6 col4\" >13.1</td>\n",
       "      <td id=\"T_185cf_row6_col5\" class=\"data row6 col5\" >0.2</td>\n",
       "      <td id=\"T_185cf_row6_col6\" class=\"data row6 col6\" >8.0</td>\n",
       "      <td id=\"T_185cf_row6_col7\" class=\"data row6 col7\" >0.0</td>\n",
       "    </tr>\n",
       "    <tr>\n",
       "      <th id=\"T_185cf_level0_row7\" class=\"row_heading level0 row7\" >max</th>\n",
       "      <td id=\"T_185cf_row7_col0\" class=\"data row7 col0\" >120.0</td>\n",
       "      <td id=\"T_185cf_row7_col1\" class=\"data row7 col1\" >6000000.0</td>\n",
       "      <td id=\"T_185cf_row7_col2\" class=\"data row7 col2\" >123.0</td>\n",
       "      <td id=\"T_185cf_row7_col3\" class=\"data row7 col3\" >35000.0</td>\n",
       "      <td id=\"T_185cf_row7_col4\" class=\"data row7 col4\" >23.2</td>\n",
       "      <td id=\"T_185cf_row7_col5\" class=\"data row7 col5\" >0.8</td>\n",
       "      <td id=\"T_185cf_row7_col6\" class=\"data row7 col6\" >30.0</td>\n",
       "      <td id=\"T_185cf_row7_col7\" class=\"data row7 col7\" >1.0</td>\n",
       "    </tr>\n",
       "  </tbody>\n",
       "</table>\n"
      ],
      "text/plain": [
       "<pandas.io.formats.style.Styler at 0x1d790d0a1f0>"
      ]
     },
     "execution_count": 158,
     "metadata": {},
     "output_type": "execute_result"
    }
   ],
   "source": [
    "df.describe().style.format(\"{:.1f}\")"
   ]
  },
  {
   "cell_type": "code",
   "execution_count": 159,
   "id": "ea3eb58e-ae37-4997-ab06-7c7f47263305",
   "metadata": {
    "tags": []
   },
   "outputs": [
    {
     "name": "stdout",
     "output_type": "stream",
     "text": [
      "<class 'pandas.core.frame.DataFrame'>\n",
      "RangeIndex: 32581 entries, 0 to 32580\n",
      "Data columns (total 11 columns):\n",
      " #   Column                      Non-Null Count  Dtype  \n",
      "---  ------                      --------------  -----  \n",
      " 0   person_age                  32581 non-null  int64  \n",
      " 1   person_income               32581 non-null  int64  \n",
      " 2   person_home_ownership       32581 non-null  object \n",
      " 3   person_emp_length           32581 non-null  float64\n",
      " 4   loan_intent                 32581 non-null  object \n",
      " 5   loan_amnt                   32581 non-null  int64  \n",
      " 6   loan_int_rate               32581 non-null  float64\n",
      " 7   loan_percent_income         32581 non-null  float64\n",
      " 8   cb_person_default_on_file   32581 non-null  object \n",
      " 9   cb_person_cred_hist_length  32581 non-null  int64  \n",
      " 10  y                           32581 non-null  int64  \n",
      "dtypes: float64(3), int64(5), object(3)\n",
      "memory usage: 2.7+ MB\n"
     ]
    }
   ],
   "source": [
    "df.info()"
   ]
  },
  {
   "cell_type": "code",
   "execution_count": 160,
   "id": "935823dc-5e03-4e4f-8888-844248b43a0e",
   "metadata": {
    "tags": []
   },
   "outputs": [
    {
     "data": {
      "text/plain": [
       "RENT        16446\n",
       "MORTGAGE    13444\n",
       "OWN          2584\n",
       "OTHER         107\n",
       "Name: person_home_ownership, dtype: int64"
      ]
     },
     "execution_count": 160,
     "metadata": {},
     "output_type": "execute_result"
    }
   ],
   "source": [
    "df['person_home_ownership'].value_counts()"
   ]
  },
  {
   "cell_type": "markdown",
   "id": "6503208b-dc0f-42e6-836e-f6faf1c1dfad",
   "metadata": {
    "tags": []
   },
   "source": [
    "Before we can run loggistic regretion, we need all variables to be numeric, so we encoded the categorical variables."
   ]
  },
  {
   "cell_type": "code",
   "execution_count": 161,
   "id": "fa93e856-e8ba-4858-bdc7-40af397389bf",
   "metadata": {
    "tags": []
   },
   "outputs": [],
   "source": [
    "df.loc[df['person_home_ownership']=='RENT','person_home_ownership_Rent']=1\n",
    "df.loc[df['person_home_ownership']!='RENT','person_home_ownership_Rent']=0"
   ]
  },
  {
   "cell_type": "code",
   "execution_count": 162,
   "id": "24b5ca7e-f41c-49fe-a695-cca72ce6f9ad",
   "metadata": {
    "tags": []
   },
   "outputs": [],
   "source": [
    "df.loc[df['person_home_ownership']=='MORTGAGE','person_home_ownership_MORTGAGE']=1\n",
    "df.loc[df['person_home_ownership']!='MORTGAGE','person_home_ownership_MORTGAGE']=0"
   ]
  },
  {
   "cell_type": "code",
   "execution_count": 163,
   "id": "c94782c7-7430-47bb-b65d-ddf210c6a913",
   "metadata": {
    "tags": []
   },
   "outputs": [],
   "source": [
    "df.loc[df['person_home_ownership']=='OWN','person_home_ownership_OWN']=1\n",
    "df.loc[df['person_home_ownership']!='OWN','person_home_ownership_OWN']=0"
   ]
  },
  {
   "cell_type": "code",
   "execution_count": 164,
   "id": "bd57dd7e-6181-4f7b-94f6-8bf12e47f755",
   "metadata": {
    "tags": []
   },
   "outputs": [
    {
     "data": {
      "text/plain": [
       "107"
      ]
     },
     "execution_count": 164,
     "metadata": {},
     "output_type": "execute_result"
    }
   ],
   "source": [
    "df[(df['person_home_ownership_MORTGAGE']==0)\n",
    "    & (df['person_home_ownership_OWN']==0)\n",
    "    & (df['person_home_ownership_Rent']==0)].count().max()"
   ]
  },
  {
   "cell_type": "code",
   "execution_count": 165,
   "id": "a038e418-a8ff-4ca2-b0b7-62f89c7d608c",
   "metadata": {
    "tags": []
   },
   "outputs": [
    {
     "data": {
      "text/plain": [
       "EDUCATION            6453\n",
       "MEDICAL              6071\n",
       "VENTURE              5719\n",
       "PERSONAL             5521\n",
       "DEBTCONSOLIDATION    5212\n",
       "HOMEIMPROVEMENT      3605\n",
       "Name: loan_intent, dtype: int64"
      ]
     },
     "execution_count": 165,
     "metadata": {},
     "output_type": "execute_result"
    }
   ],
   "source": [
    "df['loan_intent'].value_counts()"
   ]
  },
  {
   "cell_type": "code",
   "execution_count": 166,
   "id": "7e74a024-b38a-4edf-8f92-9c852aa4b23a",
   "metadata": {
    "tags": []
   },
   "outputs": [],
   "source": [
    "df_dummies=pd.get_dummies(data=df,columns=['loan_intent','cb_person_default_on_file'],drop_first=True,dtype=np.int64)"
   ]
  },
  {
   "cell_type": "code",
   "execution_count": 167,
   "id": "fe07244c-182b-464f-b405-6dbc4c2da8e1",
   "metadata": {
    "tags": []
   },
   "outputs": [
    {
     "data": {
      "text/html": [
       "<style type=\"text/css\">\n",
       "</style>\n",
       "<table id=\"T_6675c\">\n",
       "  <thead>\n",
       "    <tr>\n",
       "      <th class=\"blank level0\" >&nbsp;</th>\n",
       "      <th id=\"T_6675c_level0_col0\" class=\"col_heading level0 col0\" >person_age</th>\n",
       "      <th id=\"T_6675c_level0_col1\" class=\"col_heading level0 col1\" >person_income</th>\n",
       "      <th id=\"T_6675c_level0_col2\" class=\"col_heading level0 col2\" >person_emp_length</th>\n",
       "      <th id=\"T_6675c_level0_col3\" class=\"col_heading level0 col3\" >loan_amnt</th>\n",
       "      <th id=\"T_6675c_level0_col4\" class=\"col_heading level0 col4\" >loan_int_rate</th>\n",
       "      <th id=\"T_6675c_level0_col5\" class=\"col_heading level0 col5\" >loan_percent_income</th>\n",
       "      <th id=\"T_6675c_level0_col6\" class=\"col_heading level0 col6\" >cb_person_cred_hist_length</th>\n",
       "      <th id=\"T_6675c_level0_col7\" class=\"col_heading level0 col7\" >y</th>\n",
       "      <th id=\"T_6675c_level0_col8\" class=\"col_heading level0 col8\" >person_home_ownership_Rent</th>\n",
       "      <th id=\"T_6675c_level0_col9\" class=\"col_heading level0 col9\" >person_home_ownership_MORTGAGE</th>\n",
       "      <th id=\"T_6675c_level0_col10\" class=\"col_heading level0 col10\" >person_home_ownership_OWN</th>\n",
       "      <th id=\"T_6675c_level0_col11\" class=\"col_heading level0 col11\" >loan_intent_EDUCATION</th>\n",
       "      <th id=\"T_6675c_level0_col12\" class=\"col_heading level0 col12\" >loan_intent_HOMEIMPROVEMENT</th>\n",
       "      <th id=\"T_6675c_level0_col13\" class=\"col_heading level0 col13\" >loan_intent_MEDICAL</th>\n",
       "      <th id=\"T_6675c_level0_col14\" class=\"col_heading level0 col14\" >loan_intent_PERSONAL</th>\n",
       "      <th id=\"T_6675c_level0_col15\" class=\"col_heading level0 col15\" >loan_intent_VENTURE</th>\n",
       "      <th id=\"T_6675c_level0_col16\" class=\"col_heading level0 col16\" >cb_person_default_on_file_Y</th>\n",
       "    </tr>\n",
       "  </thead>\n",
       "  <tbody>\n",
       "    <tr>\n",
       "      <th id=\"T_6675c_level0_row0\" class=\"row_heading level0 row0\" >count</th>\n",
       "      <td id=\"T_6675c_row0_col0\" class=\"data row0 col0\" >32581.0</td>\n",
       "      <td id=\"T_6675c_row0_col1\" class=\"data row0 col1\" >32581.0</td>\n",
       "      <td id=\"T_6675c_row0_col2\" class=\"data row0 col2\" >32581.0</td>\n",
       "      <td id=\"T_6675c_row0_col3\" class=\"data row0 col3\" >32581.0</td>\n",
       "      <td id=\"T_6675c_row0_col4\" class=\"data row0 col4\" >32581.0</td>\n",
       "      <td id=\"T_6675c_row0_col5\" class=\"data row0 col5\" >32581.0</td>\n",
       "      <td id=\"T_6675c_row0_col6\" class=\"data row0 col6\" >32581.0</td>\n",
       "      <td id=\"T_6675c_row0_col7\" class=\"data row0 col7\" >32581.0</td>\n",
       "      <td id=\"T_6675c_row0_col8\" class=\"data row0 col8\" >32581.0</td>\n",
       "      <td id=\"T_6675c_row0_col9\" class=\"data row0 col9\" >32581.0</td>\n",
       "      <td id=\"T_6675c_row0_col10\" class=\"data row0 col10\" >32581.0</td>\n",
       "      <td id=\"T_6675c_row0_col11\" class=\"data row0 col11\" >32581.0</td>\n",
       "      <td id=\"T_6675c_row0_col12\" class=\"data row0 col12\" >32581.0</td>\n",
       "      <td id=\"T_6675c_row0_col13\" class=\"data row0 col13\" >32581.0</td>\n",
       "      <td id=\"T_6675c_row0_col14\" class=\"data row0 col14\" >32581.0</td>\n",
       "      <td id=\"T_6675c_row0_col15\" class=\"data row0 col15\" >32581.0</td>\n",
       "      <td id=\"T_6675c_row0_col16\" class=\"data row0 col16\" >32581.0</td>\n",
       "    </tr>\n",
       "    <tr>\n",
       "      <th id=\"T_6675c_level0_row1\" class=\"row_heading level0 row1\" >mean</th>\n",
       "      <td id=\"T_6675c_row1_col0\" class=\"data row1 col0\" >27.7</td>\n",
       "      <td id=\"T_6675c_row1_col1\" class=\"data row1 col1\" >66074.8</td>\n",
       "      <td id=\"T_6675c_row1_col2\" class=\"data row1 col2\" >4.7</td>\n",
       "      <td id=\"T_6675c_row1_col3\" class=\"data row1 col3\" >9589.4</td>\n",
       "      <td id=\"T_6675c_row1_col4\" class=\"data row1 col4\" >11.0</td>\n",
       "      <td id=\"T_6675c_row1_col5\" class=\"data row1 col5\" >0.2</td>\n",
       "      <td id=\"T_6675c_row1_col6\" class=\"data row1 col6\" >5.8</td>\n",
       "      <td id=\"T_6675c_row1_col7\" class=\"data row1 col7\" >0.2</td>\n",
       "      <td id=\"T_6675c_row1_col8\" class=\"data row1 col8\" >0.5</td>\n",
       "      <td id=\"T_6675c_row1_col9\" class=\"data row1 col9\" >0.4</td>\n",
       "      <td id=\"T_6675c_row1_col10\" class=\"data row1 col10\" >0.1</td>\n",
       "      <td id=\"T_6675c_row1_col11\" class=\"data row1 col11\" >0.2</td>\n",
       "      <td id=\"T_6675c_row1_col12\" class=\"data row1 col12\" >0.1</td>\n",
       "      <td id=\"T_6675c_row1_col13\" class=\"data row1 col13\" >0.2</td>\n",
       "      <td id=\"T_6675c_row1_col14\" class=\"data row1 col14\" >0.2</td>\n",
       "      <td id=\"T_6675c_row1_col15\" class=\"data row1 col15\" >0.2</td>\n",
       "      <td id=\"T_6675c_row1_col16\" class=\"data row1 col16\" >0.2</td>\n",
       "    </tr>\n",
       "    <tr>\n",
       "      <th id=\"T_6675c_level0_row2\" class=\"row_heading level0 row2\" >std</th>\n",
       "      <td id=\"T_6675c_row2_col0\" class=\"data row2 col0\" >6.3</td>\n",
       "      <td id=\"T_6675c_row2_col1\" class=\"data row2 col1\" >61983.1</td>\n",
       "      <td id=\"T_6675c_row2_col2\" class=\"data row2 col2\" >4.2</td>\n",
       "      <td id=\"T_6675c_row2_col3\" class=\"data row2 col3\" >6322.1</td>\n",
       "      <td id=\"T_6675c_row2_col4\" class=\"data row2 col4\" >3.1</td>\n",
       "      <td id=\"T_6675c_row2_col5\" class=\"data row2 col5\" >0.1</td>\n",
       "      <td id=\"T_6675c_row2_col6\" class=\"data row2 col6\" >4.1</td>\n",
       "      <td id=\"T_6675c_row2_col7\" class=\"data row2 col7\" >0.4</td>\n",
       "      <td id=\"T_6675c_row2_col8\" class=\"data row2 col8\" >0.5</td>\n",
       "      <td id=\"T_6675c_row2_col9\" class=\"data row2 col9\" >0.5</td>\n",
       "      <td id=\"T_6675c_row2_col10\" class=\"data row2 col10\" >0.3</td>\n",
       "      <td id=\"T_6675c_row2_col11\" class=\"data row2 col11\" >0.4</td>\n",
       "      <td id=\"T_6675c_row2_col12\" class=\"data row2 col12\" >0.3</td>\n",
       "      <td id=\"T_6675c_row2_col13\" class=\"data row2 col13\" >0.4</td>\n",
       "      <td id=\"T_6675c_row2_col14\" class=\"data row2 col14\" >0.4</td>\n",
       "      <td id=\"T_6675c_row2_col15\" class=\"data row2 col15\" >0.4</td>\n",
       "      <td id=\"T_6675c_row2_col16\" class=\"data row2 col16\" >0.4</td>\n",
       "    </tr>\n",
       "    <tr>\n",
       "      <th id=\"T_6675c_level0_row3\" class=\"row_heading level0 row3\" >min</th>\n",
       "      <td id=\"T_6675c_row3_col0\" class=\"data row3 col0\" >20.0</td>\n",
       "      <td id=\"T_6675c_row3_col1\" class=\"data row3 col1\" >4000.0</td>\n",
       "      <td id=\"T_6675c_row3_col2\" class=\"data row3 col2\" >0.0</td>\n",
       "      <td id=\"T_6675c_row3_col3\" class=\"data row3 col3\" >500.0</td>\n",
       "      <td id=\"T_6675c_row3_col4\" class=\"data row3 col4\" >5.4</td>\n",
       "      <td id=\"T_6675c_row3_col5\" class=\"data row3 col5\" >0.0</td>\n",
       "      <td id=\"T_6675c_row3_col6\" class=\"data row3 col6\" >2.0</td>\n",
       "      <td id=\"T_6675c_row3_col7\" class=\"data row3 col7\" >0.0</td>\n",
       "      <td id=\"T_6675c_row3_col8\" class=\"data row3 col8\" >0.0</td>\n",
       "      <td id=\"T_6675c_row3_col9\" class=\"data row3 col9\" >0.0</td>\n",
       "      <td id=\"T_6675c_row3_col10\" class=\"data row3 col10\" >0.0</td>\n",
       "      <td id=\"T_6675c_row3_col11\" class=\"data row3 col11\" >0.0</td>\n",
       "      <td id=\"T_6675c_row3_col12\" class=\"data row3 col12\" >0.0</td>\n",
       "      <td id=\"T_6675c_row3_col13\" class=\"data row3 col13\" >0.0</td>\n",
       "      <td id=\"T_6675c_row3_col14\" class=\"data row3 col14\" >0.0</td>\n",
       "      <td id=\"T_6675c_row3_col15\" class=\"data row3 col15\" >0.0</td>\n",
       "      <td id=\"T_6675c_row3_col16\" class=\"data row3 col16\" >0.0</td>\n",
       "    </tr>\n",
       "    <tr>\n",
       "      <th id=\"T_6675c_level0_row4\" class=\"row_heading level0 row4\" >25%</th>\n",
       "      <td id=\"T_6675c_row4_col0\" class=\"data row4 col0\" >23.0</td>\n",
       "      <td id=\"T_6675c_row4_col1\" class=\"data row4 col1\" >38500.0</td>\n",
       "      <td id=\"T_6675c_row4_col2\" class=\"data row4 col2\" >2.0</td>\n",
       "      <td id=\"T_6675c_row4_col3\" class=\"data row4 col3\" >5000.0</td>\n",
       "      <td id=\"T_6675c_row4_col4\" class=\"data row4 col4\" >8.5</td>\n",
       "      <td id=\"T_6675c_row4_col5\" class=\"data row4 col5\" >0.1</td>\n",
       "      <td id=\"T_6675c_row4_col6\" class=\"data row4 col6\" >3.0</td>\n",
       "      <td id=\"T_6675c_row4_col7\" class=\"data row4 col7\" >0.0</td>\n",
       "      <td id=\"T_6675c_row4_col8\" class=\"data row4 col8\" >0.0</td>\n",
       "      <td id=\"T_6675c_row4_col9\" class=\"data row4 col9\" >0.0</td>\n",
       "      <td id=\"T_6675c_row4_col10\" class=\"data row4 col10\" >0.0</td>\n",
       "      <td id=\"T_6675c_row4_col11\" class=\"data row4 col11\" >0.0</td>\n",
       "      <td id=\"T_6675c_row4_col12\" class=\"data row4 col12\" >0.0</td>\n",
       "      <td id=\"T_6675c_row4_col13\" class=\"data row4 col13\" >0.0</td>\n",
       "      <td id=\"T_6675c_row4_col14\" class=\"data row4 col14\" >0.0</td>\n",
       "      <td id=\"T_6675c_row4_col15\" class=\"data row4 col15\" >0.0</td>\n",
       "      <td id=\"T_6675c_row4_col16\" class=\"data row4 col16\" >0.0</td>\n",
       "    </tr>\n",
       "    <tr>\n",
       "      <th id=\"T_6675c_level0_row5\" class=\"row_heading level0 row5\" >50%</th>\n",
       "      <td id=\"T_6675c_row5_col0\" class=\"data row5 col0\" >26.0</td>\n",
       "      <td id=\"T_6675c_row5_col1\" class=\"data row5 col1\" >55000.0</td>\n",
       "      <td id=\"T_6675c_row5_col2\" class=\"data row5 col2\" >4.0</td>\n",
       "      <td id=\"T_6675c_row5_col3\" class=\"data row5 col3\" >8000.0</td>\n",
       "      <td id=\"T_6675c_row5_col4\" class=\"data row5 col4\" >11.0</td>\n",
       "      <td id=\"T_6675c_row5_col5\" class=\"data row5 col5\" >0.1</td>\n",
       "      <td id=\"T_6675c_row5_col6\" class=\"data row5 col6\" >4.0</td>\n",
       "      <td id=\"T_6675c_row5_col7\" class=\"data row5 col7\" >0.0</td>\n",
       "      <td id=\"T_6675c_row5_col8\" class=\"data row5 col8\" >1.0</td>\n",
       "      <td id=\"T_6675c_row5_col9\" class=\"data row5 col9\" >0.0</td>\n",
       "      <td id=\"T_6675c_row5_col10\" class=\"data row5 col10\" >0.0</td>\n",
       "      <td id=\"T_6675c_row5_col11\" class=\"data row5 col11\" >0.0</td>\n",
       "      <td id=\"T_6675c_row5_col12\" class=\"data row5 col12\" >0.0</td>\n",
       "      <td id=\"T_6675c_row5_col13\" class=\"data row5 col13\" >0.0</td>\n",
       "      <td id=\"T_6675c_row5_col14\" class=\"data row5 col14\" >0.0</td>\n",
       "      <td id=\"T_6675c_row5_col15\" class=\"data row5 col15\" >0.0</td>\n",
       "      <td id=\"T_6675c_row5_col16\" class=\"data row5 col16\" >0.0</td>\n",
       "    </tr>\n",
       "    <tr>\n",
       "      <th id=\"T_6675c_level0_row6\" class=\"row_heading level0 row6\" >75%</th>\n",
       "      <td id=\"T_6675c_row6_col0\" class=\"data row6 col0\" >30.0</td>\n",
       "      <td id=\"T_6675c_row6_col1\" class=\"data row6 col1\" >79200.0</td>\n",
       "      <td id=\"T_6675c_row6_col2\" class=\"data row6 col2\" >7.0</td>\n",
       "      <td id=\"T_6675c_row6_col3\" class=\"data row6 col3\" >12200.0</td>\n",
       "      <td id=\"T_6675c_row6_col4\" class=\"data row6 col4\" >13.1</td>\n",
       "      <td id=\"T_6675c_row6_col5\" class=\"data row6 col5\" >0.2</td>\n",
       "      <td id=\"T_6675c_row6_col6\" class=\"data row6 col6\" >8.0</td>\n",
       "      <td id=\"T_6675c_row6_col7\" class=\"data row6 col7\" >0.0</td>\n",
       "      <td id=\"T_6675c_row6_col8\" class=\"data row6 col8\" >1.0</td>\n",
       "      <td id=\"T_6675c_row6_col9\" class=\"data row6 col9\" >1.0</td>\n",
       "      <td id=\"T_6675c_row6_col10\" class=\"data row6 col10\" >0.0</td>\n",
       "      <td id=\"T_6675c_row6_col11\" class=\"data row6 col11\" >0.0</td>\n",
       "      <td id=\"T_6675c_row6_col12\" class=\"data row6 col12\" >0.0</td>\n",
       "      <td id=\"T_6675c_row6_col13\" class=\"data row6 col13\" >0.0</td>\n",
       "      <td id=\"T_6675c_row6_col14\" class=\"data row6 col14\" >0.0</td>\n",
       "      <td id=\"T_6675c_row6_col15\" class=\"data row6 col15\" >0.0</td>\n",
       "      <td id=\"T_6675c_row6_col16\" class=\"data row6 col16\" >0.0</td>\n",
       "    </tr>\n",
       "    <tr>\n",
       "      <th id=\"T_6675c_level0_row7\" class=\"row_heading level0 row7\" >max</th>\n",
       "      <td id=\"T_6675c_row7_col0\" class=\"data row7 col0\" >120.0</td>\n",
       "      <td id=\"T_6675c_row7_col1\" class=\"data row7 col1\" >6000000.0</td>\n",
       "      <td id=\"T_6675c_row7_col2\" class=\"data row7 col2\" >123.0</td>\n",
       "      <td id=\"T_6675c_row7_col3\" class=\"data row7 col3\" >35000.0</td>\n",
       "      <td id=\"T_6675c_row7_col4\" class=\"data row7 col4\" >23.2</td>\n",
       "      <td id=\"T_6675c_row7_col5\" class=\"data row7 col5\" >0.8</td>\n",
       "      <td id=\"T_6675c_row7_col6\" class=\"data row7 col6\" >30.0</td>\n",
       "      <td id=\"T_6675c_row7_col7\" class=\"data row7 col7\" >1.0</td>\n",
       "      <td id=\"T_6675c_row7_col8\" class=\"data row7 col8\" >1.0</td>\n",
       "      <td id=\"T_6675c_row7_col9\" class=\"data row7 col9\" >1.0</td>\n",
       "      <td id=\"T_6675c_row7_col10\" class=\"data row7 col10\" >1.0</td>\n",
       "      <td id=\"T_6675c_row7_col11\" class=\"data row7 col11\" >1.0</td>\n",
       "      <td id=\"T_6675c_row7_col12\" class=\"data row7 col12\" >1.0</td>\n",
       "      <td id=\"T_6675c_row7_col13\" class=\"data row7 col13\" >1.0</td>\n",
       "      <td id=\"T_6675c_row7_col14\" class=\"data row7 col14\" >1.0</td>\n",
       "      <td id=\"T_6675c_row7_col15\" class=\"data row7 col15\" >1.0</td>\n",
       "      <td id=\"T_6675c_row7_col16\" class=\"data row7 col16\" >1.0</td>\n",
       "    </tr>\n",
       "  </tbody>\n",
       "</table>\n"
      ],
      "text/plain": [
       "<pandas.io.formats.style.Styler at 0x1d79ef8e160>"
      ]
     },
     "execution_count": 167,
     "metadata": {},
     "output_type": "execute_result"
    }
   ],
   "source": [
    "df_dummies.describe().style.format(\"{:.1f}\")"
   ]
  },
  {
   "cell_type": "code",
   "execution_count": 168,
   "id": "36db9451-7c77-44d0-ad20-bd7ad0f0d806",
   "metadata": {
    "tags": []
   },
   "outputs": [
    {
     "name": "stdout",
     "output_type": "stream",
     "text": [
      "<class 'pandas.core.frame.DataFrame'>\n",
      "RangeIndex: 32581 entries, 0 to 32580\n",
      "Data columns (total 18 columns):\n",
      " #   Column                          Non-Null Count  Dtype  \n",
      "---  ------                          --------------  -----  \n",
      " 0   person_age                      32581 non-null  int64  \n",
      " 1   person_income                   32581 non-null  int64  \n",
      " 2   person_home_ownership           32581 non-null  object \n",
      " 3   person_emp_length               32581 non-null  float64\n",
      " 4   loan_amnt                       32581 non-null  int64  \n",
      " 5   loan_int_rate                   32581 non-null  float64\n",
      " 6   loan_percent_income             32581 non-null  float64\n",
      " 7   cb_person_cred_hist_length      32581 non-null  int64  \n",
      " 8   y                               32581 non-null  int64  \n",
      " 9   person_home_ownership_Rent      32581 non-null  float64\n",
      " 10  person_home_ownership_MORTGAGE  32581 non-null  float64\n",
      " 11  person_home_ownership_OWN       32581 non-null  float64\n",
      " 12  loan_intent_EDUCATION           32581 non-null  int64  \n",
      " 13  loan_intent_HOMEIMPROVEMENT     32581 non-null  int64  \n",
      " 14  loan_intent_MEDICAL             32581 non-null  int64  \n",
      " 15  loan_intent_PERSONAL            32581 non-null  int64  \n",
      " 16  loan_intent_VENTURE             32581 non-null  int64  \n",
      " 17  cb_person_default_on_file_Y     32581 non-null  int64  \n",
      "dtypes: float64(6), int64(11), object(1)\n",
      "memory usage: 4.5+ MB\n"
     ]
    }
   ],
   "source": [
    "df_dummies.info()"
   ]
  },
  {
   "cell_type": "markdown",
   "id": "f6af1310-8a6c-4cb2-93cc-d5b473a6ef11",
   "metadata": {},
   "source": [
    "Now we can drop the original categorical variable."
   ]
  },
  {
   "cell_type": "code",
   "execution_count": 169,
   "id": "7d518bf8-a6a5-4d36-9a6b-5cf6298ce668",
   "metadata": {
    "tags": []
   },
   "outputs": [],
   "source": [
    "df_dddd=df_dummies.drop(columns=['person_home_ownership'])"
   ]
  },
  {
   "cell_type": "code",
   "execution_count": 235,
   "id": "604ca0f1-fa09-410e-ba96-b4729daa60ef",
   "metadata": {
    "tags": []
   },
   "outputs": [
    {
     "name": "stdout",
     "output_type": "stream",
     "text": [
      "<class 'pandas.core.frame.DataFrame'>\n",
      "RangeIndex: 32581 entries, 0 to 32580\n",
      "Data columns (total 17 columns):\n",
      " #   Column                          Non-Null Count  Dtype  \n",
      "---  ------                          --------------  -----  \n",
      " 0   person_age                      32581 non-null  int64  \n",
      " 1   person_income                   32581 non-null  int64  \n",
      " 2   person_emp_length               32581 non-null  float64\n",
      " 3   loan_amnt                       32581 non-null  int64  \n",
      " 4   loan_int_rate                   32581 non-null  float64\n",
      " 5   loan_percent_income             32581 non-null  float64\n",
      " 6   cb_person_cred_hist_length      32581 non-null  int64  \n",
      " 7   y                               32581 non-null  int64  \n",
      " 8   person_home_ownership_Rent      32581 non-null  float64\n",
      " 9   person_home_ownership_MORTGAGE  32581 non-null  float64\n",
      " 10  person_home_ownership_OWN       32581 non-null  float64\n",
      " 11  loan_intent_EDUCATION           32581 non-null  int64  \n",
      " 12  loan_intent_HOMEIMPROVEMENT     32581 non-null  int64  \n",
      " 13  loan_intent_MEDICAL             32581 non-null  int64  \n",
      " 14  loan_intent_PERSONAL            32581 non-null  int64  \n",
      " 15  loan_intent_VENTURE             32581 non-null  int64  \n",
      " 16  cb_person_default_on_file_Y     32581 non-null  int64  \n",
      "dtypes: float64(6), int64(11)\n",
      "memory usage: 4.2 MB\n"
     ]
    }
   ],
   "source": [
    "df_dddd.info()"
   ]
  },
  {
   "cell_type": "markdown",
   "id": "eebaeb4f-a972-4dc5-ad0d-c01a96e6ff5e",
   "metadata": {},
   "source": [
    "**Standardisation**   \n",
    "We use StandardScaler so all the input variables will be on the same scale. "
   ]
  },
  {
   "cell_type": "code",
   "execution_count": 171,
   "id": "c216fd2e-fdbe-4deb-a6c4-4639fd89c989",
   "metadata": {
    "tags": []
   },
   "outputs": [],
   "source": [
    "scaler = StandardScaler().fit(X=df_dddd.drop(columns=['y'])).set_output(transform=\"pandas\")\n",
    "df_scal = scaler.transform(df_dddd.drop(columns=['y']))"
   ]
  },
  {
   "cell_type": "code",
   "execution_count": 172,
   "id": "d961bf6e-db68-433c-8dcf-e726f77a9804",
   "metadata": {
    "tags": []
   },
   "outputs": [],
   "source": [
    "df_scal['y']=df_dddd['y']"
   ]
  },
  {
   "cell_type": "code",
   "execution_count": 173,
   "id": "bf4bbc75-e502-40c6-a16b-a0c78617a6fb",
   "metadata": {
    "tags": []
   },
   "outputs": [
    {
     "data": {
      "text/html": [
       "<style type=\"text/css\">\n",
       "</style>\n",
       "<table id=\"T_87aaa\">\n",
       "  <thead>\n",
       "    <tr>\n",
       "      <th class=\"blank level0\" >&nbsp;</th>\n",
       "      <th id=\"T_87aaa_level0_col0\" class=\"col_heading level0 col0\" >person_age</th>\n",
       "      <th id=\"T_87aaa_level0_col1\" class=\"col_heading level0 col1\" >person_income</th>\n",
       "      <th id=\"T_87aaa_level0_col2\" class=\"col_heading level0 col2\" >person_emp_length</th>\n",
       "      <th id=\"T_87aaa_level0_col3\" class=\"col_heading level0 col3\" >loan_amnt</th>\n",
       "      <th id=\"T_87aaa_level0_col4\" class=\"col_heading level0 col4\" >loan_int_rate</th>\n",
       "      <th id=\"T_87aaa_level0_col5\" class=\"col_heading level0 col5\" >loan_percent_income</th>\n",
       "      <th id=\"T_87aaa_level0_col6\" class=\"col_heading level0 col6\" >cb_person_cred_hist_length</th>\n",
       "      <th id=\"T_87aaa_level0_col7\" class=\"col_heading level0 col7\" >person_home_ownership_Rent</th>\n",
       "      <th id=\"T_87aaa_level0_col8\" class=\"col_heading level0 col8\" >person_home_ownership_MORTGAGE</th>\n",
       "      <th id=\"T_87aaa_level0_col9\" class=\"col_heading level0 col9\" >person_home_ownership_OWN</th>\n",
       "      <th id=\"T_87aaa_level0_col10\" class=\"col_heading level0 col10\" >loan_intent_EDUCATION</th>\n",
       "      <th id=\"T_87aaa_level0_col11\" class=\"col_heading level0 col11\" >loan_intent_HOMEIMPROVEMENT</th>\n",
       "      <th id=\"T_87aaa_level0_col12\" class=\"col_heading level0 col12\" >loan_intent_MEDICAL</th>\n",
       "      <th id=\"T_87aaa_level0_col13\" class=\"col_heading level0 col13\" >loan_intent_PERSONAL</th>\n",
       "      <th id=\"T_87aaa_level0_col14\" class=\"col_heading level0 col14\" >loan_intent_VENTURE</th>\n",
       "      <th id=\"T_87aaa_level0_col15\" class=\"col_heading level0 col15\" >cb_person_default_on_file_Y</th>\n",
       "      <th id=\"T_87aaa_level0_col16\" class=\"col_heading level0 col16\" >y</th>\n",
       "    </tr>\n",
       "  </thead>\n",
       "  <tbody>\n",
       "    <tr>\n",
       "      <th id=\"T_87aaa_level0_row0\" class=\"row_heading level0 row0\" >count</th>\n",
       "      <td id=\"T_87aaa_row0_col0\" class=\"data row0 col0\" >32581.0</td>\n",
       "      <td id=\"T_87aaa_row0_col1\" class=\"data row0 col1\" >32581.0</td>\n",
       "      <td id=\"T_87aaa_row0_col2\" class=\"data row0 col2\" >32581.0</td>\n",
       "      <td id=\"T_87aaa_row0_col3\" class=\"data row0 col3\" >32581.0</td>\n",
       "      <td id=\"T_87aaa_row0_col4\" class=\"data row0 col4\" >32581.0</td>\n",
       "      <td id=\"T_87aaa_row0_col5\" class=\"data row0 col5\" >32581.0</td>\n",
       "      <td id=\"T_87aaa_row0_col6\" class=\"data row0 col6\" >32581.0</td>\n",
       "      <td id=\"T_87aaa_row0_col7\" class=\"data row0 col7\" >32581.0</td>\n",
       "      <td id=\"T_87aaa_row0_col8\" class=\"data row0 col8\" >32581.0</td>\n",
       "      <td id=\"T_87aaa_row0_col9\" class=\"data row0 col9\" >32581.0</td>\n",
       "      <td id=\"T_87aaa_row0_col10\" class=\"data row0 col10\" >32581.0</td>\n",
       "      <td id=\"T_87aaa_row0_col11\" class=\"data row0 col11\" >32581.0</td>\n",
       "      <td id=\"T_87aaa_row0_col12\" class=\"data row0 col12\" >32581.0</td>\n",
       "      <td id=\"T_87aaa_row0_col13\" class=\"data row0 col13\" >32581.0</td>\n",
       "      <td id=\"T_87aaa_row0_col14\" class=\"data row0 col14\" >32581.0</td>\n",
       "      <td id=\"T_87aaa_row0_col15\" class=\"data row0 col15\" >32581.0</td>\n",
       "      <td id=\"T_87aaa_row0_col16\" class=\"data row0 col16\" >32581.0</td>\n",
       "    </tr>\n",
       "    <tr>\n",
       "      <th id=\"T_87aaa_level0_row1\" class=\"row_heading level0 row1\" >mean</th>\n",
       "      <td id=\"T_87aaa_row1_col0\" class=\"data row1 col0\" >0.0</td>\n",
       "      <td id=\"T_87aaa_row1_col1\" class=\"data row1 col1\" >0.0</td>\n",
       "      <td id=\"T_87aaa_row1_col2\" class=\"data row1 col2\" >-0.0</td>\n",
       "      <td id=\"T_87aaa_row1_col3\" class=\"data row1 col3\" >-0.0</td>\n",
       "      <td id=\"T_87aaa_row1_col4\" class=\"data row1 col4\" >-0.0</td>\n",
       "      <td id=\"T_87aaa_row1_col5\" class=\"data row1 col5\" >-0.0</td>\n",
       "      <td id=\"T_87aaa_row1_col6\" class=\"data row1 col6\" >-0.0</td>\n",
       "      <td id=\"T_87aaa_row1_col7\" class=\"data row1 col7\" >0.0</td>\n",
       "      <td id=\"T_87aaa_row1_col8\" class=\"data row1 col8\" >-0.0</td>\n",
       "      <td id=\"T_87aaa_row1_col9\" class=\"data row1 col9\" >-0.0</td>\n",
       "      <td id=\"T_87aaa_row1_col10\" class=\"data row1 col10\" >0.0</td>\n",
       "      <td id=\"T_87aaa_row1_col11\" class=\"data row1 col11\" >-0.0</td>\n",
       "      <td id=\"T_87aaa_row1_col12\" class=\"data row1 col12\" >0.0</td>\n",
       "      <td id=\"T_87aaa_row1_col13\" class=\"data row1 col13\" >-0.0</td>\n",
       "      <td id=\"T_87aaa_row1_col14\" class=\"data row1 col14\" >0.0</td>\n",
       "      <td id=\"T_87aaa_row1_col15\" class=\"data row1 col15\" >0.0</td>\n",
       "      <td id=\"T_87aaa_row1_col16\" class=\"data row1 col16\" >0.2</td>\n",
       "    </tr>\n",
       "    <tr>\n",
       "      <th id=\"T_87aaa_level0_row2\" class=\"row_heading level0 row2\" >std</th>\n",
       "      <td id=\"T_87aaa_row2_col0\" class=\"data row2 col0\" >1.0</td>\n",
       "      <td id=\"T_87aaa_row2_col1\" class=\"data row2 col1\" >1.0</td>\n",
       "      <td id=\"T_87aaa_row2_col2\" class=\"data row2 col2\" >1.0</td>\n",
       "      <td id=\"T_87aaa_row2_col3\" class=\"data row2 col3\" >1.0</td>\n",
       "      <td id=\"T_87aaa_row2_col4\" class=\"data row2 col4\" >1.0</td>\n",
       "      <td id=\"T_87aaa_row2_col5\" class=\"data row2 col5\" >1.0</td>\n",
       "      <td id=\"T_87aaa_row2_col6\" class=\"data row2 col6\" >1.0</td>\n",
       "      <td id=\"T_87aaa_row2_col7\" class=\"data row2 col7\" >1.0</td>\n",
       "      <td id=\"T_87aaa_row2_col8\" class=\"data row2 col8\" >1.0</td>\n",
       "      <td id=\"T_87aaa_row2_col9\" class=\"data row2 col9\" >1.0</td>\n",
       "      <td id=\"T_87aaa_row2_col10\" class=\"data row2 col10\" >1.0</td>\n",
       "      <td id=\"T_87aaa_row2_col11\" class=\"data row2 col11\" >1.0</td>\n",
       "      <td id=\"T_87aaa_row2_col12\" class=\"data row2 col12\" >1.0</td>\n",
       "      <td id=\"T_87aaa_row2_col13\" class=\"data row2 col13\" >1.0</td>\n",
       "      <td id=\"T_87aaa_row2_col14\" class=\"data row2 col14\" >1.0</td>\n",
       "      <td id=\"T_87aaa_row2_col15\" class=\"data row2 col15\" >1.0</td>\n",
       "      <td id=\"T_87aaa_row2_col16\" class=\"data row2 col16\" >0.4</td>\n",
       "    </tr>\n",
       "    <tr>\n",
       "      <th id=\"T_87aaa_level0_row3\" class=\"row_heading level0 row3\" >min</th>\n",
       "      <td id=\"T_87aaa_row3_col0\" class=\"data row3 col0\" >-1.2</td>\n",
       "      <td id=\"T_87aaa_row3_col1\" class=\"data row3 col1\" >-1.0</td>\n",
       "      <td id=\"T_87aaa_row3_col2\" class=\"data row3 col2\" >-1.1</td>\n",
       "      <td id=\"T_87aaa_row3_col3\" class=\"data row3 col3\" >-1.4</td>\n",
       "      <td id=\"T_87aaa_row3_col4\" class=\"data row3 col4\" >-1.8</td>\n",
       "      <td id=\"T_87aaa_row3_col5\" class=\"data row3 col5\" >-1.6</td>\n",
       "      <td id=\"T_87aaa_row3_col6\" class=\"data row3 col6\" >-0.9</td>\n",
       "      <td id=\"T_87aaa_row3_col7\" class=\"data row3 col7\" >-1.0</td>\n",
       "      <td id=\"T_87aaa_row3_col8\" class=\"data row3 col8\" >-0.8</td>\n",
       "      <td id=\"T_87aaa_row3_col9\" class=\"data row3 col9\" >-0.3</td>\n",
       "      <td id=\"T_87aaa_row3_col10\" class=\"data row3 col10\" >-0.5</td>\n",
       "      <td id=\"T_87aaa_row3_col11\" class=\"data row3 col11\" >-0.4</td>\n",
       "      <td id=\"T_87aaa_row3_col12\" class=\"data row3 col12\" >-0.5</td>\n",
       "      <td id=\"T_87aaa_row3_col13\" class=\"data row3 col13\" >-0.5</td>\n",
       "      <td id=\"T_87aaa_row3_col14\" class=\"data row3 col14\" >-0.5</td>\n",
       "      <td id=\"T_87aaa_row3_col15\" class=\"data row3 col15\" >-0.5</td>\n",
       "      <td id=\"T_87aaa_row3_col16\" class=\"data row3 col16\" >0.0</td>\n",
       "    </tr>\n",
       "    <tr>\n",
       "      <th id=\"T_87aaa_level0_row4\" class=\"row_heading level0 row4\" >25%</th>\n",
       "      <td id=\"T_87aaa_row4_col0\" class=\"data row4 col0\" >-0.8</td>\n",
       "      <td id=\"T_87aaa_row4_col1\" class=\"data row4 col1\" >-0.4</td>\n",
       "      <td id=\"T_87aaa_row4_col2\" class=\"data row4 col2\" >-0.6</td>\n",
       "      <td id=\"T_87aaa_row4_col3\" class=\"data row4 col3\" >-0.7</td>\n",
       "      <td id=\"T_87aaa_row4_col4\" class=\"data row4 col4\" >-0.8</td>\n",
       "      <td id=\"T_87aaa_row4_col5\" class=\"data row4 col5\" >-0.8</td>\n",
       "      <td id=\"T_87aaa_row4_col6\" class=\"data row4 col6\" >-0.7</td>\n",
       "      <td id=\"T_87aaa_row4_col7\" class=\"data row4 col7\" >-1.0</td>\n",
       "      <td id=\"T_87aaa_row4_col8\" class=\"data row4 col8\" >-0.8</td>\n",
       "      <td id=\"T_87aaa_row4_col9\" class=\"data row4 col9\" >-0.3</td>\n",
       "      <td id=\"T_87aaa_row4_col10\" class=\"data row4 col10\" >-0.5</td>\n",
       "      <td id=\"T_87aaa_row4_col11\" class=\"data row4 col11\" >-0.4</td>\n",
       "      <td id=\"T_87aaa_row4_col12\" class=\"data row4 col12\" >-0.5</td>\n",
       "      <td id=\"T_87aaa_row4_col13\" class=\"data row4 col13\" >-0.5</td>\n",
       "      <td id=\"T_87aaa_row4_col14\" class=\"data row4 col14\" >-0.5</td>\n",
       "      <td id=\"T_87aaa_row4_col15\" class=\"data row4 col15\" >-0.5</td>\n",
       "      <td id=\"T_87aaa_row4_col16\" class=\"data row4 col16\" >0.0</td>\n",
       "    </tr>\n",
       "    <tr>\n",
       "      <th id=\"T_87aaa_level0_row5\" class=\"row_heading level0 row5\" >50%</th>\n",
       "      <td id=\"T_87aaa_row5_col0\" class=\"data row5 col0\" >-0.3</td>\n",
       "      <td id=\"T_87aaa_row5_col1\" class=\"data row5 col1\" >-0.2</td>\n",
       "      <td id=\"T_87aaa_row5_col2\" class=\"data row5 col2\" >-0.2</td>\n",
       "      <td id=\"T_87aaa_row5_col3\" class=\"data row5 col3\" >-0.3</td>\n",
       "      <td id=\"T_87aaa_row5_col4\" class=\"data row5 col4\" >-0.0</td>\n",
       "      <td id=\"T_87aaa_row5_col5\" class=\"data row5 col5\" >-0.2</td>\n",
       "      <td id=\"T_87aaa_row5_col6\" class=\"data row5 col6\" >-0.4</td>\n",
       "      <td id=\"T_87aaa_row5_col7\" class=\"data row5 col7\" >1.0</td>\n",
       "      <td id=\"T_87aaa_row5_col8\" class=\"data row5 col8\" >-0.8</td>\n",
       "      <td id=\"T_87aaa_row5_col9\" class=\"data row5 col9\" >-0.3</td>\n",
       "      <td id=\"T_87aaa_row5_col10\" class=\"data row5 col10\" >-0.5</td>\n",
       "      <td id=\"T_87aaa_row5_col11\" class=\"data row5 col11\" >-0.4</td>\n",
       "      <td id=\"T_87aaa_row5_col12\" class=\"data row5 col12\" >-0.5</td>\n",
       "      <td id=\"T_87aaa_row5_col13\" class=\"data row5 col13\" >-0.5</td>\n",
       "      <td id=\"T_87aaa_row5_col14\" class=\"data row5 col14\" >-0.5</td>\n",
       "      <td id=\"T_87aaa_row5_col15\" class=\"data row5 col15\" >-0.5</td>\n",
       "      <td id=\"T_87aaa_row5_col16\" class=\"data row5 col16\" >0.0</td>\n",
       "    </tr>\n",
       "    <tr>\n",
       "      <th id=\"T_87aaa_level0_row6\" class=\"row_heading level0 row6\" >75%</th>\n",
       "      <td id=\"T_87aaa_row6_col0\" class=\"data row6 col0\" >0.4</td>\n",
       "      <td id=\"T_87aaa_row6_col1\" class=\"data row6 col1\" >0.2</td>\n",
       "      <td id=\"T_87aaa_row6_col2\" class=\"data row6 col2\" >0.6</td>\n",
       "      <td id=\"T_87aaa_row6_col3\" class=\"data row6 col3\" >0.4</td>\n",
       "      <td id=\"T_87aaa_row6_col4\" class=\"data row6 col4\" >0.7</td>\n",
       "      <td id=\"T_87aaa_row6_col5\" class=\"data row6 col5\" >0.6</td>\n",
       "      <td id=\"T_87aaa_row6_col6\" class=\"data row6 col6\" >0.5</td>\n",
       "      <td id=\"T_87aaa_row6_col7\" class=\"data row6 col7\" >1.0</td>\n",
       "      <td id=\"T_87aaa_row6_col8\" class=\"data row6 col8\" >1.2</td>\n",
       "      <td id=\"T_87aaa_row6_col9\" class=\"data row6 col9\" >-0.3</td>\n",
       "      <td id=\"T_87aaa_row6_col10\" class=\"data row6 col10\" >-0.5</td>\n",
       "      <td id=\"T_87aaa_row6_col11\" class=\"data row6 col11\" >-0.4</td>\n",
       "      <td id=\"T_87aaa_row6_col12\" class=\"data row6 col12\" >-0.5</td>\n",
       "      <td id=\"T_87aaa_row6_col13\" class=\"data row6 col13\" >-0.5</td>\n",
       "      <td id=\"T_87aaa_row6_col14\" class=\"data row6 col14\" >-0.5</td>\n",
       "      <td id=\"T_87aaa_row6_col15\" class=\"data row6 col15\" >-0.5</td>\n",
       "      <td id=\"T_87aaa_row6_col16\" class=\"data row6 col16\" >0.0</td>\n",
       "    </tr>\n",
       "    <tr>\n",
       "      <th id=\"T_87aaa_level0_row7\" class=\"row_heading level0 row7\" >max</th>\n",
       "      <td id=\"T_87aaa_row7_col0\" class=\"data row7 col0\" >14.6</td>\n",
       "      <td id=\"T_87aaa_row7_col1\" class=\"data row7 col1\" >95.7</td>\n",
       "      <td id=\"T_87aaa_row7_col2\" class=\"data row7 col2\" >28.5</td>\n",
       "      <td id=\"T_87aaa_row7_col3\" class=\"data row7 col3\" >4.0</td>\n",
       "      <td id=\"T_87aaa_row7_col4\" class=\"data row7 col4\" >4.0</td>\n",
       "      <td id=\"T_87aaa_row7_col5\" class=\"data row7 col5\" >6.2</td>\n",
       "      <td id=\"T_87aaa_row7_col6\" class=\"data row7 col6\" >6.0</td>\n",
       "      <td id=\"T_87aaa_row7_col7\" class=\"data row7 col7\" >1.0</td>\n",
       "      <td id=\"T_87aaa_row7_col8\" class=\"data row7 col8\" >1.2</td>\n",
       "      <td id=\"T_87aaa_row7_col9\" class=\"data row7 col9\" >3.4</td>\n",
       "      <td id=\"T_87aaa_row7_col10\" class=\"data row7 col10\" >2.0</td>\n",
       "      <td id=\"T_87aaa_row7_col11\" class=\"data row7 col11\" >2.8</td>\n",
       "      <td id=\"T_87aaa_row7_col12\" class=\"data row7 col12\" >2.1</td>\n",
       "      <td id=\"T_87aaa_row7_col13\" class=\"data row7 col13\" >2.2</td>\n",
       "      <td id=\"T_87aaa_row7_col14\" class=\"data row7 col14\" >2.2</td>\n",
       "      <td id=\"T_87aaa_row7_col15\" class=\"data row7 col15\" >2.2</td>\n",
       "      <td id=\"T_87aaa_row7_col16\" class=\"data row7 col16\" >1.0</td>\n",
       "    </tr>\n",
       "  </tbody>\n",
       "</table>\n"
      ],
      "text/plain": [
       "<pandas.io.formats.style.Styler at 0x1d7a07e9130>"
      ]
     },
     "execution_count": 173,
     "metadata": {},
     "output_type": "execute_result"
    }
   ],
   "source": [
    "df_scal.describe().style.format(\"{:.1f}\")"
   ]
  },
  {
   "cell_type": "markdown",
   "id": "7de0bc4b-17c0-413c-9824-034bd50d2cff",
   "metadata": {},
   "source": [
    "**Splitting the data**\n",
    "\n",
    "Let's split the data into a train set and a test set."
   ]
  },
  {
   "cell_type": "code",
   "execution_count": 174,
   "id": "13cda5a8-2083-4900-a742-9b1296e4468d",
   "metadata": {},
   "outputs": [],
   "source": [
    "train=df_dddd.sample(frac=0.7,ignore_index=False)\n",
    "test=df_dddd.drop(index=train.index)"
   ]
  },
  {
   "cell_type": "code",
   "execution_count": 175,
   "id": "afb80261-dead-4bff-bdfe-5ccc8656452b",
   "metadata": {
    "tags": []
   },
   "outputs": [
    {
     "data": {
      "text/html": [
       "<style type=\"text/css\">\n",
       "</style>\n",
       "<table id=\"T_543ee\">\n",
       "  <thead>\n",
       "    <tr>\n",
       "      <th class=\"blank level0\" >&nbsp;</th>\n",
       "      <th id=\"T_543ee_level0_col0\" class=\"col_heading level0 col0\" >person_age</th>\n",
       "      <th id=\"T_543ee_level0_col1\" class=\"col_heading level0 col1\" >person_income</th>\n",
       "      <th id=\"T_543ee_level0_col2\" class=\"col_heading level0 col2\" >person_emp_length</th>\n",
       "      <th id=\"T_543ee_level0_col3\" class=\"col_heading level0 col3\" >loan_amnt</th>\n",
       "      <th id=\"T_543ee_level0_col4\" class=\"col_heading level0 col4\" >loan_int_rate</th>\n",
       "      <th id=\"T_543ee_level0_col5\" class=\"col_heading level0 col5\" >loan_percent_income</th>\n",
       "      <th id=\"T_543ee_level0_col6\" class=\"col_heading level0 col6\" >cb_person_cred_hist_length</th>\n",
       "      <th id=\"T_543ee_level0_col7\" class=\"col_heading level0 col7\" >y</th>\n",
       "      <th id=\"T_543ee_level0_col8\" class=\"col_heading level0 col8\" >person_home_ownership_Rent</th>\n",
       "      <th id=\"T_543ee_level0_col9\" class=\"col_heading level0 col9\" >person_home_ownership_MORTGAGE</th>\n",
       "      <th id=\"T_543ee_level0_col10\" class=\"col_heading level0 col10\" >person_home_ownership_OWN</th>\n",
       "      <th id=\"T_543ee_level0_col11\" class=\"col_heading level0 col11\" >loan_intent_EDUCATION</th>\n",
       "      <th id=\"T_543ee_level0_col12\" class=\"col_heading level0 col12\" >loan_intent_HOMEIMPROVEMENT</th>\n",
       "      <th id=\"T_543ee_level0_col13\" class=\"col_heading level0 col13\" >loan_intent_MEDICAL</th>\n",
       "      <th id=\"T_543ee_level0_col14\" class=\"col_heading level0 col14\" >loan_intent_PERSONAL</th>\n",
       "      <th id=\"T_543ee_level0_col15\" class=\"col_heading level0 col15\" >loan_intent_VENTURE</th>\n",
       "      <th id=\"T_543ee_level0_col16\" class=\"col_heading level0 col16\" >cb_person_default_on_file_Y</th>\n",
       "    </tr>\n",
       "  </thead>\n",
       "  <tbody>\n",
       "    <tr>\n",
       "      <th id=\"T_543ee_level0_row0\" class=\"row_heading level0 row0\" >count</th>\n",
       "      <td id=\"T_543ee_row0_col0\" class=\"data row0 col0\" >22807.00</td>\n",
       "      <td id=\"T_543ee_row0_col1\" class=\"data row0 col1\" >22807.00</td>\n",
       "      <td id=\"T_543ee_row0_col2\" class=\"data row0 col2\" >22807.00</td>\n",
       "      <td id=\"T_543ee_row0_col3\" class=\"data row0 col3\" >22807.00</td>\n",
       "      <td id=\"T_543ee_row0_col4\" class=\"data row0 col4\" >22807.00</td>\n",
       "      <td id=\"T_543ee_row0_col5\" class=\"data row0 col5\" >22807.00</td>\n",
       "      <td id=\"T_543ee_row0_col6\" class=\"data row0 col6\" >22807.00</td>\n",
       "      <td id=\"T_543ee_row0_col7\" class=\"data row0 col7\" >22807.00</td>\n",
       "      <td id=\"T_543ee_row0_col8\" class=\"data row0 col8\" >22807.00</td>\n",
       "      <td id=\"T_543ee_row0_col9\" class=\"data row0 col9\" >22807.00</td>\n",
       "      <td id=\"T_543ee_row0_col10\" class=\"data row0 col10\" >22807.00</td>\n",
       "      <td id=\"T_543ee_row0_col11\" class=\"data row0 col11\" >22807.00</td>\n",
       "      <td id=\"T_543ee_row0_col12\" class=\"data row0 col12\" >22807.00</td>\n",
       "      <td id=\"T_543ee_row0_col13\" class=\"data row0 col13\" >22807.00</td>\n",
       "      <td id=\"T_543ee_row0_col14\" class=\"data row0 col14\" >22807.00</td>\n",
       "      <td id=\"T_543ee_row0_col15\" class=\"data row0 col15\" >22807.00</td>\n",
       "      <td id=\"T_543ee_row0_col16\" class=\"data row0 col16\" >22807.00</td>\n",
       "    </tr>\n",
       "    <tr>\n",
       "      <th id=\"T_543ee_level0_row1\" class=\"row_heading level0 row1\" >mean</th>\n",
       "      <td id=\"T_543ee_row1_col0\" class=\"data row1 col0\" >27.71</td>\n",
       "      <td id=\"T_543ee_row1_col1\" class=\"data row1 col1\" >65905.98</td>\n",
       "      <td id=\"T_543ee_row1_col2\" class=\"data row1 col2\" >4.64</td>\n",
       "      <td id=\"T_543ee_row1_col3\" class=\"data row1 col3\" >9548.58</td>\n",
       "      <td id=\"T_543ee_row1_col4\" class=\"data row1 col4\" >11.01</td>\n",
       "      <td id=\"T_543ee_row1_col5\" class=\"data row1 col5\" >0.17</td>\n",
       "      <td id=\"T_543ee_row1_col6\" class=\"data row1 col6\" >5.79</td>\n",
       "      <td id=\"T_543ee_row1_col7\" class=\"data row1 col7\" >0.22</td>\n",
       "      <td id=\"T_543ee_row1_col8\" class=\"data row1 col8\" >0.51</td>\n",
       "      <td id=\"T_543ee_row1_col9\" class=\"data row1 col9\" >0.41</td>\n",
       "      <td id=\"T_543ee_row1_col10\" class=\"data row1 col10\" >0.08</td>\n",
       "      <td id=\"T_543ee_row1_col11\" class=\"data row1 col11\" >0.20</td>\n",
       "      <td id=\"T_543ee_row1_col12\" class=\"data row1 col12\" >0.11</td>\n",
       "      <td id=\"T_543ee_row1_col13\" class=\"data row1 col13\" >0.19</td>\n",
       "      <td id=\"T_543ee_row1_col14\" class=\"data row1 col14\" >0.17</td>\n",
       "      <td id=\"T_543ee_row1_col15\" class=\"data row1 col15\" >0.17</td>\n",
       "      <td id=\"T_543ee_row1_col16\" class=\"data row1 col16\" >0.18</td>\n",
       "    </tr>\n",
       "    <tr>\n",
       "      <th id=\"T_543ee_level0_row2\" class=\"row_heading level0 row2\" >std</th>\n",
       "      <td id=\"T_543ee_row2_col0\" class=\"data row2 col0\" >6.29</td>\n",
       "      <td id=\"T_543ee_row2_col1\" class=\"data row2 col1\" >53135.98</td>\n",
       "      <td id=\"T_543ee_row2_col2\" class=\"data row2 col2\" >4.06</td>\n",
       "      <td id=\"T_543ee_row2_col3\" class=\"data row2 col3\" >6300.68</td>\n",
       "      <td id=\"T_543ee_row2_col4\" class=\"data row2 col4\" >3.09</td>\n",
       "      <td id=\"T_543ee_row2_col5\" class=\"data row2 col5\" >0.11</td>\n",
       "      <td id=\"T_543ee_row2_col6\" class=\"data row2 col6\" >4.04</td>\n",
       "      <td id=\"T_543ee_row2_col7\" class=\"data row2 col7\" >0.41</td>\n",
       "      <td id=\"T_543ee_row2_col8\" class=\"data row2 col8\" >0.50</td>\n",
       "      <td id=\"T_543ee_row2_col9\" class=\"data row2 col9\" >0.49</td>\n",
       "      <td id=\"T_543ee_row2_col10\" class=\"data row2 col10\" >0.27</td>\n",
       "      <td id=\"T_543ee_row2_col11\" class=\"data row2 col11\" >0.40</td>\n",
       "      <td id=\"T_543ee_row2_col12\" class=\"data row2 col12\" >0.31</td>\n",
       "      <td id=\"T_543ee_row2_col13\" class=\"data row2 col13\" >0.39</td>\n",
       "      <td id=\"T_543ee_row2_col14\" class=\"data row2 col14\" >0.38</td>\n",
       "      <td id=\"T_543ee_row2_col15\" class=\"data row2 col15\" >0.38</td>\n",
       "      <td id=\"T_543ee_row2_col16\" class=\"data row2 col16\" >0.38</td>\n",
       "    </tr>\n",
       "    <tr>\n",
       "      <th id=\"T_543ee_level0_row3\" class=\"row_heading level0 row3\" >min</th>\n",
       "      <td id=\"T_543ee_row3_col0\" class=\"data row3 col0\" >20.00</td>\n",
       "      <td id=\"T_543ee_row3_col1\" class=\"data row3 col1\" >4000.00</td>\n",
       "      <td id=\"T_543ee_row3_col2\" class=\"data row3 col2\" >0.00</td>\n",
       "      <td id=\"T_543ee_row3_col3\" class=\"data row3 col3\" >500.00</td>\n",
       "      <td id=\"T_543ee_row3_col4\" class=\"data row3 col4\" >5.42</td>\n",
       "      <td id=\"T_543ee_row3_col5\" class=\"data row3 col5\" >0.00</td>\n",
       "      <td id=\"T_543ee_row3_col6\" class=\"data row3 col6\" >2.00</td>\n",
       "      <td id=\"T_543ee_row3_col7\" class=\"data row3 col7\" >0.00</td>\n",
       "      <td id=\"T_543ee_row3_col8\" class=\"data row3 col8\" >0.00</td>\n",
       "      <td id=\"T_543ee_row3_col9\" class=\"data row3 col9\" >0.00</td>\n",
       "      <td id=\"T_543ee_row3_col10\" class=\"data row3 col10\" >0.00</td>\n",
       "      <td id=\"T_543ee_row3_col11\" class=\"data row3 col11\" >0.00</td>\n",
       "      <td id=\"T_543ee_row3_col12\" class=\"data row3 col12\" >0.00</td>\n",
       "      <td id=\"T_543ee_row3_col13\" class=\"data row3 col13\" >0.00</td>\n",
       "      <td id=\"T_543ee_row3_col14\" class=\"data row3 col14\" >0.00</td>\n",
       "      <td id=\"T_543ee_row3_col15\" class=\"data row3 col15\" >0.00</td>\n",
       "      <td id=\"T_543ee_row3_col16\" class=\"data row3 col16\" >0.00</td>\n",
       "    </tr>\n",
       "    <tr>\n",
       "      <th id=\"T_543ee_level0_row4\" class=\"row_heading level0 row4\" >25%</th>\n",
       "      <td id=\"T_543ee_row4_col0\" class=\"data row4 col0\" >23.00</td>\n",
       "      <td id=\"T_543ee_row4_col1\" class=\"data row4 col1\" >38400.00</td>\n",
       "      <td id=\"T_543ee_row4_col2\" class=\"data row4 col2\" >2.00</td>\n",
       "      <td id=\"T_543ee_row4_col3\" class=\"data row4 col3\" >5000.00</td>\n",
       "      <td id=\"T_543ee_row4_col4\" class=\"data row4 col4\" >8.49</td>\n",
       "      <td id=\"T_543ee_row4_col5\" class=\"data row4 col5\" >0.09</td>\n",
       "      <td id=\"T_543ee_row4_col6\" class=\"data row4 col6\" >3.00</td>\n",
       "      <td id=\"T_543ee_row4_col7\" class=\"data row4 col7\" >0.00</td>\n",
       "      <td id=\"T_543ee_row4_col8\" class=\"data row4 col8\" >0.00</td>\n",
       "      <td id=\"T_543ee_row4_col9\" class=\"data row4 col9\" >0.00</td>\n",
       "      <td id=\"T_543ee_row4_col10\" class=\"data row4 col10\" >0.00</td>\n",
       "      <td id=\"T_543ee_row4_col11\" class=\"data row4 col11\" >0.00</td>\n",
       "      <td id=\"T_543ee_row4_col12\" class=\"data row4 col12\" >0.00</td>\n",
       "      <td id=\"T_543ee_row4_col13\" class=\"data row4 col13\" >0.00</td>\n",
       "      <td id=\"T_543ee_row4_col14\" class=\"data row4 col14\" >0.00</td>\n",
       "      <td id=\"T_543ee_row4_col15\" class=\"data row4 col15\" >0.00</td>\n",
       "      <td id=\"T_543ee_row4_col16\" class=\"data row4 col16\" >0.00</td>\n",
       "    </tr>\n",
       "    <tr>\n",
       "      <th id=\"T_543ee_level0_row5\" class=\"row_heading level0 row5\" >50%</th>\n",
       "      <td id=\"T_543ee_row5_col0\" class=\"data row5 col0\" >26.00</td>\n",
       "      <td id=\"T_543ee_row5_col1\" class=\"data row5 col1\" >55000.00</td>\n",
       "      <td id=\"T_543ee_row5_col2\" class=\"data row5 col2\" >4.00</td>\n",
       "      <td id=\"T_543ee_row5_col3\" class=\"data row5 col3\" >8000.00</td>\n",
       "      <td id=\"T_543ee_row5_col4\" class=\"data row5 col4\" >11.01</td>\n",
       "      <td id=\"T_543ee_row5_col5\" class=\"data row5 col5\" >0.15</td>\n",
       "      <td id=\"T_543ee_row5_col6\" class=\"data row5 col6\" >4.00</td>\n",
       "      <td id=\"T_543ee_row5_col7\" class=\"data row5 col7\" >0.00</td>\n",
       "      <td id=\"T_543ee_row5_col8\" class=\"data row5 col8\" >1.00</td>\n",
       "      <td id=\"T_543ee_row5_col9\" class=\"data row5 col9\" >0.00</td>\n",
       "      <td id=\"T_543ee_row5_col10\" class=\"data row5 col10\" >0.00</td>\n",
       "      <td id=\"T_543ee_row5_col11\" class=\"data row5 col11\" >0.00</td>\n",
       "      <td id=\"T_543ee_row5_col12\" class=\"data row5 col12\" >0.00</td>\n",
       "      <td id=\"T_543ee_row5_col13\" class=\"data row5 col13\" >0.00</td>\n",
       "      <td id=\"T_543ee_row5_col14\" class=\"data row5 col14\" >0.00</td>\n",
       "      <td id=\"T_543ee_row5_col15\" class=\"data row5 col15\" >0.00</td>\n",
       "      <td id=\"T_543ee_row5_col16\" class=\"data row5 col16\" >0.00</td>\n",
       "    </tr>\n",
       "    <tr>\n",
       "      <th id=\"T_543ee_level0_row6\" class=\"row_heading level0 row6\" >75%</th>\n",
       "      <td id=\"T_543ee_row6_col0\" class=\"data row6 col0\" >30.00</td>\n",
       "      <td id=\"T_543ee_row6_col1\" class=\"data row6 col1\" >78838.50</td>\n",
       "      <td id=\"T_543ee_row6_col2\" class=\"data row6 col2\" >7.00</td>\n",
       "      <td id=\"T_543ee_row6_col3\" class=\"data row6 col3\" >12000.00</td>\n",
       "      <td id=\"T_543ee_row6_col4\" class=\"data row6 col4\" >13.11</td>\n",
       "      <td id=\"T_543ee_row6_col5\" class=\"data row6 col5\" >0.23</td>\n",
       "      <td id=\"T_543ee_row6_col6\" class=\"data row6 col6\" >8.00</td>\n",
       "      <td id=\"T_543ee_row6_col7\" class=\"data row6 col7\" >0.00</td>\n",
       "      <td id=\"T_543ee_row6_col8\" class=\"data row6 col8\" >1.00</td>\n",
       "      <td id=\"T_543ee_row6_col9\" class=\"data row6 col9\" >1.00</td>\n",
       "      <td id=\"T_543ee_row6_col10\" class=\"data row6 col10\" >0.00</td>\n",
       "      <td id=\"T_543ee_row6_col11\" class=\"data row6 col11\" >0.00</td>\n",
       "      <td id=\"T_543ee_row6_col12\" class=\"data row6 col12\" >0.00</td>\n",
       "      <td id=\"T_543ee_row6_col13\" class=\"data row6 col13\" >0.00</td>\n",
       "      <td id=\"T_543ee_row6_col14\" class=\"data row6 col14\" >0.00</td>\n",
       "      <td id=\"T_543ee_row6_col15\" class=\"data row6 col15\" >0.00</td>\n",
       "      <td id=\"T_543ee_row6_col16\" class=\"data row6 col16\" >0.00</td>\n",
       "    </tr>\n",
       "    <tr>\n",
       "      <th id=\"T_543ee_level0_row7\" class=\"row_heading level0 row7\" >max</th>\n",
       "      <td id=\"T_543ee_row7_col0\" class=\"data row7 col0\" >120.00</td>\n",
       "      <td id=\"T_543ee_row7_col1\" class=\"data row7 col1\" >2039784.00</td>\n",
       "      <td id=\"T_543ee_row7_col2\" class=\"data row7 col2\" >41.00</td>\n",
       "      <td id=\"T_543ee_row7_col3\" class=\"data row7 col3\" >35000.00</td>\n",
       "      <td id=\"T_543ee_row7_col4\" class=\"data row7 col4\" >23.22</td>\n",
       "      <td id=\"T_543ee_row7_col5\" class=\"data row7 col5\" >0.83</td>\n",
       "      <td id=\"T_543ee_row7_col6\" class=\"data row7 col6\" >30.00</td>\n",
       "      <td id=\"T_543ee_row7_col7\" class=\"data row7 col7\" >1.00</td>\n",
       "      <td id=\"T_543ee_row7_col8\" class=\"data row7 col8\" >1.00</td>\n",
       "      <td id=\"T_543ee_row7_col9\" class=\"data row7 col9\" >1.00</td>\n",
       "      <td id=\"T_543ee_row7_col10\" class=\"data row7 col10\" >1.00</td>\n",
       "      <td id=\"T_543ee_row7_col11\" class=\"data row7 col11\" >1.00</td>\n",
       "      <td id=\"T_543ee_row7_col12\" class=\"data row7 col12\" >1.00</td>\n",
       "      <td id=\"T_543ee_row7_col13\" class=\"data row7 col13\" >1.00</td>\n",
       "      <td id=\"T_543ee_row7_col14\" class=\"data row7 col14\" >1.00</td>\n",
       "      <td id=\"T_543ee_row7_col15\" class=\"data row7 col15\" >1.00</td>\n",
       "      <td id=\"T_543ee_row7_col16\" class=\"data row7 col16\" >1.00</td>\n",
       "    </tr>\n",
       "  </tbody>\n",
       "</table>\n"
      ],
      "text/plain": [
       "<pandas.io.formats.style.Styler at 0x1d7a0833f10>"
      ]
     },
     "execution_count": 175,
     "metadata": {},
     "output_type": "execute_result"
    }
   ],
   "source": [
    "train.describe().style.format(\"{:.2f}\")"
   ]
  },
  {
   "cell_type": "code",
   "execution_count": 176,
   "id": "27229f4b-b9fe-4e9a-bf1b-59138c8fd602",
   "metadata": {
    "tags": []
   },
   "outputs": [
    {
     "data": {
      "text/html": [
       "<style type=\"text/css\">\n",
       "</style>\n",
       "<table id=\"T_3a197\">\n",
       "  <thead>\n",
       "    <tr>\n",
       "      <th class=\"blank level0\" >&nbsp;</th>\n",
       "      <th id=\"T_3a197_level0_col0\" class=\"col_heading level0 col0\" >person_age</th>\n",
       "      <th id=\"T_3a197_level0_col1\" class=\"col_heading level0 col1\" >person_income</th>\n",
       "      <th id=\"T_3a197_level0_col2\" class=\"col_heading level0 col2\" >person_emp_length</th>\n",
       "      <th id=\"T_3a197_level0_col3\" class=\"col_heading level0 col3\" >loan_amnt</th>\n",
       "      <th id=\"T_3a197_level0_col4\" class=\"col_heading level0 col4\" >loan_int_rate</th>\n",
       "      <th id=\"T_3a197_level0_col5\" class=\"col_heading level0 col5\" >loan_percent_income</th>\n",
       "      <th id=\"T_3a197_level0_col6\" class=\"col_heading level0 col6\" >cb_person_cred_hist_length</th>\n",
       "      <th id=\"T_3a197_level0_col7\" class=\"col_heading level0 col7\" >y</th>\n",
       "      <th id=\"T_3a197_level0_col8\" class=\"col_heading level0 col8\" >person_home_ownership_Rent</th>\n",
       "      <th id=\"T_3a197_level0_col9\" class=\"col_heading level0 col9\" >person_home_ownership_MORTGAGE</th>\n",
       "      <th id=\"T_3a197_level0_col10\" class=\"col_heading level0 col10\" >person_home_ownership_OWN</th>\n",
       "      <th id=\"T_3a197_level0_col11\" class=\"col_heading level0 col11\" >loan_intent_EDUCATION</th>\n",
       "      <th id=\"T_3a197_level0_col12\" class=\"col_heading level0 col12\" >loan_intent_HOMEIMPROVEMENT</th>\n",
       "      <th id=\"T_3a197_level0_col13\" class=\"col_heading level0 col13\" >loan_intent_MEDICAL</th>\n",
       "      <th id=\"T_3a197_level0_col14\" class=\"col_heading level0 col14\" >loan_intent_PERSONAL</th>\n",
       "      <th id=\"T_3a197_level0_col15\" class=\"col_heading level0 col15\" >loan_intent_VENTURE</th>\n",
       "      <th id=\"T_3a197_level0_col16\" class=\"col_heading level0 col16\" >cb_person_default_on_file_Y</th>\n",
       "    </tr>\n",
       "  </thead>\n",
       "  <tbody>\n",
       "    <tr>\n",
       "      <th id=\"T_3a197_level0_row0\" class=\"row_heading level0 row0\" >count</th>\n",
       "      <td id=\"T_3a197_row0_col0\" class=\"data row0 col0\" >9774.00</td>\n",
       "      <td id=\"T_3a197_row0_col1\" class=\"data row0 col1\" >9774.00</td>\n",
       "      <td id=\"T_3a197_row0_col2\" class=\"data row0 col2\" >9774.00</td>\n",
       "      <td id=\"T_3a197_row0_col3\" class=\"data row0 col3\" >9774.00</td>\n",
       "      <td id=\"T_3a197_row0_col4\" class=\"data row0 col4\" >9774.00</td>\n",
       "      <td id=\"T_3a197_row0_col5\" class=\"data row0 col5\" >9774.00</td>\n",
       "      <td id=\"T_3a197_row0_col6\" class=\"data row0 col6\" >9774.00</td>\n",
       "      <td id=\"T_3a197_row0_col7\" class=\"data row0 col7\" >9774.00</td>\n",
       "      <td id=\"T_3a197_row0_col8\" class=\"data row0 col8\" >9774.00</td>\n",
       "      <td id=\"T_3a197_row0_col9\" class=\"data row0 col9\" >9774.00</td>\n",
       "      <td id=\"T_3a197_row0_col10\" class=\"data row0 col10\" >9774.00</td>\n",
       "      <td id=\"T_3a197_row0_col11\" class=\"data row0 col11\" >9774.00</td>\n",
       "      <td id=\"T_3a197_row0_col12\" class=\"data row0 col12\" >9774.00</td>\n",
       "      <td id=\"T_3a197_row0_col13\" class=\"data row0 col13\" >9774.00</td>\n",
       "      <td id=\"T_3a197_row0_col14\" class=\"data row0 col14\" >9774.00</td>\n",
       "      <td id=\"T_3a197_row0_col15\" class=\"data row0 col15\" >9774.00</td>\n",
       "      <td id=\"T_3a197_row0_col16\" class=\"data row0 col16\" >9774.00</td>\n",
       "    </tr>\n",
       "    <tr>\n",
       "      <th id=\"T_3a197_level0_row1\" class=\"row_heading level0 row1\" >mean</th>\n",
       "      <td id=\"T_3a197_row1_col0\" class=\"data row1 col0\" >27.79</td>\n",
       "      <td id=\"T_3a197_row1_col1\" class=\"data row1 col1\" >66468.89</td>\n",
       "      <td id=\"T_3a197_row1_col2\" class=\"data row1 col2\" >4.71</td>\n",
       "      <td id=\"T_3a197_row1_col3\" class=\"data row1 col3\" >9684.55</td>\n",
       "      <td id=\"T_3a197_row1_col4\" class=\"data row1 col4\" >11.02</td>\n",
       "      <td id=\"T_3a197_row1_col5\" class=\"data row1 col5\" >0.17</td>\n",
       "      <td id=\"T_3a197_row1_col6\" class=\"data row1 col6\" >5.84</td>\n",
       "      <td id=\"T_3a197_row1_col7\" class=\"data row1 col7\" >0.22</td>\n",
       "      <td id=\"T_3a197_row1_col8\" class=\"data row1 col8\" >0.50</td>\n",
       "      <td id=\"T_3a197_row1_col9\" class=\"data row1 col9\" >0.42</td>\n",
       "      <td id=\"T_3a197_row1_col10\" class=\"data row1 col10\" >0.08</td>\n",
       "      <td id=\"T_3a197_row1_col11\" class=\"data row1 col11\" >0.20</td>\n",
       "      <td id=\"T_3a197_row1_col12\" class=\"data row1 col12\" >0.11</td>\n",
       "      <td id=\"T_3a197_row1_col13\" class=\"data row1 col13\" >0.18</td>\n",
       "      <td id=\"T_3a197_row1_col14\" class=\"data row1 col14\" >0.17</td>\n",
       "      <td id=\"T_3a197_row1_col15\" class=\"data row1 col15\" >0.18</td>\n",
       "      <td id=\"T_3a197_row1_col16\" class=\"data row1 col16\" >0.17</td>\n",
       "    </tr>\n",
       "    <tr>\n",
       "      <th id=\"T_3a197_level0_row2\" class=\"row_heading level0 row2\" >std</th>\n",
       "      <td id=\"T_3a197_row2_col0\" class=\"data row2 col0\" >6.35</td>\n",
       "      <td id=\"T_3a197_row2_col1\" class=\"data row2 col1\" >78859.13</td>\n",
       "      <td id=\"T_3a197_row2_col2\" class=\"data row2 col2\" >4.39</td>\n",
       "      <td id=\"T_3a197_row2_col3\" class=\"data row2 col3\" >6371.07</td>\n",
       "      <td id=\"T_3a197_row2_col4\" class=\"data row2 col4\" >3.07</td>\n",
       "      <td id=\"T_3a197_row2_col5\" class=\"data row2 col5\" >0.11</td>\n",
       "      <td id=\"T_3a197_row2_col6\" class=\"data row2 col6\" >4.08</td>\n",
       "      <td id=\"T_3a197_row2_col7\" class=\"data row2 col7\" >0.41</td>\n",
       "      <td id=\"T_3a197_row2_col8\" class=\"data row2 col8\" >0.50</td>\n",
       "      <td id=\"T_3a197_row2_col9\" class=\"data row2 col9\" >0.49</td>\n",
       "      <td id=\"T_3a197_row2_col10\" class=\"data row2 col10\" >0.27</td>\n",
       "      <td id=\"T_3a197_row2_col11\" class=\"data row2 col11\" >0.40</td>\n",
       "      <td id=\"T_3a197_row2_col12\" class=\"data row2 col12\" >0.31</td>\n",
       "      <td id=\"T_3a197_row2_col13\" class=\"data row2 col13\" >0.39</td>\n",
       "      <td id=\"T_3a197_row2_col14\" class=\"data row2 col14\" >0.37</td>\n",
       "      <td id=\"T_3a197_row2_col15\" class=\"data row2 col15\" >0.38</td>\n",
       "      <td id=\"T_3a197_row2_col16\" class=\"data row2 col16\" >0.38</td>\n",
       "    </tr>\n",
       "    <tr>\n",
       "      <th id=\"T_3a197_level0_row3\" class=\"row_heading level0 row3\" >min</th>\n",
       "      <td id=\"T_3a197_row3_col0\" class=\"data row3 col0\" >20.00</td>\n",
       "      <td id=\"T_3a197_row3_col1\" class=\"data row3 col1\" >4080.00</td>\n",
       "      <td id=\"T_3a197_row3_col2\" class=\"data row3 col2\" >0.00</td>\n",
       "      <td id=\"T_3a197_row3_col3\" class=\"data row3 col3\" >500.00</td>\n",
       "      <td id=\"T_3a197_row3_col4\" class=\"data row3 col4\" >5.42</td>\n",
       "      <td id=\"T_3a197_row3_col5\" class=\"data row3 col5\" >0.00</td>\n",
       "      <td id=\"T_3a197_row3_col6\" class=\"data row3 col6\" >2.00</td>\n",
       "      <td id=\"T_3a197_row3_col7\" class=\"data row3 col7\" >0.00</td>\n",
       "      <td id=\"T_3a197_row3_col8\" class=\"data row3 col8\" >0.00</td>\n",
       "      <td id=\"T_3a197_row3_col9\" class=\"data row3 col9\" >0.00</td>\n",
       "      <td id=\"T_3a197_row3_col10\" class=\"data row3 col10\" >0.00</td>\n",
       "      <td id=\"T_3a197_row3_col11\" class=\"data row3 col11\" >0.00</td>\n",
       "      <td id=\"T_3a197_row3_col12\" class=\"data row3 col12\" >0.00</td>\n",
       "      <td id=\"T_3a197_row3_col13\" class=\"data row3 col13\" >0.00</td>\n",
       "      <td id=\"T_3a197_row3_col14\" class=\"data row3 col14\" >0.00</td>\n",
       "      <td id=\"T_3a197_row3_col15\" class=\"data row3 col15\" >0.00</td>\n",
       "      <td id=\"T_3a197_row3_col16\" class=\"data row3 col16\" >0.00</td>\n",
       "    </tr>\n",
       "    <tr>\n",
       "      <th id=\"T_3a197_level0_row4\" class=\"row_heading level0 row4\" >25%</th>\n",
       "      <td id=\"T_3a197_row4_col0\" class=\"data row4 col0\" >23.00</td>\n",
       "      <td id=\"T_3a197_row4_col1\" class=\"data row4 col1\" >39000.00</td>\n",
       "      <td id=\"T_3a197_row4_col2\" class=\"data row4 col2\" >2.00</td>\n",
       "      <td id=\"T_3a197_row4_col3\" class=\"data row4 col3\" >5000.00</td>\n",
       "      <td id=\"T_3a197_row4_col4\" class=\"data row4 col4\" >8.49</td>\n",
       "      <td id=\"T_3a197_row4_col5\" class=\"data row4 col5\" >0.09</td>\n",
       "      <td id=\"T_3a197_row4_col6\" class=\"data row4 col6\" >3.00</td>\n",
       "      <td id=\"T_3a197_row4_col7\" class=\"data row4 col7\" >0.00</td>\n",
       "      <td id=\"T_3a197_row4_col8\" class=\"data row4 col8\" >0.00</td>\n",
       "      <td id=\"T_3a197_row4_col9\" class=\"data row4 col9\" >0.00</td>\n",
       "      <td id=\"T_3a197_row4_col10\" class=\"data row4 col10\" >0.00</td>\n",
       "      <td id=\"T_3a197_row4_col11\" class=\"data row4 col11\" >0.00</td>\n",
       "      <td id=\"T_3a197_row4_col12\" class=\"data row4 col12\" >0.00</td>\n",
       "      <td id=\"T_3a197_row4_col13\" class=\"data row4 col13\" >0.00</td>\n",
       "      <td id=\"T_3a197_row4_col14\" class=\"data row4 col14\" >0.00</td>\n",
       "      <td id=\"T_3a197_row4_col15\" class=\"data row4 col15\" >0.00</td>\n",
       "      <td id=\"T_3a197_row4_col16\" class=\"data row4 col16\" >0.00</td>\n",
       "    </tr>\n",
       "    <tr>\n",
       "      <th id=\"T_3a197_level0_row5\" class=\"row_heading level0 row5\" >50%</th>\n",
       "      <td id=\"T_3a197_row5_col0\" class=\"data row5 col0\" >26.00</td>\n",
       "      <td id=\"T_3a197_row5_col1\" class=\"data row5 col1\" >56000.00</td>\n",
       "      <td id=\"T_3a197_row5_col2\" class=\"data row5 col2\" >4.00</td>\n",
       "      <td id=\"T_3a197_row5_col3\" class=\"data row5 col3\" >8000.00</td>\n",
       "      <td id=\"T_3a197_row5_col4\" class=\"data row5 col4\" >11.01</td>\n",
       "      <td id=\"T_3a197_row5_col5\" class=\"data row5 col5\" >0.15</td>\n",
       "      <td id=\"T_3a197_row5_col6\" class=\"data row5 col6\" >4.00</td>\n",
       "      <td id=\"T_3a197_row5_col7\" class=\"data row5 col7\" >0.00</td>\n",
       "      <td id=\"T_3a197_row5_col8\" class=\"data row5 col8\" >0.00</td>\n",
       "      <td id=\"T_3a197_row5_col9\" class=\"data row5 col9\" >0.00</td>\n",
       "      <td id=\"T_3a197_row5_col10\" class=\"data row5 col10\" >0.00</td>\n",
       "      <td id=\"T_3a197_row5_col11\" class=\"data row5 col11\" >0.00</td>\n",
       "      <td id=\"T_3a197_row5_col12\" class=\"data row5 col12\" >0.00</td>\n",
       "      <td id=\"T_3a197_row5_col13\" class=\"data row5 col13\" >0.00</td>\n",
       "      <td id=\"T_3a197_row5_col14\" class=\"data row5 col14\" >0.00</td>\n",
       "      <td id=\"T_3a197_row5_col15\" class=\"data row5 col15\" >0.00</td>\n",
       "      <td id=\"T_3a197_row5_col16\" class=\"data row5 col16\" >0.00</td>\n",
       "    </tr>\n",
       "    <tr>\n",
       "      <th id=\"T_3a197_level0_row6\" class=\"row_heading level0 row6\" >75%</th>\n",
       "      <td id=\"T_3a197_row6_col0\" class=\"data row6 col0\" >30.00</td>\n",
       "      <td id=\"T_3a197_row6_col1\" class=\"data row6 col1\" >80000.00</td>\n",
       "      <td id=\"T_3a197_row6_col2\" class=\"data row6 col2\" >7.00</td>\n",
       "      <td id=\"T_3a197_row6_col3\" class=\"data row6 col3\" >12600.00</td>\n",
       "      <td id=\"T_3a197_row6_col4\" class=\"data row6 col4\" >13.11</td>\n",
       "      <td id=\"T_3a197_row6_col5\" class=\"data row6 col5\" >0.23</td>\n",
       "      <td id=\"T_3a197_row6_col6\" class=\"data row6 col6\" >8.00</td>\n",
       "      <td id=\"T_3a197_row6_col7\" class=\"data row6 col7\" >0.00</td>\n",
       "      <td id=\"T_3a197_row6_col8\" class=\"data row6 col8\" >1.00</td>\n",
       "      <td id=\"T_3a197_row6_col9\" class=\"data row6 col9\" >1.00</td>\n",
       "      <td id=\"T_3a197_row6_col10\" class=\"data row6 col10\" >0.00</td>\n",
       "      <td id=\"T_3a197_row6_col11\" class=\"data row6 col11\" >0.00</td>\n",
       "      <td id=\"T_3a197_row6_col12\" class=\"data row6 col12\" >0.00</td>\n",
       "      <td id=\"T_3a197_row6_col13\" class=\"data row6 col13\" >0.00</td>\n",
       "      <td id=\"T_3a197_row6_col14\" class=\"data row6 col14\" >0.00</td>\n",
       "      <td id=\"T_3a197_row6_col15\" class=\"data row6 col15\" >0.00</td>\n",
       "      <td id=\"T_3a197_row6_col16\" class=\"data row6 col16\" >0.00</td>\n",
       "    </tr>\n",
       "    <tr>\n",
       "      <th id=\"T_3a197_level0_row7\" class=\"row_heading level0 row7\" >max</th>\n",
       "      <td id=\"T_3a197_row7_col0\" class=\"data row7 col0\" >120.00</td>\n",
       "      <td id=\"T_3a197_row7_col1\" class=\"data row7 col1\" >6000000.00</td>\n",
       "      <td id=\"T_3a197_row7_col2\" class=\"data row7 col2\" >123.00</td>\n",
       "      <td id=\"T_3a197_row7_col3\" class=\"data row7 col3\" >35000.00</td>\n",
       "      <td id=\"T_3a197_row7_col4\" class=\"data row7 col4\" >22.11</td>\n",
       "      <td id=\"T_3a197_row7_col5\" class=\"data row7 col5\" >0.77</td>\n",
       "      <td id=\"T_3a197_row7_col6\" class=\"data row7 col6\" >30.00</td>\n",
       "      <td id=\"T_3a197_row7_col7\" class=\"data row7 col7\" >1.00</td>\n",
       "      <td id=\"T_3a197_row7_col8\" class=\"data row7 col8\" >1.00</td>\n",
       "      <td id=\"T_3a197_row7_col9\" class=\"data row7 col9\" >1.00</td>\n",
       "      <td id=\"T_3a197_row7_col10\" class=\"data row7 col10\" >1.00</td>\n",
       "      <td id=\"T_3a197_row7_col11\" class=\"data row7 col11\" >1.00</td>\n",
       "      <td id=\"T_3a197_row7_col12\" class=\"data row7 col12\" >1.00</td>\n",
       "      <td id=\"T_3a197_row7_col13\" class=\"data row7 col13\" >1.00</td>\n",
       "      <td id=\"T_3a197_row7_col14\" class=\"data row7 col14\" >1.00</td>\n",
       "      <td id=\"T_3a197_row7_col15\" class=\"data row7 col15\" >1.00</td>\n",
       "      <td id=\"T_3a197_row7_col16\" class=\"data row7 col16\" >1.00</td>\n",
       "    </tr>\n",
       "  </tbody>\n",
       "</table>\n"
      ],
      "text/plain": [
       "<pandas.io.formats.style.Styler at 0x1d7a08418b0>"
      ]
     },
     "execution_count": 176,
     "metadata": {},
     "output_type": "execute_result"
    }
   ],
   "source": [
    "\n",
    "test.describe().style.format(\"{:.2f}\")"
   ]
  },
  {
   "cell_type": "markdown",
   "id": "437c647b-3323-47a2-bc03-eebda9fa84ec",
   "metadata": {},
   "source": [
    "We will create also train and test sets with scalar values."
   ]
  },
  {
   "cell_type": "code",
   "execution_count": 177,
   "id": "da22f6fd-76b7-49d4-924c-3ace91589465",
   "metadata": {
    "tags": []
   },
   "outputs": [],
   "source": [
    "x_train=df_scal.iloc[train.index,:-1]\n",
    "y_train=df_scal.iloc[train.index,-1]\n",
    "x_test=df_scal.iloc[test.index,:-1]\n",
    "y_test=df_scal.iloc[test.index,-1]"
   ]
  },
  {
   "cell_type": "code",
   "execution_count": 178,
   "id": "fe8d7d7f-a799-480d-b80b-8e17ed4045b8",
   "metadata": {
    "tags": []
   },
   "outputs": [
    {
     "data": {
      "text/plain": [
       "count    22807.000000\n",
       "mean         0.217872\n",
       "std          0.412809\n",
       "min          0.000000\n",
       "25%          0.000000\n",
       "50%          0.000000\n",
       "75%          0.000000\n",
       "max          1.000000\n",
       "Name: y, dtype: float64"
      ]
     },
     "execution_count": 178,
     "metadata": {},
     "output_type": "execute_result"
    }
   ],
   "source": [
    "y_train.describe()"
   ]
  },
  {
   "cell_type": "code",
   "execution_count": 179,
   "id": "260bfaef-2561-46ea-bd96-8dc1906f93fc",
   "metadata": {
    "tags": []
   },
   "outputs": [
    {
     "data": {
      "text/plain": [
       "(9774, 17)"
      ]
     },
     "execution_count": 179,
     "metadata": {},
     "output_type": "execute_result"
    }
   ],
   "source": [
    "test.shape"
   ]
  },
  {
   "cell_type": "code",
   "execution_count": null,
   "id": "105f3d40-872c-4a7e-a0ac-2a9f73d77c7b",
   "metadata": {},
   "outputs": [],
   "source": []
  },
  {
   "cell_type": "code",
   "execution_count": 180,
   "id": "9fda873f-24dc-4008-b217-78d70578d8dd",
   "metadata": {
    "tags": []
   },
   "outputs": [
    {
     "data": {
      "text/plain": [
       "(9774, 16)"
      ]
     },
     "execution_count": 180,
     "metadata": {},
     "output_type": "execute_result"
    }
   ],
   "source": [
    "x_test.shape"
   ]
  },
  {
   "cell_type": "code",
   "execution_count": 181,
   "id": "30f0a0a6-9b83-474b-bf27-7becd04c236e",
   "metadata": {
    "tags": []
   },
   "outputs": [
    {
     "data": {
      "text/plain": [
       "(9774,)"
      ]
     },
     "execution_count": 181,
     "metadata": {},
     "output_type": "execute_result"
    }
   ],
   "source": [
    "y_test.shape"
   ]
  },
  {
   "cell_type": "code",
   "execution_count": 182,
   "id": "896217d1-d0ef-425b-9b9b-c6554460b1cb",
   "metadata": {
    "tags": []
   },
   "outputs": [
    {
     "name": "stdout",
     "output_type": "stream",
     "text": [
      "<class 'pandas.core.frame.DataFrame'>\n",
      "Int64Index: 22807 entries, 16402 to 9527\n",
      "Data columns (total 17 columns):\n",
      " #   Column                          Non-Null Count  Dtype  \n",
      "---  ------                          --------------  -----  \n",
      " 0   person_age                      22807 non-null  int64  \n",
      " 1   person_income                   22807 non-null  int64  \n",
      " 2   person_emp_length               22807 non-null  float64\n",
      " 3   loan_amnt                       22807 non-null  int64  \n",
      " 4   loan_int_rate                   22807 non-null  float64\n",
      " 5   loan_percent_income             22807 non-null  float64\n",
      " 6   cb_person_cred_hist_length      22807 non-null  int64  \n",
      " 7   y                               22807 non-null  int64  \n",
      " 8   person_home_ownership_Rent      22807 non-null  float64\n",
      " 9   person_home_ownership_MORTGAGE  22807 non-null  float64\n",
      " 10  person_home_ownership_OWN       22807 non-null  float64\n",
      " 11  loan_intent_EDUCATION           22807 non-null  int64  \n",
      " 12  loan_intent_HOMEIMPROVEMENT     22807 non-null  int64  \n",
      " 13  loan_intent_MEDICAL             22807 non-null  int64  \n",
      " 14  loan_intent_PERSONAL            22807 non-null  int64  \n",
      " 15  loan_intent_VENTURE             22807 non-null  int64  \n",
      " 16  cb_person_default_on_file_Y     22807 non-null  int64  \n",
      "dtypes: float64(6), int64(11)\n",
      "memory usage: 3.1 MB\n"
     ]
    }
   ],
   "source": [
    "train.info()"
   ]
  },
  {
   "cell_type": "code",
   "execution_count": 183,
   "id": "51373bd1-22af-4d42-b278-d8c705016cfc",
   "metadata": {
    "tags": []
   },
   "outputs": [
    {
     "name": "stdout",
     "output_type": "stream",
     "text": [
      "<class 'pandas.core.frame.DataFrame'>\n",
      "Int64Index: 9774 entries, 0 to 32577\n",
      "Data columns (total 16 columns):\n",
      " #   Column                          Non-Null Count  Dtype  \n",
      "---  ------                          --------------  -----  \n",
      " 0   person_age                      9774 non-null   int64  \n",
      " 1   person_income                   9774 non-null   int64  \n",
      " 2   person_emp_length               9774 non-null   float64\n",
      " 3   loan_amnt                       9774 non-null   int64  \n",
      " 4   loan_int_rate                   9774 non-null   float64\n",
      " 5   loan_percent_income             9774 non-null   float64\n",
      " 6   cb_person_cred_hist_length      9774 non-null   int64  \n",
      " 7   y                               9774 non-null   int64  \n",
      " 8   person_home_ownership_Rent      9774 non-null   float64\n",
      " 9   person_home_ownership_MORTGAGE  9774 non-null   float64\n",
      " 10  person_home_ownership_OWN       9774 non-null   float64\n",
      " 11  loan_intent_EDUCATION           9774 non-null   int64  \n",
      " 12  loan_intent_HOMEIMPROVEMENT     9774 non-null   int64  \n",
      " 13  loan_intent_MEDICAL             9774 non-null   int64  \n",
      " 14  loan_intent_PERSONAL            9774 non-null   int64  \n",
      " 15  loan_intent_VENTURE             9774 non-null   int64  \n",
      "dtypes: float64(6), int64(10)\n",
      "memory usage: 1.3 MB\n"
     ]
    }
   ],
   "source": [
    "test.iloc[:,:-1].info()"
   ]
  },
  {
   "cell_type": "code",
   "execution_count": null,
   "id": "d7ec9242-0e99-4158-9a1f-db2a45ad2636",
   "metadata": {
    "tags": []
   },
   "outputs": [],
   "source": []
  },
  {
   "cell_type": "code",
   "execution_count": 184,
   "id": "98c60be1-4d70-42b3-acf6-c09167e0f600",
   "metadata": {
    "tags": []
   },
   "outputs": [],
   "source": [
    "# pd.show_versions()"
   ]
  },
  {
   "cell_type": "code",
   "execution_count": 185,
   "id": "accffcbd-4627-4d94-b0e5-b91bcf33ca7a",
   "metadata": {},
   "outputs": [],
   "source": [
    "\n",
    "from sklearn.linear_model import *"
   ]
  },
  {
   "cell_type": "code",
   "execution_count": 186,
   "id": "b88ee65d-676e-477a-8cd1-fb4e14f21ab5",
   "metadata": {
    "tags": []
   },
   "outputs": [],
   "source": [
    "from sklearn import *\n",
    "from sklearn.preprocessing import StandardScaler\n",
    "from sklearn.linear_model import LogisticRegression\n",
    "from sklearn.metrics import confusion_matrix, accuracy_score\n",
    "import matplotlib.pyplot as plt"
   ]
  },
  {
   "cell_type": "code",
   "execution_count": 187,
   "id": "c53dc626-06b6-4369-b6f0-e62b90218c91",
   "metadata": {},
   "outputs": [],
   "source": [
    "reg_orig=LogisticRegression(penalty=None)"
   ]
  },
  {
   "cell_type": "markdown",
   "id": "804fc84e-24a2-49b1-abeb-060fa97425e5",
   "metadata": {},
   "source": [
    "**Fitting the original model**  \n",
    "Now we can fit the model - for now we are using the default hyperparameters, except of penalty that we set to None."
   ]
  },
  {
   "cell_type": "code",
   "execution_count": 188,
   "id": "1b3bc9a5-fc3b-429f-ba8c-26f0168296c1",
   "metadata": {},
   "outputs": [
    {
     "data": {
      "text/html": [
       "<style>#sk-container-id-12 {color: black;background-color: white;}#sk-container-id-12 pre{padding: 0;}#sk-container-id-12 div.sk-toggleable {background-color: white;}#sk-container-id-12 label.sk-toggleable__label {cursor: pointer;display: block;width: 100%;margin-bottom: 0;padding: 0.3em;box-sizing: border-box;text-align: center;}#sk-container-id-12 label.sk-toggleable__label-arrow:before {content: \"▸\";float: left;margin-right: 0.25em;color: #696969;}#sk-container-id-12 label.sk-toggleable__label-arrow:hover:before {color: black;}#sk-container-id-12 div.sk-estimator:hover label.sk-toggleable__label-arrow:before {color: black;}#sk-container-id-12 div.sk-toggleable__content {max-height: 0;max-width: 0;overflow: hidden;text-align: left;background-color: #f0f8ff;}#sk-container-id-12 div.sk-toggleable__content pre {margin: 0.2em;color: black;border-radius: 0.25em;background-color: #f0f8ff;}#sk-container-id-12 input.sk-toggleable__control:checked~div.sk-toggleable__content {max-height: 200px;max-width: 100%;overflow: auto;}#sk-container-id-12 input.sk-toggleable__control:checked~label.sk-toggleable__label-arrow:before {content: \"▾\";}#sk-container-id-12 div.sk-estimator input.sk-toggleable__control:checked~label.sk-toggleable__label {background-color: #d4ebff;}#sk-container-id-12 div.sk-label input.sk-toggleable__control:checked~label.sk-toggleable__label {background-color: #d4ebff;}#sk-container-id-12 input.sk-hidden--visually {border: 0;clip: rect(1px 1px 1px 1px);clip: rect(1px, 1px, 1px, 1px);height: 1px;margin: -1px;overflow: hidden;padding: 0;position: absolute;width: 1px;}#sk-container-id-12 div.sk-estimator {font-family: monospace;background-color: #f0f8ff;border: 1px dotted black;border-radius: 0.25em;box-sizing: border-box;margin-bottom: 0.5em;}#sk-container-id-12 div.sk-estimator:hover {background-color: #d4ebff;}#sk-container-id-12 div.sk-parallel-item::after {content: \"\";width: 100%;border-bottom: 1px solid gray;flex-grow: 1;}#sk-container-id-12 div.sk-label:hover label.sk-toggleable__label {background-color: #d4ebff;}#sk-container-id-12 div.sk-serial::before {content: \"\";position: absolute;border-left: 1px solid gray;box-sizing: border-box;top: 0;bottom: 0;left: 50%;z-index: 0;}#sk-container-id-12 div.sk-serial {display: flex;flex-direction: column;align-items: center;background-color: white;padding-right: 0.2em;padding-left: 0.2em;position: relative;}#sk-container-id-12 div.sk-item {position: relative;z-index: 1;}#sk-container-id-12 div.sk-parallel {display: flex;align-items: stretch;justify-content: center;background-color: white;position: relative;}#sk-container-id-12 div.sk-item::before, #sk-container-id-12 div.sk-parallel-item::before {content: \"\";position: absolute;border-left: 1px solid gray;box-sizing: border-box;top: 0;bottom: 0;left: 50%;z-index: -1;}#sk-container-id-12 div.sk-parallel-item {display: flex;flex-direction: column;z-index: 1;position: relative;background-color: white;}#sk-container-id-12 div.sk-parallel-item:first-child::after {align-self: flex-end;width: 50%;}#sk-container-id-12 div.sk-parallel-item:last-child::after {align-self: flex-start;width: 50%;}#sk-container-id-12 div.sk-parallel-item:only-child::after {width: 0;}#sk-container-id-12 div.sk-dashed-wrapped {border: 1px dashed gray;margin: 0 0.4em 0.5em 0.4em;box-sizing: border-box;padding-bottom: 0.4em;background-color: white;}#sk-container-id-12 div.sk-label label {font-family: monospace;font-weight: bold;display: inline-block;line-height: 1.2em;}#sk-container-id-12 div.sk-label-container {text-align: center;}#sk-container-id-12 div.sk-container {/* jupyter's `normalize.less` sets `[hidden] { display: none; }` but bootstrap.min.css set `[hidden] { display: none !important; }` so we also need the `!important` here to be able to override the default hidden behavior on the sphinx rendered scikit-learn.org. See: https://github.com/scikit-learn/scikit-learn/issues/21755 */display: inline-block !important;position: relative;}#sk-container-id-12 div.sk-text-repr-fallback {display: none;}</style><div id=\"sk-container-id-12\" class=\"sk-top-container\"><div class=\"sk-text-repr-fallback\"><pre>LogisticRegression(penalty=None)</pre><b>In a Jupyter environment, please rerun this cell to show the HTML representation or trust the notebook. <br />On GitHub, the HTML representation is unable to render, please try loading this page with nbviewer.org.</b></div><div class=\"sk-container\" hidden><div class=\"sk-item\"><div class=\"sk-estimator sk-toggleable\"><input class=\"sk-toggleable__control sk-hidden--visually\" id=\"sk-estimator-id-12\" type=\"checkbox\" checked><label for=\"sk-estimator-id-12\" class=\"sk-toggleable__label sk-toggleable__label-arrow\">LogisticRegression</label><div class=\"sk-toggleable__content\"><pre>LogisticRegression(penalty=None)</pre></div></div></div></div></div>"
      ],
      "text/plain": [
       "LogisticRegression(penalty=None)"
      ]
     },
     "execution_count": 188,
     "metadata": {},
     "output_type": "execute_result"
    }
   ],
   "source": [
    "reg_orig.fit(X=train.drop(columns=['y']),y=train.y)"
   ]
  },
  {
   "cell_type": "code",
   "execution_count": 189,
   "id": "40e85349-5b39-42d4-bcd2-5bf46b3cdea6",
   "metadata": {
    "tags": []
   },
   "outputs": [
    {
     "data": {
      "text/plain": [
       "0.8045336957951507"
      ]
     },
     "execution_count": 189,
     "metadata": {},
     "output_type": "execute_result"
    }
   ],
   "source": [
    "reg_orig.score(X=train.drop(columns=['y']),y=train.y)"
   ]
  },
  {
   "cell_type": "code",
   "execution_count": 190,
   "id": "7b4c0768-3f44-4dc1-92a2-073778d3f46e",
   "metadata": {
    "tags": []
   },
   "outputs": [
    {
     "data": {
      "text/plain": [
       "1131"
      ]
     },
     "execution_count": 190,
     "metadata": {},
     "output_type": "execute_result"
    }
   ],
   "source": [
    "np.count_nonzero(reg_orig.predict(X=train.drop(columns=['y'])))"
   ]
  },
  {
   "cell_type": "code",
   "execution_count": 191,
   "id": "ef026817-3be9-40db-9299-b08eb93cdde2",
   "metadata": {
    "tags": []
   },
   "outputs": [
    {
     "data": {
      "text/plain": [
       "4969"
      ]
     },
     "execution_count": 191,
     "metadata": {},
     "output_type": "execute_result"
    }
   ],
   "source": [
    "np.count_nonzero(train.y)"
   ]
  },
  {
   "cell_type": "code",
   "execution_count": 192,
   "id": "c5a054e5-6e54-4228-bc1e-81a210f6c744",
   "metadata": {},
   "outputs": [
    {
     "data": {
      "text/plain": [
       "array([[17528,   310],\n",
       "       [ 4148,   821]], dtype=int64)"
      ]
     },
     "execution_count": 192,
     "metadata": {},
     "output_type": "execute_result"
    }
   ],
   "source": [
    "confusion_matrix(y_pred=reg_orig.predict(X=train.drop(columns=['y'])),y_true=train.y)"
   ]
  },
  {
   "cell_type": "code",
   "execution_count": 193,
   "id": "8d38828c-38a1-420b-a1cd-47bc416382b5",
   "metadata": {
    "tags": []
   },
   "outputs": [
    {
     "data": {
      "text/plain": [
       "4458"
      ]
     },
     "execution_count": 193,
     "metadata": {},
     "output_type": "execute_result"
    }
   ],
   "source": [
    "((reg_orig.predict(X=train.drop(columns=['y']))!=train.y)*1).sum()"
   ]
  },
  {
   "cell_type": "code",
   "execution_count": 194,
   "id": "fef622d9-d08b-4e60-9083-596c5ee8193d",
   "metadata": {
    "tags": []
   },
   "outputs": [
    {
     "data": {
      "text/plain": [
       "array([[7514,  121],\n",
       "       [1799,  340]], dtype=int64)"
      ]
     },
     "execution_count": 194,
     "metadata": {},
     "output_type": "execute_result"
    }
   ],
   "source": [
    "confusion_matrix(y_pred=reg_orig.predict(X=test.drop(columns=['y'])),y_true=test.y)"
   ]
  },
  {
   "cell_type": "code",
   "execution_count": 195,
   "id": "d4d758c0-5ce5-4441-97d2-96ce8e01f49f",
   "metadata": {},
   "outputs": [
    {
     "data": {
      "text/plain": [
       "0.8045336957951507"
      ]
     },
     "execution_count": 195,
     "metadata": {},
     "output_type": "execute_result"
    }
   ],
   "source": [
    "accuracy_score(y_pred=reg_orig.predict(X=train.drop(columns=['y'])),y_true=train.y)"
   ]
  },
  {
   "cell_type": "code",
   "execution_count": 236,
   "id": "47ac427f-de57-4132-b2b9-316660e35514",
   "metadata": {
    "tags": []
   },
   "outputs": [
    {
     "data": {
      "text/plain": [
       "0.8035604665438919"
      ]
     },
     "execution_count": 236,
     "metadata": {},
     "output_type": "execute_result"
    }
   ],
   "source": [
    "accuracy_score(y_pred=reg_orig.predict(X=test.drop(columns=['y'])),y_true=test.y)"
   ]
  },
  {
   "cell_type": "markdown",
   "id": "a9b0e07c-3d74-418b-b3d0-e3f745790fdf",
   "metadata": {},
   "source": [
    "**Fitting the original model on the scalar values**"
   ]
  },
  {
   "cell_type": "code",
   "execution_count": 197,
   "id": "33474055-2340-4093-81fb-f2e2fb0628a8",
   "metadata": {
    "tags": []
   },
   "outputs": [],
   "source": [
    "reg_scalar=LogisticRegression(penalty=None)"
   ]
  },
  {
   "cell_type": "code",
   "execution_count": 198,
   "id": "c7661e70-3a46-46be-bed3-30dd77d19f0d",
   "metadata": {
    "tags": []
   },
   "outputs": [
    {
     "data": {
      "text/html": [
       "<style>#sk-container-id-13 {color: black;background-color: white;}#sk-container-id-13 pre{padding: 0;}#sk-container-id-13 div.sk-toggleable {background-color: white;}#sk-container-id-13 label.sk-toggleable__label {cursor: pointer;display: block;width: 100%;margin-bottom: 0;padding: 0.3em;box-sizing: border-box;text-align: center;}#sk-container-id-13 label.sk-toggleable__label-arrow:before {content: \"▸\";float: left;margin-right: 0.25em;color: #696969;}#sk-container-id-13 label.sk-toggleable__label-arrow:hover:before {color: black;}#sk-container-id-13 div.sk-estimator:hover label.sk-toggleable__label-arrow:before {color: black;}#sk-container-id-13 div.sk-toggleable__content {max-height: 0;max-width: 0;overflow: hidden;text-align: left;background-color: #f0f8ff;}#sk-container-id-13 div.sk-toggleable__content pre {margin: 0.2em;color: black;border-radius: 0.25em;background-color: #f0f8ff;}#sk-container-id-13 input.sk-toggleable__control:checked~div.sk-toggleable__content {max-height: 200px;max-width: 100%;overflow: auto;}#sk-container-id-13 input.sk-toggleable__control:checked~label.sk-toggleable__label-arrow:before {content: \"▾\";}#sk-container-id-13 div.sk-estimator input.sk-toggleable__control:checked~label.sk-toggleable__label {background-color: #d4ebff;}#sk-container-id-13 div.sk-label input.sk-toggleable__control:checked~label.sk-toggleable__label {background-color: #d4ebff;}#sk-container-id-13 input.sk-hidden--visually {border: 0;clip: rect(1px 1px 1px 1px);clip: rect(1px, 1px, 1px, 1px);height: 1px;margin: -1px;overflow: hidden;padding: 0;position: absolute;width: 1px;}#sk-container-id-13 div.sk-estimator {font-family: monospace;background-color: #f0f8ff;border: 1px dotted black;border-radius: 0.25em;box-sizing: border-box;margin-bottom: 0.5em;}#sk-container-id-13 div.sk-estimator:hover {background-color: #d4ebff;}#sk-container-id-13 div.sk-parallel-item::after {content: \"\";width: 100%;border-bottom: 1px solid gray;flex-grow: 1;}#sk-container-id-13 div.sk-label:hover label.sk-toggleable__label {background-color: #d4ebff;}#sk-container-id-13 div.sk-serial::before {content: \"\";position: absolute;border-left: 1px solid gray;box-sizing: border-box;top: 0;bottom: 0;left: 50%;z-index: 0;}#sk-container-id-13 div.sk-serial {display: flex;flex-direction: column;align-items: center;background-color: white;padding-right: 0.2em;padding-left: 0.2em;position: relative;}#sk-container-id-13 div.sk-item {position: relative;z-index: 1;}#sk-container-id-13 div.sk-parallel {display: flex;align-items: stretch;justify-content: center;background-color: white;position: relative;}#sk-container-id-13 div.sk-item::before, #sk-container-id-13 div.sk-parallel-item::before {content: \"\";position: absolute;border-left: 1px solid gray;box-sizing: border-box;top: 0;bottom: 0;left: 50%;z-index: -1;}#sk-container-id-13 div.sk-parallel-item {display: flex;flex-direction: column;z-index: 1;position: relative;background-color: white;}#sk-container-id-13 div.sk-parallel-item:first-child::after {align-self: flex-end;width: 50%;}#sk-container-id-13 div.sk-parallel-item:last-child::after {align-self: flex-start;width: 50%;}#sk-container-id-13 div.sk-parallel-item:only-child::after {width: 0;}#sk-container-id-13 div.sk-dashed-wrapped {border: 1px dashed gray;margin: 0 0.4em 0.5em 0.4em;box-sizing: border-box;padding-bottom: 0.4em;background-color: white;}#sk-container-id-13 div.sk-label label {font-family: monospace;font-weight: bold;display: inline-block;line-height: 1.2em;}#sk-container-id-13 div.sk-label-container {text-align: center;}#sk-container-id-13 div.sk-container {/* jupyter's `normalize.less` sets `[hidden] { display: none; }` but bootstrap.min.css set `[hidden] { display: none !important; }` so we also need the `!important` here to be able to override the default hidden behavior on the sphinx rendered scikit-learn.org. See: https://github.com/scikit-learn/scikit-learn/issues/21755 */display: inline-block !important;position: relative;}#sk-container-id-13 div.sk-text-repr-fallback {display: none;}</style><div id=\"sk-container-id-13\" class=\"sk-top-container\"><div class=\"sk-text-repr-fallback\"><pre>LogisticRegression(penalty=None)</pre><b>In a Jupyter environment, please rerun this cell to show the HTML representation or trust the notebook. <br />On GitHub, the HTML representation is unable to render, please try loading this page with nbviewer.org.</b></div><div class=\"sk-container\" hidden><div class=\"sk-item\"><div class=\"sk-estimator sk-toggleable\"><input class=\"sk-toggleable__control sk-hidden--visually\" id=\"sk-estimator-id-13\" type=\"checkbox\" checked><label for=\"sk-estimator-id-13\" class=\"sk-toggleable__label sk-toggleable__label-arrow\">LogisticRegression</label><div class=\"sk-toggleable__content\"><pre>LogisticRegression(penalty=None)</pre></div></div></div></div></div>"
      ],
      "text/plain": [
       "LogisticRegression(penalty=None)"
      ]
     },
     "execution_count": 198,
     "metadata": {},
     "output_type": "execute_result"
    }
   ],
   "source": [
    "reg_scalar.fit(X=x_train,y=y_train)"
   ]
  },
  {
   "cell_type": "code",
   "execution_count": 199,
   "id": "7ec6b6d1-c189-4527-87dd-18a22e56768a",
   "metadata": {
    "tags": []
   },
   "outputs": [
    {
     "data": {
      "text/plain": [
       "0.8461875739904415"
      ]
     },
     "execution_count": 199,
     "metadata": {},
     "output_type": "execute_result"
    }
   ],
   "source": [
    "reg_scalar.score(X=x_train,y=y_train)"
   ]
  },
  {
   "cell_type": "code",
   "execution_count": 237,
   "id": "e986c839-c636-4938-a4d5-4c712c860f94",
   "metadata": {
    "tags": []
   },
   "outputs": [
    {
     "data": {
      "text/plain": [
       "array([[7298,  337],\n",
       "       [1155,  984]], dtype=int64)"
      ]
     },
     "execution_count": 237,
     "metadata": {},
     "output_type": "execute_result"
    }
   ],
   "source": [
    "confusion_matrix(y_pred=reg_scalar.predict(X=x_test),y_true=y_test)"
   ]
  },
  {
   "cell_type": "markdown",
   "id": "aa08fc97-3bde-45e9-a08e-367a3613b941",
   "metadata": {},
   "source": [
    "It's not a suprise that the scalar values give better results. from now on we will use only the scalar values."
   ]
  },
  {
   "cell_type": "code",
   "execution_count": null,
   "id": "efca68c4-f6ea-4891-8c38-43075457b95d",
   "metadata": {
    "tags": []
   },
   "outputs": [],
   "source": []
  },
  {
   "cell_type": "markdown",
   "id": "d1207abd-fdea-434e-aab0-14c96537b1ac",
   "metadata": {},
   "source": [
    "**Tuning Hyperparameters**\n",
    "\n",
    "Now let's do the same with tuning hyperparameters and see the difference:\n"
   ]
  },
  {
   "cell_type": "code",
   "execution_count": 201,
   "id": "122f36b7-c9fc-4f26-982f-de7cf98125a5",
   "metadata": {
    "tags": []
   },
   "outputs": [],
   "source": [
    "# penalty=pd.DataFrame({'penalty':('l1','l2','elasticnet',None)})"
   ]
  },
  {
   "cell_type": "code",
   "execution_count": 202,
   "id": "dc074935-40a7-467e-8f7b-3be06fcae2dc",
   "metadata": {
    "tags": []
   },
   "outputs": [],
   "source": [
    "# penalty.keys"
   ]
  },
  {
   "cell_type": "code",
   "execution_count": 203,
   "id": "dec6f514-3f4d-4df0-98ec-c10f3526f96d",
   "metadata": {
    "tags": []
   },
   "outputs": [],
   "source": [
    "# dualbool=pd.DataFrame({'dualbool':[False,True]}) "
   ]
  },
  {
   "cell_type": "code",
   "execution_count": 204,
   "id": "95d8de54-606d-4be6-8196-8144a4dc7ee9",
   "metadata": {
    "tags": []
   },
   "outputs": [],
   "source": [
    "# dualbool"
   ]
  },
  {
   "cell_type": "code",
   "execution_count": 238,
   "id": "e8a5eaf3-734c-4eec-9693-32f986fa61cb",
   "metadata": {
    "tags": []
   },
   "outputs": [],
   "source": [
    "# tol=np.linspace(1e-4,1, 5)"
   ]
  },
  {
   "cell_type": "code",
   "execution_count": 206,
   "id": "b10aafa6-a419-4141-928c-dffce6ee4191",
   "metadata": {
    "tags": []
   },
   "outputs": [],
   "source": [
    "# type(tol)"
   ]
  },
  {
   "cell_type": "code",
   "execution_count": 207,
   "id": "44f604c3-7b76-4095-85f4-3cdbe2a7b7ce",
   "metadata": {
    "tags": []
   },
   "outputs": [],
   "source": [
    "# 1e-4"
   ]
  },
  {
   "cell_type": "code",
   "execution_count": 208,
   "id": "fba6cc1f-ff67-4044-89f9-38468d29de4b",
   "metadata": {
    "tags": []
   },
   "outputs": [],
   "source": [
    "# solver=['lbfgs', 'liblinear', 'newton-cg', 'newton-cholesky', 'sag', 'saga']"
   ]
  },
  {
   "cell_type": "code",
   "execution_count": 209,
   "id": "fe283dc3-0916-4cfd-b908-5b0af3565737",
   "metadata": {
    "tags": []
   },
   "outputs": [],
   "source": [
    "# type(solver)"
   ]
  },
  {
   "cell_type": "code",
   "execution_count": 210,
   "id": "91c7c98f-a3f9-418f-9d72-96c72e9a99fe",
   "metadata": {
    "tags": []
   },
   "outputs": [],
   "source": [
    "# solver[0]"
   ]
  },
  {
   "cell_type": "code",
   "execution_count": 211,
   "id": "3b7e8802-1a8c-4411-abb3-a4842280fac2",
   "metadata": {
    "tags": []
   },
   "outputs": [],
   "source": [
    "# np.logspace(-4, 4, 20)"
   ]
  },
  {
   "cell_type": "code",
   "execution_count": null,
   "id": "68d519b2-1579-452d-bb18-4b67eb5a9430",
   "metadata": {},
   "outputs": [],
   "source": []
  },
  {
   "cell_type": "markdown",
   "id": "49483e87-a85c-4afd-8c54-56aeff449911",
   "metadata": {},
   "source": [
    "The code here is based on code from https://www.kaggle.com/code/funxexcel/p2-logistic-regression-hyperparameter-tuning/notebook"
   ]
  },
  {
   "cell_type": "code",
   "execution_count": 212,
   "id": "c7b6e230-737a-4a71-8723-0b759b21bd18",
   "metadata": {
    "tags": []
   },
   "outputs": [],
   "source": [
    "reg=LogisticRegression(max_iter=1000)"
   ]
  },
  {
   "cell_type": "code",
   "execution_count": 213,
   "id": "a2117dc7-3e5d-4b06-8ceb-44d2b7ce87bb",
   "metadata": {
    "tags": []
   },
   "outputs": [
    {
     "name": "stdout",
     "output_type": "stream",
     "text": [
      "Fitting 5 folds for each of 675 candidates, totalling 3375 fits\n"
     ]
    }
   ],
   "source": [
    "param_grid = [   \n",
    "    {'penalty' : ['l1','l2'],\n",
    "    'C' : np.logspace(-4, 4, 10),\n",
    "    'solver' : [ 'saga'],\n",
    "     'l1_ratio':[None],\n",
    "     'dual':[False],\n",
    "     'tol': np.linspace(1e-4,1, 5)\n",
    "     \n",
    "    },\n",
    "    {'penalty' : ['elasticnet'],\n",
    "    'C' : np.logspace(-4, 4, 10),\n",
    "    'solver' : [ 'saga'],\n",
    "     'l1_ratio':np.linspace(0,1,5),\n",
    "     'dual':[False],\n",
    "     'tol': np.linspace(1e-4,1, 5)\n",
    "     \n",
    "    },\n",
    "    {'penalty' : ['l2'],\n",
    "    'C' : np.logspace(-4, 4, 10),\n",
    "    'solver' : ['lbfgs', 'newton-cg', 'newton-cholesky', 'sag'],\n",
    "     'l1_ratio':[None],\n",
    "     'dual':[False],\n",
    "     'tol': np.linspace(1e-4,1, 5)\n",
    "     \n",
    "     \n",
    "    },\n",
    "    {'penalty' : ['l2'],\n",
    "    'C' : np.logspace(-4, 4, 10),\n",
    "    'solver' : ['liblinear'],\n",
    "     'l1_ratio':[None],\n",
    "     'dual':[False,True],\n",
    "     'tol': np.linspace(1e-4,1, 5)\n",
    "     \n",
    "     \n",
    "    },\n",
    "    {'penalty' : [None],\n",
    "     'C' : [1],\n",
    "    'solver' : ['lbfgs', 'newton-cg', 'newton-cholesky', 'sag','saga'],\n",
    "     'l1_ratio':[None],\n",
    "     'dual':[False],\n",
    "     'tol': np.linspace(1e-4,1, 5)\n",
    "     \n",
    "     \n",
    "    }]\n",
    "from sklearn.model_selection import GridSearchCV\n",
    "clf = GridSearchCV(reg, param_grid = param_grid, \n",
    "                   error_score='raise',\n",
    "                   # cv = 3,\n",
    "                   # verbose=True, \n",
    "                   verbose=3,\n",
    "                   n_jobs=-1\n",
    "                  )\n",
    "best_clf = clf.fit(X=x_train,y=y_train)"
   ]
  },
  {
   "cell_type": "code",
   "execution_count": 214,
   "id": "0c4dd23a-8e2a-4162-b38a-13fa7c681525",
   "metadata": {
    "tags": []
   },
   "outputs": [
    {
     "data": {
      "text/html": [
       "<style>#sk-container-id-14 {color: black;background-color: white;}#sk-container-id-14 pre{padding: 0;}#sk-container-id-14 div.sk-toggleable {background-color: white;}#sk-container-id-14 label.sk-toggleable__label {cursor: pointer;display: block;width: 100%;margin-bottom: 0;padding: 0.3em;box-sizing: border-box;text-align: center;}#sk-container-id-14 label.sk-toggleable__label-arrow:before {content: \"▸\";float: left;margin-right: 0.25em;color: #696969;}#sk-container-id-14 label.sk-toggleable__label-arrow:hover:before {color: black;}#sk-container-id-14 div.sk-estimator:hover label.sk-toggleable__label-arrow:before {color: black;}#sk-container-id-14 div.sk-toggleable__content {max-height: 0;max-width: 0;overflow: hidden;text-align: left;background-color: #f0f8ff;}#sk-container-id-14 div.sk-toggleable__content pre {margin: 0.2em;color: black;border-radius: 0.25em;background-color: #f0f8ff;}#sk-container-id-14 input.sk-toggleable__control:checked~div.sk-toggleable__content {max-height: 200px;max-width: 100%;overflow: auto;}#sk-container-id-14 input.sk-toggleable__control:checked~label.sk-toggleable__label-arrow:before {content: \"▾\";}#sk-container-id-14 div.sk-estimator input.sk-toggleable__control:checked~label.sk-toggleable__label {background-color: #d4ebff;}#sk-container-id-14 div.sk-label input.sk-toggleable__control:checked~label.sk-toggleable__label {background-color: #d4ebff;}#sk-container-id-14 input.sk-hidden--visually {border: 0;clip: rect(1px 1px 1px 1px);clip: rect(1px, 1px, 1px, 1px);height: 1px;margin: -1px;overflow: hidden;padding: 0;position: absolute;width: 1px;}#sk-container-id-14 div.sk-estimator {font-family: monospace;background-color: #f0f8ff;border: 1px dotted black;border-radius: 0.25em;box-sizing: border-box;margin-bottom: 0.5em;}#sk-container-id-14 div.sk-estimator:hover {background-color: #d4ebff;}#sk-container-id-14 div.sk-parallel-item::after {content: \"\";width: 100%;border-bottom: 1px solid gray;flex-grow: 1;}#sk-container-id-14 div.sk-label:hover label.sk-toggleable__label {background-color: #d4ebff;}#sk-container-id-14 div.sk-serial::before {content: \"\";position: absolute;border-left: 1px solid gray;box-sizing: border-box;top: 0;bottom: 0;left: 50%;z-index: 0;}#sk-container-id-14 div.sk-serial {display: flex;flex-direction: column;align-items: center;background-color: white;padding-right: 0.2em;padding-left: 0.2em;position: relative;}#sk-container-id-14 div.sk-item {position: relative;z-index: 1;}#sk-container-id-14 div.sk-parallel {display: flex;align-items: stretch;justify-content: center;background-color: white;position: relative;}#sk-container-id-14 div.sk-item::before, #sk-container-id-14 div.sk-parallel-item::before {content: \"\";position: absolute;border-left: 1px solid gray;box-sizing: border-box;top: 0;bottom: 0;left: 50%;z-index: -1;}#sk-container-id-14 div.sk-parallel-item {display: flex;flex-direction: column;z-index: 1;position: relative;background-color: white;}#sk-container-id-14 div.sk-parallel-item:first-child::after {align-self: flex-end;width: 50%;}#sk-container-id-14 div.sk-parallel-item:last-child::after {align-self: flex-start;width: 50%;}#sk-container-id-14 div.sk-parallel-item:only-child::after {width: 0;}#sk-container-id-14 div.sk-dashed-wrapped {border: 1px dashed gray;margin: 0 0.4em 0.5em 0.4em;box-sizing: border-box;padding-bottom: 0.4em;background-color: white;}#sk-container-id-14 div.sk-label label {font-family: monospace;font-weight: bold;display: inline-block;line-height: 1.2em;}#sk-container-id-14 div.sk-label-container {text-align: center;}#sk-container-id-14 div.sk-container {/* jupyter's `normalize.less` sets `[hidden] { display: none; }` but bootstrap.min.css set `[hidden] { display: none !important; }` so we also need the `!important` here to be able to override the default hidden behavior on the sphinx rendered scikit-learn.org. See: https://github.com/scikit-learn/scikit-learn/issues/21755 */display: inline-block !important;position: relative;}#sk-container-id-14 div.sk-text-repr-fallback {display: none;}</style><div id=\"sk-container-id-14\" class=\"sk-top-container\"><div class=\"sk-text-repr-fallback\"><pre>LogisticRegression(C=0.005994842503189409, max_iter=1000,\n",
       "                   tol=0.7500249999999999)</pre><b>In a Jupyter environment, please rerun this cell to show the HTML representation or trust the notebook. <br />On GitHub, the HTML representation is unable to render, please try loading this page with nbviewer.org.</b></div><div class=\"sk-container\" hidden><div class=\"sk-item\"><div class=\"sk-estimator sk-toggleable\"><input class=\"sk-toggleable__control sk-hidden--visually\" id=\"sk-estimator-id-14\" type=\"checkbox\" checked><label for=\"sk-estimator-id-14\" class=\"sk-toggleable__label sk-toggleable__label-arrow\">LogisticRegression</label><div class=\"sk-toggleable__content\"><pre>LogisticRegression(C=0.005994842503189409, max_iter=1000,\n",
       "                   tol=0.7500249999999999)</pre></div></div></div></div></div>"
      ],
      "text/plain": [
       "LogisticRegression(C=0.005994842503189409, max_iter=1000,\n",
       "                   tol=0.7500249999999999)"
      ]
     },
     "execution_count": 214,
     "metadata": {},
     "output_type": "execute_result"
    }
   ],
   "source": [
    "best_clf.best_estimator_"
   ]
  },
  {
   "cell_type": "code",
   "execution_count": 215,
   "id": "734c6d7b-0c38-4219-a5cb-755d9a4edc6a",
   "metadata": {
    "tags": []
   },
   "outputs": [
    {
     "data": {
      "text/plain": [
       "16"
      ]
     },
     "execution_count": 215,
     "metadata": {},
     "output_type": "execute_result"
    }
   ],
   "source": [
    "best_clf.n_features_in_"
   ]
  },
  {
   "cell_type": "code",
   "execution_count": 216,
   "id": "15bfb7b4-8060-4045-a850-7b6f768057b9",
   "metadata": {
    "tags": []
   },
   "outputs": [
    {
     "data": {
      "text/html": [
       "<div>\n",
       "<style scoped>\n",
       "    .dataframe tbody tr th:only-of-type {\n",
       "        vertical-align: middle;\n",
       "    }\n",
       "\n",
       "    .dataframe tbody tr th {\n",
       "        vertical-align: top;\n",
       "    }\n",
       "\n",
       "    .dataframe thead th {\n",
       "        text-align: right;\n",
       "    }\n",
       "</style>\n",
       "<table border=\"1\" class=\"dataframe\">\n",
       "  <thead>\n",
       "    <tr style=\"text-align: right;\">\n",
       "      <th></th>\n",
       "      <th>mean_fit_time</th>\n",
       "      <th>std_fit_time</th>\n",
       "      <th>mean_score_time</th>\n",
       "      <th>std_score_time</th>\n",
       "      <th>param_C</th>\n",
       "      <th>param_dual</th>\n",
       "      <th>param_l1_ratio</th>\n",
       "      <th>param_penalty</th>\n",
       "      <th>param_solver</th>\n",
       "      <th>param_tol</th>\n",
       "      <th>params</th>\n",
       "      <th>split0_test_score</th>\n",
       "      <th>split1_test_score</th>\n",
       "      <th>split2_test_score</th>\n",
       "      <th>split3_test_score</th>\n",
       "      <th>split4_test_score</th>\n",
       "      <th>mean_test_score</th>\n",
       "      <th>std_test_score</th>\n",
       "      <th>rank_test_score</th>\n",
       "    </tr>\n",
       "  </thead>\n",
       "  <tbody>\n",
       "    <tr>\n",
       "      <th>393</th>\n",
       "      <td>0.102921</td>\n",
       "      <td>0.016057</td>\n",
       "      <td>0.003950</td>\n",
       "      <td>0.006044</td>\n",
       "      <td>0.005995</td>\n",
       "      <td>False</td>\n",
       "      <td>None</td>\n",
       "      <td>l2</td>\n",
       "      <td>lbfgs</td>\n",
       "      <td>0.750025</td>\n",
       "      <td>{'C': 0.005994842503189409, 'dual': False, 'l1...</td>\n",
       "      <td>0.842394</td>\n",
       "      <td>0.853354</td>\n",
       "      <td>0.847183</td>\n",
       "      <td>0.840386</td>\n",
       "      <td>0.850691</td>\n",
       "      <td>0.846801</td>\n",
       "      <td>0.004874</td>\n",
       "      <td>1</td>\n",
       "    </tr>\n",
       "    <tr>\n",
       "      <th>395</th>\n",
       "      <td>0.553897</td>\n",
       "      <td>0.060658</td>\n",
       "      <td>0.006245</td>\n",
       "      <td>0.007649</td>\n",
       "      <td>0.005995</td>\n",
       "      <td>False</td>\n",
       "      <td>None</td>\n",
       "      <td>l2</td>\n",
       "      <td>newton-cg</td>\n",
       "      <td>0.0001</td>\n",
       "      <td>{'C': 0.005994842503189409, 'dual': False, 'l1...</td>\n",
       "      <td>0.842394</td>\n",
       "      <td>0.853354</td>\n",
       "      <td>0.847183</td>\n",
       "      <td>0.840167</td>\n",
       "      <td>0.850471</td>\n",
       "      <td>0.846714</td>\n",
       "      <td>0.004898</td>\n",
       "      <td>2</td>\n",
       "    </tr>\n",
       "    <tr>\n",
       "      <th>405</th>\n",
       "      <td>0.428315</td>\n",
       "      <td>0.064140</td>\n",
       "      <td>0.009386</td>\n",
       "      <td>0.007663</td>\n",
       "      <td>0.005995</td>\n",
       "      <td>False</td>\n",
       "      <td>None</td>\n",
       "      <td>l2</td>\n",
       "      <td>sag</td>\n",
       "      <td>0.0001</td>\n",
       "      <td>{'C': 0.005994842503189409, 'dual': False, 'l1...</td>\n",
       "      <td>0.842394</td>\n",
       "      <td>0.853354</td>\n",
       "      <td>0.847183</td>\n",
       "      <td>0.840167</td>\n",
       "      <td>0.850471</td>\n",
       "      <td>0.846714</td>\n",
       "      <td>0.004898</td>\n",
       "      <td>2</td>\n",
       "    </tr>\n",
       "    <tr>\n",
       "      <th>150</th>\n",
       "      <td>0.402294</td>\n",
       "      <td>0.011692</td>\n",
       "      <td>0.003127</td>\n",
       "      <td>0.006253</td>\n",
       "      <td>0.005995</td>\n",
       "      <td>False</td>\n",
       "      <td>0.0</td>\n",
       "      <td>elasticnet</td>\n",
       "      <td>saga</td>\n",
       "      <td>0.0001</td>\n",
       "      <td>{'C': 0.005994842503189409, 'dual': False, 'l1...</td>\n",
       "      <td>0.842394</td>\n",
       "      <td>0.853354</td>\n",
       "      <td>0.847183</td>\n",
       "      <td>0.840167</td>\n",
       "      <td>0.850471</td>\n",
       "      <td>0.846714</td>\n",
       "      <td>0.004898</td>\n",
       "      <td>2</td>\n",
       "    </tr>\n",
       "    <tr>\n",
       "      <th>390</th>\n",
       "      <td>0.161253</td>\n",
       "      <td>0.058043</td>\n",
       "      <td>0.007464</td>\n",
       "      <td>0.007041</td>\n",
       "      <td>0.005995</td>\n",
       "      <td>False</td>\n",
       "      <td>None</td>\n",
       "      <td>l2</td>\n",
       "      <td>lbfgs</td>\n",
       "      <td>0.0001</td>\n",
       "      <td>{'C': 0.005994842503189409, 'dual': False, 'l1...</td>\n",
       "      <td>0.842394</td>\n",
       "      <td>0.853354</td>\n",
       "      <td>0.847183</td>\n",
       "      <td>0.840167</td>\n",
       "      <td>0.850471</td>\n",
       "      <td>0.846714</td>\n",
       "      <td>0.004898</td>\n",
       "      <td>2</td>\n",
       "    </tr>\n",
       "    <tr>\n",
       "      <th>...</th>\n",
       "      <td>...</td>\n",
       "      <td>...</td>\n",
       "      <td>...</td>\n",
       "      <td>...</td>\n",
       "      <td>...</td>\n",
       "      <td>...</td>\n",
       "      <td>...</td>\n",
       "      <td>...</td>\n",
       "      <td>...</td>\n",
       "      <td>...</td>\n",
       "      <td>...</td>\n",
       "      <td>...</td>\n",
       "      <td>...</td>\n",
       "      <td>...</td>\n",
       "      <td>...</td>\n",
       "      <td>...</td>\n",
       "      <td>...</td>\n",
       "      <td>...</td>\n",
       "      <td>...</td>\n",
       "    </tr>\n",
       "    <tr>\n",
       "      <th>107</th>\n",
       "      <td>0.140796</td>\n",
       "      <td>0.052529</td>\n",
       "      <td>0.011201</td>\n",
       "      <td>0.009041</td>\n",
       "      <td>0.0001</td>\n",
       "      <td>False</td>\n",
       "      <td>0.25</td>\n",
       "      <td>elasticnet</td>\n",
       "      <td>saga</td>\n",
       "      <td>0.50005</td>\n",
       "      <td>{'C': 0.0001, 'dual': False, 'l1_ratio': 0.25,...</td>\n",
       "      <td>0.782113</td>\n",
       "      <td>0.782113</td>\n",
       "      <td>0.782285</td>\n",
       "      <td>0.782065</td>\n",
       "      <td>0.782065</td>\n",
       "      <td>0.782128</td>\n",
       "      <td>0.000081</td>\n",
       "      <td>650</td>\n",
       "    </tr>\n",
       "    <tr>\n",
       "      <th>106</th>\n",
       "      <td>0.153001</td>\n",
       "      <td>0.038614</td>\n",
       "      <td>0.006402</td>\n",
       "      <td>0.001856</td>\n",
       "      <td>0.0001</td>\n",
       "      <td>False</td>\n",
       "      <td>0.25</td>\n",
       "      <td>elasticnet</td>\n",
       "      <td>saga</td>\n",
       "      <td>0.250075</td>\n",
       "      <td>{'C': 0.0001, 'dual': False, 'l1_ratio': 0.25,...</td>\n",
       "      <td>0.782113</td>\n",
       "      <td>0.782113</td>\n",
       "      <td>0.782285</td>\n",
       "      <td>0.782065</td>\n",
       "      <td>0.782065</td>\n",
       "      <td>0.782128</td>\n",
       "      <td>0.000081</td>\n",
       "      <td>650</td>\n",
       "    </tr>\n",
       "    <tr>\n",
       "      <th>114</th>\n",
       "      <td>0.061897</td>\n",
       "      <td>0.008451</td>\n",
       "      <td>0.007201</td>\n",
       "      <td>0.002556</td>\n",
       "      <td>0.0001</td>\n",
       "      <td>False</td>\n",
       "      <td>0.5</td>\n",
       "      <td>elasticnet</td>\n",
       "      <td>saga</td>\n",
       "      <td>1.0</td>\n",
       "      <td>{'C': 0.0001, 'dual': False, 'l1_ratio': 0.5, ...</td>\n",
       "      <td>0.782113</td>\n",
       "      <td>0.782113</td>\n",
       "      <td>0.782285</td>\n",
       "      <td>0.782065</td>\n",
       "      <td>0.782065</td>\n",
       "      <td>0.782128</td>\n",
       "      <td>0.000081</td>\n",
       "      <td>650</td>\n",
       "    </tr>\n",
       "    <tr>\n",
       "      <th>0</th>\n",
       "      <td>0.057168</td>\n",
       "      <td>0.006779</td>\n",
       "      <td>0.000000</td>\n",
       "      <td>0.000000</td>\n",
       "      <td>0.0001</td>\n",
       "      <td>False</td>\n",
       "      <td>None</td>\n",
       "      <td>l1</td>\n",
       "      <td>saga</td>\n",
       "      <td>0.0001</td>\n",
       "      <td>{'C': 0.0001, 'dual': False, 'l1_ratio': None,...</td>\n",
       "      <td>0.782113</td>\n",
       "      <td>0.782113</td>\n",
       "      <td>0.782285</td>\n",
       "      <td>0.782065</td>\n",
       "      <td>0.782065</td>\n",
       "      <td>0.782128</td>\n",
       "      <td>0.000081</td>\n",
       "      <td>650</td>\n",
       "    </tr>\n",
       "    <tr>\n",
       "      <th>645</th>\n",
       "      <td>12.604997</td>\n",
       "      <td>0.252726</td>\n",
       "      <td>0.006253</td>\n",
       "      <td>0.007658</td>\n",
       "      <td>10000.0</td>\n",
       "      <td>True</td>\n",
       "      <td>None</td>\n",
       "      <td>l2</td>\n",
       "      <td>liblinear</td>\n",
       "      <td>0.0001</td>\n",
       "      <td>{'C': 10000.0, 'dual': True, 'l1_ratio': None,...</td>\n",
       "      <td>0.799868</td>\n",
       "      <td>0.805129</td>\n",
       "      <td>0.788424</td>\n",
       "      <td>0.725937</td>\n",
       "      <td>0.784258</td>\n",
       "      <td>0.780723</td>\n",
       "      <td>0.028409</td>\n",
       "      <td>675</td>\n",
       "    </tr>\n",
       "  </tbody>\n",
       "</table>\n",
       "<p>675 rows × 19 columns</p>\n",
       "</div>"
      ],
      "text/plain": [
       "     mean_fit_time  std_fit_time  mean_score_time  std_score_time   param_C  \\\n",
       "393       0.102921      0.016057         0.003950        0.006044  0.005995   \n",
       "395       0.553897      0.060658         0.006245        0.007649  0.005995   \n",
       "405       0.428315      0.064140         0.009386        0.007663  0.005995   \n",
       "150       0.402294      0.011692         0.003127        0.006253  0.005995   \n",
       "390       0.161253      0.058043         0.007464        0.007041  0.005995   \n",
       "..             ...           ...              ...             ...       ...   \n",
       "107       0.140796      0.052529         0.011201        0.009041    0.0001   \n",
       "106       0.153001      0.038614         0.006402        0.001856    0.0001   \n",
       "114       0.061897      0.008451         0.007201        0.002556    0.0001   \n",
       "0         0.057168      0.006779         0.000000        0.000000    0.0001   \n",
       "645      12.604997      0.252726         0.006253        0.007658   10000.0   \n",
       "\n",
       "    param_dual param_l1_ratio param_penalty param_solver param_tol  \\\n",
       "393      False           None            l2        lbfgs  0.750025   \n",
       "395      False           None            l2    newton-cg    0.0001   \n",
       "405      False           None            l2          sag    0.0001   \n",
       "150      False            0.0    elasticnet         saga    0.0001   \n",
       "390      False           None            l2        lbfgs    0.0001   \n",
       "..         ...            ...           ...          ...       ...   \n",
       "107      False           0.25    elasticnet         saga   0.50005   \n",
       "106      False           0.25    elasticnet         saga  0.250075   \n",
       "114      False            0.5    elasticnet         saga       1.0   \n",
       "0        False           None            l1         saga    0.0001   \n",
       "645       True           None            l2    liblinear    0.0001   \n",
       "\n",
       "                                                params  split0_test_score  \\\n",
       "393  {'C': 0.005994842503189409, 'dual': False, 'l1...           0.842394   \n",
       "395  {'C': 0.005994842503189409, 'dual': False, 'l1...           0.842394   \n",
       "405  {'C': 0.005994842503189409, 'dual': False, 'l1...           0.842394   \n",
       "150  {'C': 0.005994842503189409, 'dual': False, 'l1...           0.842394   \n",
       "390  {'C': 0.005994842503189409, 'dual': False, 'l1...           0.842394   \n",
       "..                                                 ...                ...   \n",
       "107  {'C': 0.0001, 'dual': False, 'l1_ratio': 0.25,...           0.782113   \n",
       "106  {'C': 0.0001, 'dual': False, 'l1_ratio': 0.25,...           0.782113   \n",
       "114  {'C': 0.0001, 'dual': False, 'l1_ratio': 0.5, ...           0.782113   \n",
       "0    {'C': 0.0001, 'dual': False, 'l1_ratio': None,...           0.782113   \n",
       "645  {'C': 10000.0, 'dual': True, 'l1_ratio': None,...           0.799868   \n",
       "\n",
       "     split1_test_score  split2_test_score  split3_test_score  \\\n",
       "393           0.853354           0.847183           0.840386   \n",
       "395           0.853354           0.847183           0.840167   \n",
       "405           0.853354           0.847183           0.840167   \n",
       "150           0.853354           0.847183           0.840167   \n",
       "390           0.853354           0.847183           0.840167   \n",
       "..                 ...                ...                ...   \n",
       "107           0.782113           0.782285           0.782065   \n",
       "106           0.782113           0.782285           0.782065   \n",
       "114           0.782113           0.782285           0.782065   \n",
       "0             0.782113           0.782285           0.782065   \n",
       "645           0.805129           0.788424           0.725937   \n",
       "\n",
       "     split4_test_score  mean_test_score  std_test_score  rank_test_score  \n",
       "393           0.850691         0.846801        0.004874                1  \n",
       "395           0.850471         0.846714        0.004898                2  \n",
       "405           0.850471         0.846714        0.004898                2  \n",
       "150           0.850471         0.846714        0.004898                2  \n",
       "390           0.850471         0.846714        0.004898                2  \n",
       "..                 ...              ...             ...              ...  \n",
       "107           0.782065         0.782128        0.000081              650  \n",
       "106           0.782065         0.782128        0.000081              650  \n",
       "114           0.782065         0.782128        0.000081              650  \n",
       "0             0.782065         0.782128        0.000081              650  \n",
       "645           0.784258         0.780723        0.028409              675  \n",
       "\n",
       "[675 rows x 19 columns]"
      ]
     },
     "execution_count": 216,
     "metadata": {},
     "output_type": "execute_result"
    }
   ],
   "source": [
    "DataFrame(clf.cv_results_).sort_values(by='rank_test_score')"
   ]
  },
  {
   "cell_type": "markdown",
   "id": "4c211214-d3b8-4b65-85ec-44ca3354d7bc",
   "metadata": {},
   "source": [
    "Based on code from https://www.projectpro.io/recipes/optimize-hyper-parameters-of-logistic-regression-model-using-grid-search-in-python"
   ]
  },
  {
   "cell_type": "code",
   "execution_count": 217,
   "id": "17928e7d-023f-446b-979f-8f7c01e331c6",
   "metadata": {
    "tags": []
   },
   "outputs": [
    {
     "name": "stdout",
     "output_type": "stream",
     "text": [
      "Best Penalty: l2\n",
      "Best C: 0.005994842503189409\n",
      "Best Solver: lbfgs\n",
      "Best l1_ratio: None\n",
      "Best dual: False\n",
      "Best tol: 0.7500249999999999\n"
     ]
    }
   ],
   "source": [
    "print('Best Penalty:', clf.best_estimator_.get_params()['penalty'])\n",
    "print('Best C:', clf.best_estimator_.get_params()['C'])\n",
    "print('Best Solver:', clf.best_estimator_.get_params()['solver'])\n",
    "print('Best l1_ratio:', clf.best_estimator_.get_params()['l1_ratio'])\n",
    "print('Best dual:', clf.best_estimator_.get_params()['dual'])\n",
    "print('Best tol:', clf.best_estimator_.get_params()['tol'])"
   ]
  },
  {
   "cell_type": "code",
   "execution_count": 218,
   "id": "e31cffa1-f476-4205-ba55-b45dfd4ff099",
   "metadata": {
    "tags": []
   },
   "outputs": [
    {
     "data": {
      "text/html": [
       "<style>#sk-container-id-15 {color: black;background-color: white;}#sk-container-id-15 pre{padding: 0;}#sk-container-id-15 div.sk-toggleable {background-color: white;}#sk-container-id-15 label.sk-toggleable__label {cursor: pointer;display: block;width: 100%;margin-bottom: 0;padding: 0.3em;box-sizing: border-box;text-align: center;}#sk-container-id-15 label.sk-toggleable__label-arrow:before {content: \"▸\";float: left;margin-right: 0.25em;color: #696969;}#sk-container-id-15 label.sk-toggleable__label-arrow:hover:before {color: black;}#sk-container-id-15 div.sk-estimator:hover label.sk-toggleable__label-arrow:before {color: black;}#sk-container-id-15 div.sk-toggleable__content {max-height: 0;max-width: 0;overflow: hidden;text-align: left;background-color: #f0f8ff;}#sk-container-id-15 div.sk-toggleable__content pre {margin: 0.2em;color: black;border-radius: 0.25em;background-color: #f0f8ff;}#sk-container-id-15 input.sk-toggleable__control:checked~div.sk-toggleable__content {max-height: 200px;max-width: 100%;overflow: auto;}#sk-container-id-15 input.sk-toggleable__control:checked~label.sk-toggleable__label-arrow:before {content: \"▾\";}#sk-container-id-15 div.sk-estimator input.sk-toggleable__control:checked~label.sk-toggleable__label {background-color: #d4ebff;}#sk-container-id-15 div.sk-label input.sk-toggleable__control:checked~label.sk-toggleable__label {background-color: #d4ebff;}#sk-container-id-15 input.sk-hidden--visually {border: 0;clip: rect(1px 1px 1px 1px);clip: rect(1px, 1px, 1px, 1px);height: 1px;margin: -1px;overflow: hidden;padding: 0;position: absolute;width: 1px;}#sk-container-id-15 div.sk-estimator {font-family: monospace;background-color: #f0f8ff;border: 1px dotted black;border-radius: 0.25em;box-sizing: border-box;margin-bottom: 0.5em;}#sk-container-id-15 div.sk-estimator:hover {background-color: #d4ebff;}#sk-container-id-15 div.sk-parallel-item::after {content: \"\";width: 100%;border-bottom: 1px solid gray;flex-grow: 1;}#sk-container-id-15 div.sk-label:hover label.sk-toggleable__label {background-color: #d4ebff;}#sk-container-id-15 div.sk-serial::before {content: \"\";position: absolute;border-left: 1px solid gray;box-sizing: border-box;top: 0;bottom: 0;left: 50%;z-index: 0;}#sk-container-id-15 div.sk-serial {display: flex;flex-direction: column;align-items: center;background-color: white;padding-right: 0.2em;padding-left: 0.2em;position: relative;}#sk-container-id-15 div.sk-item {position: relative;z-index: 1;}#sk-container-id-15 div.sk-parallel {display: flex;align-items: stretch;justify-content: center;background-color: white;position: relative;}#sk-container-id-15 div.sk-item::before, #sk-container-id-15 div.sk-parallel-item::before {content: \"\";position: absolute;border-left: 1px solid gray;box-sizing: border-box;top: 0;bottom: 0;left: 50%;z-index: -1;}#sk-container-id-15 div.sk-parallel-item {display: flex;flex-direction: column;z-index: 1;position: relative;background-color: white;}#sk-container-id-15 div.sk-parallel-item:first-child::after {align-self: flex-end;width: 50%;}#sk-container-id-15 div.sk-parallel-item:last-child::after {align-self: flex-start;width: 50%;}#sk-container-id-15 div.sk-parallel-item:only-child::after {width: 0;}#sk-container-id-15 div.sk-dashed-wrapped {border: 1px dashed gray;margin: 0 0.4em 0.5em 0.4em;box-sizing: border-box;padding-bottom: 0.4em;background-color: white;}#sk-container-id-15 div.sk-label label {font-family: monospace;font-weight: bold;display: inline-block;line-height: 1.2em;}#sk-container-id-15 div.sk-label-container {text-align: center;}#sk-container-id-15 div.sk-container {/* jupyter's `normalize.less` sets `[hidden] { display: none; }` but bootstrap.min.css set `[hidden] { display: none !important; }` so we also need the `!important` here to be able to override the default hidden behavior on the sphinx rendered scikit-learn.org. See: https://github.com/scikit-learn/scikit-learn/issues/21755 */display: inline-block !important;position: relative;}#sk-container-id-15 div.sk-text-repr-fallback {display: none;}</style><div id=\"sk-container-id-15\" class=\"sk-top-container\"><div class=\"sk-text-repr-fallback\"><pre>LogisticRegression(C=0.005994842503189409, max_iter=1000,\n",
       "                   tol=0.7500249999999999)</pre><b>In a Jupyter environment, please rerun this cell to show the HTML representation or trust the notebook. <br />On GitHub, the HTML representation is unable to render, please try loading this page with nbviewer.org.</b></div><div class=\"sk-container\" hidden><div class=\"sk-item\"><div class=\"sk-estimator sk-toggleable\"><input class=\"sk-toggleable__control sk-hidden--visually\" id=\"sk-estimator-id-15\" type=\"checkbox\" checked><label for=\"sk-estimator-id-15\" class=\"sk-toggleable__label sk-toggleable__label-arrow\">LogisticRegression</label><div class=\"sk-toggleable__content\"><pre>LogisticRegression(C=0.005994842503189409, max_iter=1000,\n",
       "                   tol=0.7500249999999999)</pre></div></div></div></div></div>"
      ],
      "text/plain": [
       "LogisticRegression(C=0.005994842503189409, max_iter=1000,\n",
       "                   tol=0.7500249999999999)"
      ]
     },
     "execution_count": 218,
     "metadata": {},
     "output_type": "execute_result"
    }
   ],
   "source": [
    "best_clf.best_estimator_"
   ]
  },
  {
   "cell_type": "code",
   "execution_count": 219,
   "id": "2efdf9f1-83c7-4acb-9a5f-78eb55a875e7",
   "metadata": {
    "tags": []
   },
   "outputs": [
    {
     "data": {
      "text/plain": [
       "0.8466698820537554"
      ]
     },
     "execution_count": 219,
     "metadata": {},
     "output_type": "execute_result"
    }
   ],
   "source": [
    "accuracy_score(y_pred=best_clf.predict(x_train),y_true=y_train)"
   ]
  },
  {
   "cell_type": "code",
   "execution_count": 220,
   "id": "727f6d1d-d3d0-4b2e-86d6-a9424d274136",
   "metadata": {
    "tags": []
   },
   "outputs": [],
   "source": [
    "reg=best_clf.best_estimator_"
   ]
  },
  {
   "cell_type": "code",
   "execution_count": 221,
   "id": "d3e1e1fc-4c82-4524-828a-a91fa1c9d7d1",
   "metadata": {
    "tags": []
   },
   "outputs": [
    {
     "data": {
      "text/html": [
       "<style>#sk-container-id-16 {color: black;background-color: white;}#sk-container-id-16 pre{padding: 0;}#sk-container-id-16 div.sk-toggleable {background-color: white;}#sk-container-id-16 label.sk-toggleable__label {cursor: pointer;display: block;width: 100%;margin-bottom: 0;padding: 0.3em;box-sizing: border-box;text-align: center;}#sk-container-id-16 label.sk-toggleable__label-arrow:before {content: \"▸\";float: left;margin-right: 0.25em;color: #696969;}#sk-container-id-16 label.sk-toggleable__label-arrow:hover:before {color: black;}#sk-container-id-16 div.sk-estimator:hover label.sk-toggleable__label-arrow:before {color: black;}#sk-container-id-16 div.sk-toggleable__content {max-height: 0;max-width: 0;overflow: hidden;text-align: left;background-color: #f0f8ff;}#sk-container-id-16 div.sk-toggleable__content pre {margin: 0.2em;color: black;border-radius: 0.25em;background-color: #f0f8ff;}#sk-container-id-16 input.sk-toggleable__control:checked~div.sk-toggleable__content {max-height: 200px;max-width: 100%;overflow: auto;}#sk-container-id-16 input.sk-toggleable__control:checked~label.sk-toggleable__label-arrow:before {content: \"▾\";}#sk-container-id-16 div.sk-estimator input.sk-toggleable__control:checked~label.sk-toggleable__label {background-color: #d4ebff;}#sk-container-id-16 div.sk-label input.sk-toggleable__control:checked~label.sk-toggleable__label {background-color: #d4ebff;}#sk-container-id-16 input.sk-hidden--visually {border: 0;clip: rect(1px 1px 1px 1px);clip: rect(1px, 1px, 1px, 1px);height: 1px;margin: -1px;overflow: hidden;padding: 0;position: absolute;width: 1px;}#sk-container-id-16 div.sk-estimator {font-family: monospace;background-color: #f0f8ff;border: 1px dotted black;border-radius: 0.25em;box-sizing: border-box;margin-bottom: 0.5em;}#sk-container-id-16 div.sk-estimator:hover {background-color: #d4ebff;}#sk-container-id-16 div.sk-parallel-item::after {content: \"\";width: 100%;border-bottom: 1px solid gray;flex-grow: 1;}#sk-container-id-16 div.sk-label:hover label.sk-toggleable__label {background-color: #d4ebff;}#sk-container-id-16 div.sk-serial::before {content: \"\";position: absolute;border-left: 1px solid gray;box-sizing: border-box;top: 0;bottom: 0;left: 50%;z-index: 0;}#sk-container-id-16 div.sk-serial {display: flex;flex-direction: column;align-items: center;background-color: white;padding-right: 0.2em;padding-left: 0.2em;position: relative;}#sk-container-id-16 div.sk-item {position: relative;z-index: 1;}#sk-container-id-16 div.sk-parallel {display: flex;align-items: stretch;justify-content: center;background-color: white;position: relative;}#sk-container-id-16 div.sk-item::before, #sk-container-id-16 div.sk-parallel-item::before {content: \"\";position: absolute;border-left: 1px solid gray;box-sizing: border-box;top: 0;bottom: 0;left: 50%;z-index: -1;}#sk-container-id-16 div.sk-parallel-item {display: flex;flex-direction: column;z-index: 1;position: relative;background-color: white;}#sk-container-id-16 div.sk-parallel-item:first-child::after {align-self: flex-end;width: 50%;}#sk-container-id-16 div.sk-parallel-item:last-child::after {align-self: flex-start;width: 50%;}#sk-container-id-16 div.sk-parallel-item:only-child::after {width: 0;}#sk-container-id-16 div.sk-dashed-wrapped {border: 1px dashed gray;margin: 0 0.4em 0.5em 0.4em;box-sizing: border-box;padding-bottom: 0.4em;background-color: white;}#sk-container-id-16 div.sk-label label {font-family: monospace;font-weight: bold;display: inline-block;line-height: 1.2em;}#sk-container-id-16 div.sk-label-container {text-align: center;}#sk-container-id-16 div.sk-container {/* jupyter's `normalize.less` sets `[hidden] { display: none; }` but bootstrap.min.css set `[hidden] { display: none !important; }` so we also need the `!important` here to be able to override the default hidden behavior on the sphinx rendered scikit-learn.org. See: https://github.com/scikit-learn/scikit-learn/issues/21755 */display: inline-block !important;position: relative;}#sk-container-id-16 div.sk-text-repr-fallback {display: none;}</style><div id=\"sk-container-id-16\" class=\"sk-top-container\"><div class=\"sk-text-repr-fallback\"><pre>LogisticRegression(C=0.005994842503189409, max_iter=1000,\n",
       "                   tol=0.7500249999999999)</pre><b>In a Jupyter environment, please rerun this cell to show the HTML representation or trust the notebook. <br />On GitHub, the HTML representation is unable to render, please try loading this page with nbviewer.org.</b></div><div class=\"sk-container\" hidden><div class=\"sk-item\"><div class=\"sk-estimator sk-toggleable\"><input class=\"sk-toggleable__control sk-hidden--visually\" id=\"sk-estimator-id-16\" type=\"checkbox\" checked><label for=\"sk-estimator-id-16\" class=\"sk-toggleable__label sk-toggleable__label-arrow\">LogisticRegression</label><div class=\"sk-toggleable__content\"><pre>LogisticRegression(C=0.005994842503189409, max_iter=1000,\n",
       "                   tol=0.7500249999999999)</pre></div></div></div></div></div>"
      ],
      "text/plain": [
       "LogisticRegression(C=0.005994842503189409, max_iter=1000,\n",
       "                   tol=0.7500249999999999)"
      ]
     },
     "execution_count": 221,
     "metadata": {},
     "output_type": "execute_result"
    }
   ],
   "source": [
    "reg.fit(x_train,y_train)"
   ]
  },
  {
   "cell_type": "code",
   "execution_count": null,
   "id": "8c5f9634-7dfd-4ab1-bdd9-36161b9e3137",
   "metadata": {
    "tags": []
   },
   "outputs": [],
   "source": []
  },
  {
   "cell_type": "code",
   "execution_count": 222,
   "id": "3ffb9d5b-fa12-45ec-8f1e-006e4c0aefa3",
   "metadata": {
    "tags": []
   },
   "outputs": [
    {
     "name": "stdout",
     "output_type": "stream",
     "text": [
      "Accuracy on the training data set after hyperparameters tuning:  0.8466698820537554\n"
     ]
    }
   ],
   "source": [
    "print('Accuracy on the training data set after hyperparameters tuning: ',accuracy_score(y_pred=reg.predict(x_train),y_true=y_train))"
   ]
  },
  {
   "cell_type": "code",
   "execution_count": 223,
   "id": "4020e331-f4fb-4184-af07-0002f41d7bec",
   "metadata": {
    "tags": []
   },
   "outputs": [
    {
     "name": "stdout",
     "output_type": "stream",
     "text": [
      "Accuracy on the test data set after hyperparameters tuning:  0.8471454880294659\n"
     ]
    }
   ],
   "source": [
    "print('Accuracy on the test data set after hyperparameters tuning: ',accuracy_score(y_pred=reg.predict(x_test),y_true=y_test))"
   ]
  },
  {
   "cell_type": "code",
   "execution_count": 224,
   "id": "b5a40bb8-08b8-4643-aef5-e090e37d0d90",
   "metadata": {
    "tags": []
   },
   "outputs": [
    {
     "name": "stdout",
     "output_type": "stream",
     "text": [
      "Accuracy on the training data set with the original hyperparameters:  0.8461875739904415\n"
     ]
    }
   ],
   "source": [
    "print('Accuracy on the training data set with the original hyperparameters: ',accuracy_score(y_pred=reg_scalar.predict(x_train),y_true=y_train))"
   ]
  },
  {
   "cell_type": "code",
   "execution_count": 225,
   "id": "4e28c8d3-a134-424a-99f8-8c06ffe38cb6",
   "metadata": {
    "tags": []
   },
   "outputs": [
    {
     "name": "stdout",
     "output_type": "stream",
     "text": [
      "Accuracy on the test data set with the original hyperparameters:  0.8473501125434827\n"
     ]
    }
   ],
   "source": [
    "print('Accuracy on the test data set with the original hyperparameters: ',accuracy_score(y_pred=reg_scalar.predict(x_test),y_true=y_test))"
   ]
  },
  {
   "cell_type": "code",
   "execution_count": 226,
   "id": "04251942-6fc7-4c83-8077-3b080d310f88",
   "metadata": {
    "tags": []
   },
   "outputs": [],
   "source": [
    "# best_clf.score(df_scal.iloc[:,:-1],df_dddd.iloc[:,-1])"
   ]
  },
  {
   "cell_type": "code",
   "execution_count": 227,
   "id": "16d73f65-8b22-4a9d-bab9-00ff92954a80",
   "metadata": {
    "tags": []
   },
   "outputs": [],
   "source": [
    "# np.shape(reg.coef_.ravel())"
   ]
  },
  {
   "cell_type": "code",
   "execution_count": 228,
   "id": "a63ac217-5e35-40fe-a03b-260f9ffcf296",
   "metadata": {
    "tags": []
   },
   "outputs": [],
   "source": [
    "# np.count_nonzero(reg_orig.predict(X=train.drop(columns=['y'])))"
   ]
  },
  {
   "cell_type": "code",
   "execution_count": 229,
   "id": "baf4ec3d-72eb-4f26-8c73-b89d542aac29",
   "metadata": {
    "tags": []
   },
   "outputs": [],
   "source": [
    "# np.count_nonzero(reg.predict(X=x_train))"
   ]
  },
  {
   "cell_type": "code",
   "execution_count": 230,
   "id": "2c2dee3f-028b-4825-91a1-b7962cf1a044",
   "metadata": {
    "tags": []
   },
   "outputs": [],
   "source": [
    "# np.count_nonzero(y_train)"
   ]
  },
  {
   "cell_type": "code",
   "execution_count": 243,
   "id": "e7222d42-370c-41b1-b584-93a95fe921bc",
   "metadata": {
    "tags": []
   },
   "outputs": [],
   "source": [
    "cm=confusion_matrix(y_pred=reg.predict(X=x_test),y_true=y_test)"
   ]
  },
  {
   "cell_type": "code",
   "execution_count": 244,
   "id": "91e596ed-539b-4949-89cc-8d19762ab10f",
   "metadata": {
    "tags": []
   },
   "outputs": [
    {
     "data": {
      "image/png": "[encoded data removed]",
      "text/plain": [
       "<Figure size 640x480 with 2 Axes>"
      ]
     },
     "metadata": {},
     "output_type": "display_data"
    }
   ],
   "source": [
    "disp = ConfusionMatrixDisplay(confusion_matrix=cm,\n",
    "                              display_labels=reg.classes_)\n",
    "disp.plot()\n",
    "\n",
    "plt.show()"
   ]
  },
  {
   "cell_type": "code",
   "execution_count": 253,
   "id": "7f0246c8-22e7-4167-b908-db2952b67fa3",
   "metadata": {
    "tags": []
   },
   "outputs": [],
   "source": [
    "cm_pct=np.array([[cm[0][0]/cm[0].sum(),cm[0][1]/cm[0].sum()],\n",
    "        [cm[1][0]/cm[1].sum(),cm[1][1]/cm[1].sum()]])"
   ]
  },
  {
   "cell_type": "code",
   "execution_count": 254,
   "id": "12302063-f733-4134-a62c-1ae64a776324",
   "metadata": {
    "tags": []
   },
   "outputs": [
    {
     "data": {
      "text/plain": [
       "array([[0.96201703, 0.03798297],\n",
       "       [0.56287985, 0.43712015]])"
      ]
     },
     "execution_count": 254,
     "metadata": {},
     "output_type": "execute_result"
    }
   ],
   "source": [
    "cm_pct"
   ]
  },
  {
   "cell_type": "code",
   "execution_count": 255,
   "id": "fe2dcfba-f6fc-47c9-a7d3-33528aaf4593",
   "metadata": {
    "tags": []
   },
   "outputs": [
    {
     "data": {
      "text/plain": [
       "numpy.ndarray"
      ]
     },
     "execution_count": 255,
     "metadata": {},
     "output_type": "execute_result"
    }
   ],
   "source": [
    "type(cm)"
   ]
  },
  {
   "cell_type": "code",
   "execution_count": 256,
   "id": "e6dec839-4d7b-464c-bed6-85e8cc3b3dc4",
   "metadata": {
    "tags": []
   },
   "outputs": [
    {
     "data": {
      "image/png": "[encoded data removed]",
      "text/plain": [
       "<Figure size 640x480 with 2 Axes>"
      ]
     },
     "metadata": {},
     "output_type": "display_data"
    }
   ],
   "source": [
    "disp = ConfusionMatrixDisplay(confusion_matrix=cm_pct,\n",
    "                              display_labels=reg.classes_)\n",
    "disp.plot()\n",
    "\n",
    "plt.show()"
   ]
  },
  {
   "cell_type": "code",
   "execution_count": 234,
   "id": "4274c21d-9b90-4df3-80d5-14a3b48f3ccf",
   "metadata": {
    "tags": []
   },
   "outputs": [
    {
     "data": {
      "text/plain": [
       "0.8471454880294659"
      ]
     },
     "execution_count": 234,
     "metadata": {},
     "output_type": "execute_result"
    }
   ],
   "source": [
    "(7345+935)/(7345+1204+935+290)"
   ]
  },
  {
   "cell_type": "markdown",
   "id": "05bcaedb-d33e-4b5e-8fc5-080b7db91af8",
   "metadata": {},
   "source": [
    "***What are the most significant variables in predicting default?***"
   ]
  },
  {
   "cell_type": "code",
   "execution_count": 257,
   "id": "4a32c8a5-d3cb-4063-87cd-283ed234aef2",
   "metadata": {},
   "outputs": [
    {
     "data": {
      "text/html": [
       "<div>\n",
       "<style scoped>\n",
       "    .dataframe tbody tr th:only-of-type {\n",
       "        vertical-align: middle;\n",
       "    }\n",
       "\n",
       "    .dataframe tbody tr th {\n",
       "        vertical-align: top;\n",
       "    }\n",
       "\n",
       "    .dataframe thead th {\n",
       "        text-align: right;\n",
       "    }\n",
       "</style>\n",
       "<table border=\"1\" class=\"dataframe\">\n",
       "  <thead>\n",
       "    <tr style=\"text-align: right;\">\n",
       "      <th></th>\n",
       "      <th>coef</th>\n",
       "      <th>var</th>\n",
       "    </tr>\n",
       "  </thead>\n",
       "  <tbody>\n",
       "    <tr>\n",
       "      <th>9</th>\n",
       "      <td>-0.389894</td>\n",
       "      <td>person_home_ownership_OWN</td>\n",
       "    </tr>\n",
       "    <tr>\n",
       "      <th>3</th>\n",
       "      <td>-0.338557</td>\n",
       "      <td>loan_amnt</td>\n",
       "    </tr>\n",
       "    <tr>\n",
       "      <th>14</th>\n",
       "      <td>-0.309710</td>\n",
       "      <td>loan_intent_VENTURE</td>\n",
       "    </tr>\n",
       "    <tr>\n",
       "      <th>10</th>\n",
       "      <td>-0.247763</td>\n",
       "      <td>loan_intent_EDUCATION</td>\n",
       "    </tr>\n",
       "    <tr>\n",
       "      <th>13</th>\n",
       "      <td>-0.176039</td>\n",
       "      <td>loan_intent_PERSONAL</td>\n",
       "    </tr>\n",
       "    <tr>\n",
       "      <th>1</th>\n",
       "      <td>-0.148036</td>\n",
       "      <td>person_income</td>\n",
       "    </tr>\n",
       "    <tr>\n",
       "      <th>8</th>\n",
       "      <td>-0.097901</td>\n",
       "      <td>person_home_ownership_MORTGAGE</td>\n",
       "    </tr>\n",
       "    <tr>\n",
       "      <th>2</th>\n",
       "      <td>-0.065110</td>\n",
       "      <td>person_emp_length</td>\n",
       "    </tr>\n",
       "    <tr>\n",
       "      <th>12</th>\n",
       "      <td>-0.037933</td>\n",
       "      <td>loan_intent_MEDICAL</td>\n",
       "    </tr>\n",
       "    <tr>\n",
       "      <th>6</th>\n",
       "      <td>-0.019490</td>\n",
       "      <td>cb_person_cred_hist_length</td>\n",
       "    </tr>\n",
       "    <tr>\n",
       "      <th>0</th>\n",
       "      <td>-0.005929</td>\n",
       "      <td>person_age</td>\n",
       "    </tr>\n",
       "    <tr>\n",
       "      <th>11</th>\n",
       "      <td>0.046729</td>\n",
       "      <td>loan_intent_HOMEIMPROVEMENT</td>\n",
       "    </tr>\n",
       "    <tr>\n",
       "      <th>15</th>\n",
       "      <td>0.077367</td>\n",
       "      <td>cb_person_default_on_file_Y</td>\n",
       "    </tr>\n",
       "    <tr>\n",
       "      <th>7</th>\n",
       "      <td>0.264983</td>\n",
       "      <td>person_home_ownership_Rent</td>\n",
       "    </tr>\n",
       "    <tr>\n",
       "      <th>4</th>\n",
       "      <td>0.811922</td>\n",
       "      <td>loan_int_rate</td>\n",
       "    </tr>\n",
       "    <tr>\n",
       "      <th>5</th>\n",
       "      <td>1.058304</td>\n",
       "      <td>loan_percent_income</td>\n",
       "    </tr>\n",
       "  </tbody>\n",
       "</table>\n",
       "</div>"
      ],
      "text/plain": [
       "        coef                             var\n",
       "9  -0.389894       person_home_ownership_OWN\n",
       "3  -0.338557                       loan_amnt\n",
       "14 -0.309710             loan_intent_VENTURE\n",
       "10 -0.247763           loan_intent_EDUCATION\n",
       "13 -0.176039            loan_intent_PERSONAL\n",
       "1  -0.148036                   person_income\n",
       "8  -0.097901  person_home_ownership_MORTGAGE\n",
       "2  -0.065110               person_emp_length\n",
       "12 -0.037933             loan_intent_MEDICAL\n",
       "6  -0.019490      cb_person_cred_hist_length\n",
       "0  -0.005929                      person_age\n",
       "11  0.046729     loan_intent_HOMEIMPROVEMENT\n",
       "15  0.077367     cb_person_default_on_file_Y\n",
       "7   0.264983      person_home_ownership_Rent\n",
       "4   0.811922                   loan_int_rate\n",
       "5   1.058304             loan_percent_income"
      ]
     },
     "execution_count": 257,
     "metadata": {},
     "output_type": "execute_result"
    }
   ],
   "source": [
    "DataFrame(data={'coef':reg.coef_.ravel(),'var':reg.feature_names_in_.ravel()}).sort_values(by='coef')"
   ]
  },
  {
   "cell_type": "markdown",
   "id": "494b7a8a-17e0-4c03-8864-3fd8125e24d6",
   "metadata": {},
   "source": [
    "It seems like *loan percent income* is the most significant variable in predicting default. It's absolutely making sense. The loan amount has to be in corelation to the income, so if you give a high loan to a customer with low income there is a higher risk of default. \n",
    "\n",
    "*loan interest rate* is the second significant variable in predicting default. It's a bit tricky, because the interest rate is a decision of\n",
    "the bank and not an attribute of the customer. So I'm not sure that I would use this variable for credit scoring because I don't feel that it gives me much more information\n",
    "that I haven't known already.\n",
    "However, It is nice to know that there is a high positive correlation between interest rates and risk levels."
   ]
  },
  {
   "cell_type": "markdown",
   "id": "a5ba9361-941a-4059-b644-447b8dfd9307",
   "metadata": {},
   "source": [
    "The two most significant variables with negative influence on the probability of default are *loan amount* and *person_home_ownership_OWN*.\n",
    "\n",
    "\n",
    "It makes sense that higher *loan amount* can predict lower probability of default, because I believe that less-risky customers naturally get higher amounts. On the other hand, maybe higher amounts mean the customer is more likely to have problems in paying the debt. So it seems that this variable can have both positive effect and negative effect but the negative effect is more significant. Again, I'm not sure it's a good idea to use our past decisions (whether it's loan amount or interest rate) as input variables for the model.\n",
    "\n",
    "*person_home_ownership_OWN* also makes sense to have negative effect on probability of default, because a person who owns a home tends to be wealthier and also has the option to sell assets and use the profit to pay the debt."
   ]
  },
  {
   "cell_type": "code",
   "execution_count": null,
   "id": "fec75bbf-d939-4bd3-bfc1-141e8fd515c1",
   "metadata": {},
   "outputs": [],
   "source": []
  },
  {
   "cell_type": "code",
   "execution_count": null,
   "id": "f2fdeace-6f0d-4dfd-84be-23a7ef558266",
   "metadata": {},
   "outputs": [],
   "source": []
  }
 ],
 "metadata": {
  "kernelspec": {
   "display_name": "Python 3 (ipykernel)",
   "language": "python",
   "name": "python3"
  },
  "language_info": {
   "codemirror_mode": {
    "name": "ipython",
    "version": 3
   },
   "file_extension": ".py",
   "mimetype": "text/x-python",
   "name": "python",
   "nbconvert_exporter": "python",
   "pygments_lexer": "ipython3",
   "version": "3.9.16"
  },
  "widgets": {
   "application/vnd.jupyter.widget-state+json": {
    "state": {},
    "version_major": 2,
    "version_minor": 0
   }
  }
 },
 "nbformat": 4,
 "nbformat_minor": 5
}
